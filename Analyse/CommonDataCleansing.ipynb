{
 "cells": [
  {
   "cell_type": "code",
   "execution_count": null,
   "id": "6c07ef77",
   "metadata": {},
   "outputs": [],
   "source": [
    "import pandas as pd\n",
    "import glob\n",
    "from azure.storage.blob.blockblobservice import BlockBlobService\n",
    "import matplotlib.pyplot as plt\n",
    "import numpy as np\n",
    "\n",
    "pd.__version__"
   ]
  },
  {
   "cell_type": "markdown",
   "id": "4e66053b",
   "metadata": {},
   "source": [
    "## Data download"
   ]
  },
  {
   "cell_type": "markdown",
   "id": "bcb09512",
   "metadata": {},
   "source": [
    "Die gesammelten Daten befinden sich in der Azure Cloud, im Azure Storage Blob Format. Dabei enhält jede Datei einen 10 sekündigen Ausschnitt der Daten im CSV Format.\n",
    "\n",
    "In Folge werden die einzelnen Dateien heruntergeladen und in eine temporäre CSV Datei test.csv geschrieben."
   ]
  },
  {
   "cell_type": "code",
   "execution_count": null,
   "id": "ea7c3a05",
   "metadata": {},
   "outputs": [],
   "source": [
    "block_blob_service = BlockBlobService(account_name='activityprofiles', account_key='vx5JFWqh2ajuF6iQey3xj0o3BJ0o2EZaPxtS1ME28a/9y1+e06SYXnYWoMqhh4OaY5ZRf4wKmZXgJf3im0Bmuw==')\n",
    "\n",
    "generator = block_blob_service.list_blobs('app')\n",
    "\n",
    "fp = open('test.csv', 'bw')\n",
    "\n",
    "for blob in generator:\n",
    "    # Using `get_blob_to_bytes`\n",
    "    b = block_blob_service.get_blob_to_bytes('app', blob.name)\n",
    "    fp.write(b.content)\n",
    "    # Or using `get_blob_to_stream`\n",
    "    # service.get_blob_to_stream(container_name, blob.name, fp)\n",
    "\n",
    "fp.flush()\n",
    "fp.close()"
   ]
  },
  {
   "cell_type": "markdown",
   "id": "5c2defff",
   "metadata": {},
   "source": [
    "## Data cleaning"
   ]
  },
  {
   "cell_type": "code",
   "execution_count": null,
   "id": "2a45392a",
   "metadata": {},
   "outputs": [],
   "source": [
    "lengths = []\n",
    "file = open(\"test.csv\")\n",
    "lines = file.readlines()\n",
    "file.close()\n",
    "\n",
    "for line in lines:\n",
    "    elements = line.split(\",\")\n",
    "    lengths.append(len(elements))\n",
    "\n",
    "pd.Series(lengths).value_counts()"
   ]
  },
  {
   "cell_type": "markdown",
   "id": "86ae1712",
   "metadata": {},
   "source": [
    "Nach dem Einlesen der temporären CSV-Datei, muss ein erstes Problem behandelt werden. Es existieren CSV Zeilen, welche die Dezimalstellen der Sensorwerte mit ',' anstatt '.' trennten. Da wir dieses Zeichen ebenfalls zur Trennung der CSV Einträge nutzten, existieren nun Zeilen mit 33 Elemente anstatt 18. Das Problem könnte durch Spracheinstellungen oder Einstellungen des Smartphone Herstellers verursacht worden sein. Da nur wenige Werte mit 32 Elementen existieren, werden diese ignoriert.\n",
    "\n",
    "Das Problem wurde bei Daten des Android Gerätes von Flavio festgestellt. Um es zu beheben, werden die betroffenen Kommas in folgendem Code durch Punkte ersetzt."
   ]
  },
  {
   "cell_type": "code",
   "execution_count": null,
   "id": "0d351e6f",
   "metadata": {},
   "outputs": [],
   "source": [
    "# convert 32 to 18 length\n",
    "def bad_line_handler(bad_line):\n",
    "    elements = bad_line[:3]\n",
    "    for i in range(0, len(bad_line[3:]), 2):\n",
    "        elements.append(f\"{bad_line[i+3]}.{bad_line[i+4]}\")\n",
    "    return elements\n",
    "\n",
    "lines_ignored = 0\n",
    "lines_new = []\n",
    "\n",
    "# convert 33 elements to 18, drop 32\n",
    "for i, line in enumerate(lines):\n",
    "    elements = lines[i].split(\",\")\n",
    "    if(len(elements) == 18):\n",
    "        lines_new.append(line)\n",
    "    elif(len(elements) == 33):\n",
    "        correct_line = bad_line_handler(elements)\n",
    "        lines_new.append(str.join(\",\", correct_line))\n",
    "    elif(len(elements) == 32):\n",
    "        # other invalid format, ignore line\n",
    "        lines_ignored += 1\n",
    "        pass\n",
    "    else:\n",
    "        raise (f\"ERROR: unknown error at line {i}\")\n",
    "\n",
    "print(f\"{lines_ignored} Zeilen wurden ignoriert.\")\n",
    "print(f\"{len(lines_new)} Zeilen sind nun verfügbar.\")"
   ]
  },
  {
   "cell_type": "markdown",
   "id": "b52c211d",
   "metadata": {},
   "source": [
    "Die reparierten CSV Daten werden nun wieder in die temporäre CSV Datei geschrieben, deren Inhalt wird ersetzt."
   ]
  },
  {
   "cell_type": "code",
   "execution_count": null,
   "id": "028e944b",
   "metadata": {},
   "outputs": [],
   "source": [
    "file = open(\"test.csv\", \"w\")\n",
    "file.writelines(lines_new)\n",
    "file.close()\n",
    "\n",
    "del lines\n",
    "del lines_new"
   ]
  },
  {
   "cell_type": "markdown",
   "id": "31379306",
   "metadata": {},
   "source": [
    "Die reparierte CSV Datei wird nun wieder eingelesen, diesmal als Pandas DataFrame. Weiter wird der Header der Daten hinzugefügt."
   ]
  },
  {
   "cell_type": "code",
   "execution_count": null,
   "id": "c9937cfb",
   "metadata": {},
   "outputs": [],
   "source": [
    "df = pd.read_csv('test.csv', index_col=False, header=None) #engine=\"python\", on_bad_lines=bad_line_handler\n",
    "df.columns = ['time','name','activity','acc_x','acc_y','acc_z','mag_x','mag_y','mag_z','gyr_x','gyr_y','gyr_z','ori_x','ori_y','ori_z','ori_w','lat','long']\n",
    "\n",
    "print(df.shape)"
   ]
  },
  {
   "cell_type": "code",
   "execution_count": null,
   "id": "2cfd6581",
   "metadata": {},
   "outputs": [],
   "source": [
    " # drop test entry\n",
    " df_clean = df.loc[df['time'] != 'Test04.03.2022 07:48:54.917', :]"
   ]
  },
  {
   "cell_type": "markdown",
   "id": "0c9e5a76",
   "metadata": {},
   "source": [
    "Ein Eintrag musste entfernt werden, welcher ganz zu Beginn den Weg in die Datenbasis gefunden hat. Damit kann time in ein DateTime Objekt konvertiert werden. Dies nimmt bei dieser Anzahl Datenpunkten einige Zeit in Anspruch."
   ]
  },
  {
   "cell_type": "code",
   "execution_count": null,
   "id": "aaa86592",
   "metadata": {},
   "outputs": [],
   "source": [
    "# convert datetime format, yess this takes 5 min. :/\n",
    "df_clean.loc[:, 'time'] = pd.to_datetime(df_clean.loc[:, 'time'] + \"000\") # format=\"%d.%m.%Y %H:%M.%S.%f\""
   ]
  },
  {
   "cell_type": "markdown",
   "id": "849d5799",
   "metadata": {},
   "source": [
    "Als Nächstes werden alle Daten von dem 03.03.2022 gelöscht. Vor diesem Datum hatte die App einen Bug, welcher die Sensordaten verfälschte. "
   ]
  },
  {
   "cell_type": "code",
   "execution_count": null,
   "id": "395fec15",
   "metadata": {},
   "outputs": [],
   "source": [
    "# drop all data before 3.3.2022, because of incorrect data loading\n",
    "df_clean = df_clean[df_clean['time'] > pd.to_datetime('03.03.2022 08:00:00')]"
   ]
  },
  {
   "cell_type": "code",
   "execution_count": null,
   "id": "7f5587b1",
   "metadata": {},
   "outputs": [],
   "source": [
    "np.array(df_clean['name'].unique())"
   ]
  },
  {
   "cell_type": "code",
   "execution_count": null,
   "id": "2682b9af",
   "metadata": {},
   "outputs": [],
   "source": [
    "df_clean['name'].value_counts()[0:10]"
   ]
  },
  {
   "cell_type": "markdown",
   "id": "6995714c",
   "metadata": {},
   "source": [
    "Die Eigenschaft \"name\" wird in der App als Freitext gesetzt. Wie man hier sehen kann, sind dabei sehr spezielle Namen eingetragen worden. Da diese Werte nur sehr selten vorgekommen sind, werden diese im Anschluss entfernt."
   ]
  },
  {
   "cell_type": "code",
   "execution_count": null,
   "id": "57667bb4",
   "metadata": {},
   "outputs": [],
   "source": [
    "# drop invalid user\n",
    "df_clean = df_clean[(df_clean['name'].isin(['Raphi', 'pascal', 'Flavio', 'Ronny', 'Simon']))]"
   ]
  },
  {
   "cell_type": "markdown",
   "id": "40b010dc",
   "metadata": {},
   "source": [
    "Das neue Dataframe wird nun gespeichert."
   ]
  },
  {
   "cell_type": "code",
   "execution_count": null,
   "id": "c20817c1",
   "metadata": {},
   "outputs": [],
   "source": [
    "df_clean.to_csv(\"df_clean.csv\")\n",
    "\n",
    "del df"
   ]
  },
  {
   "cell_type": "markdown",
   "id": "717df001",
   "metadata": {},
   "source": [
    "## Data visualization"
   ]
  },
  {
   "cell_type": "code",
   "execution_count": null,
   "id": "ff4254e3",
   "metadata": {},
   "outputs": [],
   "source": [
    "df_clean = pd.read_csv(\"df_clean.csv\")\n",
    "df_clean.shape"
   ]
  },
  {
   "cell_type": "code",
   "execution_count": null,
   "id": "4e43cbcd",
   "metadata": {},
   "outputs": [],
   "source": [
    "df_clean['activity'].value_counts().plot(kind='bar', title='Sensor readings per Activity', xlabel='Activity', ylabel='Number of sensor readings in Dataframe', figsize=(15, 5))\n",
    "plt.show()"
   ]
  },
  {
   "cell_type": "markdown",
   "id": "85a8946f",
   "metadata": {},
   "source": [
    "In dieser Darstellung ist dargstellt, wie häufig die einzelnen Aktivitäten im Datensatz vorkommen. In Folge sind die Anzahl Einträge noch in numerischer Form dargestellt."
   ]
  },
  {
   "cell_type": "code",
   "execution_count": null,
   "id": "a922788e",
   "metadata": {},
   "outputs": [],
   "source": [
    "df_clean['activity'].value_counts()"
   ]
  },
  {
   "cell_type": "code",
   "execution_count": null,
   "id": "8e51cfa6",
   "metadata": {},
   "outputs": [],
   "source": [
    "n = np.arange(len(df_clean['activity'].unique()))\n",
    "\n",
    "fig, ax = plt.subplots(figsize=(22, 5))\n",
    "names = []\n",
    "for i, name in enumerate(df_clean['name'].unique()):\n",
    "    ax.bar(n + (i/len(df_clean['name'].unique())/2 - 0.25), df_clean.loc[df_clean['name'] == name, 'activity'].value_counts().reindex(df_clean['activity'].unique(), fill_value=0), width=0.1)\n",
    "    names.append(name)\n",
    "\n",
    "# minline: 2h/5=24min, 1440s per person, 20meas/sec -> 28'800 measurements\n",
    "plt.xticks(n, list(df_clean['activity'].unique()), rotation=45)\n",
    "plt.legend(names)\n",
    "ax.hlines(y=28800, xmin=-0.5, xmax=6.5, colors='green')\n",
    "ax.set_title(\"Sensor Readings per Acitivity per Person\")\n",
    "ax.set_xlabel(\"Activity\")\n",
    "ax.set_ylabel(\"Sensor Readings per Activity per Person\")\n",
    "#plt.legend(a[1].unique())\n",
    "plt.plot()"
   ]
  },
  {
   "cell_type": "markdown",
   "id": "b684487f",
   "metadata": {},
   "source": [
    "In dieser Darstellung sind die gemessenen Sensor Readings pro Aktivität je Person dargestellt. Im Challangekonzept wurde definiert, dass jede Person mindestens 20 Minuten jeder Aktivität aufzuzeichnen soll. Diese Grenze ist als grüne horizontale Linie eingezeichnet und diente uns zur Überprüfung, ob genügend Daten gesammelt wurden.\n",
    "\n",
    "Die Anforderung konnte in der Aktivität \"Elevatoring\" von drei Personen nicht erfüllt werden. Im Lift war häufig das Senden der Daten nicht möglich, da keine Internetverbindung bestand. Da das autmatische Resending der App nicht wirklich funktionierte, wurden die Daten häufig nicht gepseichert. Wir waren uns dieser Einschränkung bewusst und definierten mit den vorhandenen Daten weiterzuarbeiten."
   ]
  },
  {
   "cell_type": "markdown",
   "id": "2272d461",
   "metadata": {},
   "source": [
    "### Datenexploration"
   ]
  },
  {
   "cell_type": "markdown",
   "id": "6795e0f2",
   "metadata": {},
   "source": [
    "In diesen Darstellungen werden die gemessenen Koordinaten des GPS Signals visualisiert."
   ]
  },
  {
   "cell_type": "code",
   "execution_count": null,
   "id": "e5e357c5",
   "metadata": {},
   "outputs": [],
   "source": [
    "# coordinates visualization\n",
    "fig, ax = plt.subplots(figsize=(15, 5))\n",
    "ax.scatter(df_clean['lat'].values, df_clean['long'].values)\n",
    "ax.set_title(\"Koordinatenwerte\")\n",
    "ax.set_xlabel(\"Breitengrade\")\n",
    "ax.set_ylabel(\"Längengrade\")\n",
    "plt.show()"
   ]
  },
  {
   "cell_type": "code",
   "execution_count": null,
   "id": "e56d1a47",
   "metadata": {},
   "outputs": [],
   "source": [
    "fig, ax = plt.subplots(figsize=(22, 5))\n",
    "ax.plot(df_clean.loc[(df_clean['name'] == 'pascal') & (df_clean['activity'] == 'Stairway'), ['mag_x', 'mag_y', 'mag_z']])\n",
    "ax.set_title(\"Magnetometer Streppensteigen über Zeit [Pascal]\")\n",
    "ax.set_ylabel(\"Sensorwert\")\n",
    "ax.set_xlabel(\"Index Messwert\")\n",
    "plt.show()"
   ]
  },
  {
   "cell_type": "markdown",
   "id": "1e8f9806",
   "metadata": {},
   "source": [
    "In dieser Darstellung sind Daten vom Treppensteigen des Magnetometers über die Zeit visualisiert. "
   ]
  },
  {
   "cell_type": "code",
   "execution_count": null,
   "id": "3bd3e4dc",
   "metadata": {},
   "outputs": [],
   "source": [
    "fig, ax = plt.subplots(figsize=(22, 5))\n",
    "ax.plot(df_clean.loc[(df_clean['name'] == 'pascal') & (df_clean['activity'] == 'Elevatoring'), ['mag_x', 'mag_y', 'mag_z']])\n",
    "ax.set_title(\"Magnetometer Liftfahren über Zeit [Pascal]\")\n",
    "ax.set_ylabel(\"Sensorwert\")\n",
    "ax.set_xlabel(\"Index Messwert\")\n",
    "plt.show()"
   ]
  },
  {
   "cell_type": "markdown",
   "id": "f08f26b0",
   "metadata": {},
   "source": [
    "In dieser Darstellung sind Daten des Magnetometers vom Liftfahren visualisiert. Bemerkenswert ist der Unterschied der Bewegungsprofile."
   ]
  }
 ],
 "metadata": {
  "kernelspec": {
   "display_name": "Python 3.9.2 ('activity_tracker-0ifd5SZO')",
   "language": "python",
   "name": "python3"
  },
  "language_info": {
   "codemirror_mode": {
    "name": "ipython",
    "version": 3
   },
   "file_extension": ".py",
   "mimetype": "text/x-python",
   "name": "python",
   "nbconvert_exporter": "python",
   "pygments_lexer": "ipython3",
   "version": "3.9.2"
  },
  "vscode": {
   "interpreter": {
    "hash": "454089997af1e1a19e9222ff957dd2bb4027d591c8912cf56b43efe94eb9c810"
   }
  }
 },
 "nbformat": 4,
 "nbformat_minor": 5
}
