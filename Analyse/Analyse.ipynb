{
 "cells": [
  {
   "cell_type": "code",
   "execution_count": null,
   "id": "6c07ef77",
   "metadata": {},
   "outputs": [],
   "source": [
    "import pandas as pd\n",
    "import glob\n",
    "from azure.storage.blob.blockblobservice import BlockBlobService\n",
    "import matplotlib.pyplot as plt\n",
    "import numpy as np\n",
    "\n",
    "pd.__version__"
   ]
  },
  {
   "cell_type": "markdown",
   "id": "4e66053b",
   "metadata": {},
   "source": [
    "## Data download"
   ]
  },
  {
   "cell_type": "code",
   "execution_count": null,
   "id": "ea7c3a05",
   "metadata": {},
   "outputs": [],
   "source": [
    "block_blob_service = BlockBlobService(account_name='activityprofiles', account_key='vx5JFWqh2ajuF6iQey3xj0o3BJ0o2EZaPxtS1ME28a/9y1+e06SYXnYWoMqhh4OaY5ZRf4wKmZXgJf3im0Bmuw==')\n",
    "\n",
    "generator = block_blob_service.list_blobs('app')\n",
    "\n",
    "fp = open('test.csv', 'bw')\n",
    "\n",
    "for blob in generator:\n",
    "    # Using `get_blob_to_bytes`\n",
    "    b = block_blob_service.get_blob_to_bytes('app', blob.name)\n",
    "    fp.write(b.content)\n",
    "    # Or using `get_blob_to_stream`\n",
    "    # service.get_blob_to_stream(container_name, blob.name, fp)\n",
    "\n",
    "fp.flush()\n",
    "fp.close()"
   ]
  },
  {
   "cell_type": "markdown",
   "id": "5c2defff",
   "metadata": {},
   "source": [
    "## Data cleaning"
   ]
  },
  {
   "cell_type": "code",
   "execution_count": null,
   "id": "2a45392a",
   "metadata": {},
   "outputs": [],
   "source": [
    "lengths = []\n",
    "file = open(\"test.csv\")\n",
    "lines = file.readlines()\n",
    "file.close()\n",
    "\n",
    "for line in lines:\n",
    "    elements = line.split(\",\")\n",
    "    lengths.append(len(elements))\n",
    "\n",
    "pd.Series(lengths).value_counts()"
   ]
  },
  {
   "cell_type": "code",
   "execution_count": null,
   "id": "0d351e6f",
   "metadata": {},
   "outputs": [],
   "source": [
    "# convert 32 to 18 length\n",
    "def bad_line_handler(bad_line):\n",
    "    elements = bad_line[:3]\n",
    "    for i in range(0, len(bad_line[3:]), 2):\n",
    "        elements.append(f\"{bad_line[i+3]}.{bad_line[i+4]}\")\n",
    "    return elements\n",
    "\n",
    "# test\n",
    "correct_line = bad_line_handler(\"22.03.2022 20:19:37.872,Flavio,Bicycling,0,3985294,-0,9182853,0,3608138,5,368,45,445,7,2712,0,1343864,2,928402,-0,6817055,-0,5596727,-0,4046215,0,2832775,0,6654648,47,47692593,8,21402806\".split(\",\"))\n",
    "print(len(correct_line))\n",
    "\n",
    "lines_new = []\n",
    "\n",
    "# convert 32 elements to 18, drop 31\n",
    "for i, line in enumerate(lines):\n",
    "    elements = lines[i].split(\",\")\n",
    "    if(len(elements) == 18):\n",
    "        lines_new.append(line)\n",
    "    elif(len(elements) == 33):\n",
    "        correct_line = bad_line_handler(elements)\n",
    "        lines_new.append(str.join(\",\", correct_line))\n",
    "    elif(len(elements) == 32):\n",
    "        pass\n",
    "    else:\n",
    "        raise (f\"ERROR: unknown error at line {i}\")\n",
    "\n",
    "print(len(lines_new))"
   ]
  },
  {
   "cell_type": "code",
   "execution_count": null,
   "id": "028e944b",
   "metadata": {},
   "outputs": [],
   "source": [
    "file = open(\"test.csv\", \"w\")\n",
    "file.writelines(lines_new)\n",
    "file.close()\n",
    "\n",
    "del lines\n",
    "del lines_new"
   ]
  },
  {
   "cell_type": "code",
   "execution_count": null,
   "id": "c9937cfb",
   "metadata": {},
   "outputs": [],
   "source": [
    "df = pd.read_csv('test.csv', index_col=False, header=None) #engine=\"python\", on_bad_lines=bad_line_handler\n",
    "df.columns = ['time','name','activity','acc_x','acc_y','acc_z','mag_x','mag_y','mag_z','gyr_x','gyr_y','gyr_z','ori_x','ori_y','ori_z','ori_w','lat','long']\n",
    "print(df.shape)\n",
    "df"
   ]
  },
  {
   "cell_type": "code",
   "execution_count": null,
   "id": "2cfd6581",
   "metadata": {},
   "outputs": [],
   "source": [
    " # drop test entry\n",
    " df_clean = df.loc[df['time'] != 'Test04.03.2022 07:48:54.917', :]"
   ]
  },
  {
   "cell_type": "code",
   "execution_count": null,
   "id": "aaa86592",
   "metadata": {},
   "outputs": [],
   "source": [
    "# convert datetime format, yess this takes 5 min. :/\n",
    "df_clean.loc[:, 'time'] = pd.to_datetime(df_clean.loc[:, 'time'] + \"000\") # format=\"%d.%m.%Y %H:%M.%S.%f\""
   ]
  },
  {
   "cell_type": "code",
   "execution_count": null,
   "id": "395fec15",
   "metadata": {},
   "outputs": [],
   "source": [
    "# drop all data before 3.3.2022, because of incorrect data loading\n",
    "df_clean = df_clean[df_clean['time'] > pd.to_datetime('03.03.2022 08:00:00')]"
   ]
  },
  {
   "cell_type": "code",
   "execution_count": null,
   "id": "7f5587b1",
   "metadata": {},
   "outputs": [],
   "source": [
    "df_clean['name'].unique()"
   ]
  },
  {
   "cell_type": "code",
   "execution_count": null,
   "id": "57667bb4",
   "metadata": {},
   "outputs": [],
   "source": [
    "# drop invalid user\n",
    "df_clean = df_clean[(df_clean['name'].isin(['Raphi', 'pascal', 'Flavio', 'Ronny', 'Simon']))]"
   ]
  },
  {
   "cell_type": "code",
   "execution_count": null,
   "id": "c20817c1",
   "metadata": {},
   "outputs": [],
   "source": [
    "df_clean.to_csv(\"df_clean.csv\")"
   ]
  },
  {
   "cell_type": "code",
   "execution_count": null,
   "id": "e172f699",
   "metadata": {},
   "outputs": [],
   "source": [
    "del df"
   ]
  },
  {
   "cell_type": "markdown",
   "id": "717df001",
   "metadata": {},
   "source": [
    "## Data vlisualization"
   ]
  },
  {
   "cell_type": "code",
   "execution_count": null,
   "id": "ff4254e3",
   "metadata": {},
   "outputs": [],
   "source": [
    "df_clean = pd.read_csv(\"df_clean.csv\")\n",
    "df_clean.shape"
   ]
  },
  {
   "cell_type": "code",
   "execution_count": null,
   "id": "4e43cbcd",
   "metadata": {},
   "outputs": [],
   "source": [
    "df_clean['activity'].value_counts().plot(kind='bar')\n",
    "plt.show()"
   ]
  },
  {
   "cell_type": "code",
   "execution_count": null,
   "id": "a922788e",
   "metadata": {},
   "outputs": [],
   "source": [
    "df_clean['activity'].value_counts()"
   ]
  },
  {
   "cell_type": "code",
   "execution_count": null,
   "id": "8e51cfa6",
   "metadata": {},
   "outputs": [],
   "source": [
    "n = np.arange(len(df_clean['activity'].unique()))\n",
    "\n",
    "fig, ax = plt.subplots(figsize=(22, 5))\n",
    "names = []\n",
    "for i, name in enumerate(df_clean['name'].unique()):\n",
    "    ax.bar(n + (i/len(df_clean['name'].unique())/2 - 0.25), df_clean.loc[df_clean['name'] == name, 'activity'].value_counts().reindex(df_clean['activity'].unique(), fill_value=0), width=0.1)\n",
    "    names.append(name)\n",
    "\n",
    "# minline: 2h/5=24min, 1440s per person, 20meas/sec -> 28'800 measurements\n",
    "plt.xticks(n, list(df_clean['activity'].unique()), rotation=45)\n",
    "plt.legend(names)\n",
    "ax.hlines(y=28800, xmin=-0.5, xmax=6.5, colors='green')\n",
    "#plt.legend(a[1].unique())\n",
    "plt.plot()"
   ]
  },
  {
   "cell_type": "code",
   "execution_count": null,
   "id": "e5e357c5",
   "metadata": {},
   "outputs": [],
   "source": [
    "# coordinates visualization\n",
    "fig, ax = plt.subplots(figsize=(15, 5))\n",
    "ax.scatter(df_clean['lat'].values, df_clean['long'].values)\n",
    "#ax.hist(a[17].value_counts(), bins=50)\n",
    "plt.show()"
   ]
  },
  {
   "cell_type": "code",
   "execution_count": null,
   "id": "e56d1a47",
   "metadata": {},
   "outputs": [],
   "source": [
    "fig, ax = plt.subplots(figsize=(22, 5))\n",
    "ax.plot(df_clean.loc[(df_clean['name'] == 'pascal') & (df_clean['activity'] == 'Stairway'), ['mag_x', 'mag_y', 'mag_z']])\n",
    "plt.show()"
   ]
  },
  {
   "cell_type": "code",
   "execution_count": null,
   "id": "3bd3e4dc",
   "metadata": {},
   "outputs": [],
   "source": [
    "fig, ax = plt.subplots(figsize=(22, 5))\n",
    "ax.plot(df_clean.loc[(df_clean['name'] == 'pascal') & (df_clean['activity'] == 'Elevatoring'), ['mag_x', 'mag_y', 'mag_z']])\n",
    "plt.show()"
   ]
  }
 ],
 "metadata": {
  "kernelspec": {
   "display_name": "Python 3 (ipykernel)",
   "language": "python",
   "name": "python3"
  },
  "language_info": {
   "codemirror_mode": {
    "name": "ipython",
    "version": 3
   },
   "file_extension": ".py",
   "mimetype": "text/x-python",
   "name": "python",
   "nbconvert_exporter": "python",
   "pygments_lexer": "ipython3",
   "version": "3.9.4"
  }
 },
 "nbformat": 4,
 "nbformat_minor": 5
}
