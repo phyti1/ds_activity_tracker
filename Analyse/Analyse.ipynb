{
 "cells": [
  {
   "cell_type": "code",
   "execution_count": 200,
   "id": "6c07ef77",
   "metadata": {},
   "outputs": [],
   "source": [
    "import pandas as pd\n",
    "import glob\n",
    "from azure.storage.blob.blockblobservice import BlockBlobService\n",
    "import matplotlib.pyplot as plt\n",
    "import numpy as np"
   ]
  },
  {
   "cell_type": "markdown",
   "id": "4e66053b",
   "metadata": {},
   "source": [
    "## Data download"
   ]
  },
  {
   "cell_type": "code",
   "execution_count": 240,
   "id": "ea7c3a05",
   "metadata": {},
   "outputs": [
    {
     "name": "stderr",
     "output_type": "stream",
     "text": [
      "Client-Request-ID=bd4db812-a1f8-11ec-99e1-000e7b3386f5 Retry policy did not allow for a retry: Server-Timestamp=Sat, 12 Mar 2022 11:37:04 GMT, Server-Request-ID=c0ce38e7-d01e-004d-5705-36cd06000000, HTTP status code=416, Exception=The range specified is invalid for the current size of the resource. ErrorCode: InvalidRange<?xml version=\"1.0\" encoding=\"utf-8\"?><Error><Code>InvalidRange</Code><Message>The range specified is invalid for the current size of the resource.RequestId:c0ce38e7-d01e-004d-5705-36cd06000000Time:2022-03-12T11:37:04.9476297Z</Message></Error>.\n",
      "Client-Request-ID=c15ab75c-a1f8-11ec-b79b-000e7b3386f5 Retry policy did not allow for a retry: Server-Timestamp=Sat, 12 Mar 2022 11:37:11 GMT, Server-Request-ID=c0ce5950-d01e-004d-3d05-36cd06000000, HTTP status code=416, Exception=The range specified is invalid for the current size of the resource. ErrorCode: InvalidRange<?xml version=\"1.0\" encoding=\"utf-8\"?><Error><Code>InvalidRange</Code><Message>The range specified is invalid for the current size of the resource.RequestId:c0ce5950-d01e-004d-3d05-36cd06000000Time:2022-03-12T11:37:11.7447106Z</Message></Error>.\n",
      "Client-Request-ID=c4bb019d-a1f8-11ec-a3e2-000e7b3386f5 Retry policy did not allow for a retry: Server-Timestamp=Sat, 12 Mar 2022 11:37:17 GMT, Server-Request-ID=c0ce7212-d01e-004d-3105-36cd06000000, HTTP status code=416, Exception=The range specified is invalid for the current size of the resource. ErrorCode: InvalidRange<?xml version=\"1.0\" encoding=\"utf-8\"?><Error><Code>InvalidRange</Code><Message>The range specified is invalid for the current size of the resource.RequestId:c0ce7212-d01e-004d-3105-36cd06000000Time:2022-03-12T11:37:17.4094443Z</Message></Error>.\n",
      "Client-Request-ID=ca6e711b-a1f8-11ec-ab89-000e7b3386f5 Retry policy did not allow for a retry: Server-Timestamp=Sat, 12 Mar 2022 11:37:26 GMT, Server-Request-ID=c0ce9c5f-d01e-004d-3305-36cd06000000, HTTP status code=416, Exception=The range specified is invalid for the current size of the resource. ErrorCode: InvalidRange<?xml version=\"1.0\" encoding=\"utf-8\"?><Error><Code>InvalidRange</Code><Message>The range specified is invalid for the current size of the resource.RequestId:c0ce9c5f-d01e-004d-3305-36cd06000000Time:2022-03-12T11:37:26.9739291Z</Message></Error>.\n",
      "Client-Request-ID=cdb84197-a1f8-11ec-8c9a-000e7b3386f5 Retry policy did not allow for a retry: Server-Timestamp=Sat, 12 Mar 2022 11:37:32 GMT, Server-Request-ID=c0ceb59b-d01e-004d-4a05-36cd06000000, HTTP status code=416, Exception=The range specified is invalid for the current size of the resource. ErrorCode: InvalidRange<?xml version=\"1.0\" encoding=\"utf-8\"?><Error><Code>InvalidRange</Code><Message>The range specified is invalid for the current size of the resource.RequestId:c0ceb59b-d01e-004d-4a05-36cd06000000Time:2022-03-12T11:37:32.4907485Z</Message></Error>.\n"
     ]
    }
   ],
   "source": [
    "block_blob_service = BlockBlobService(account_name='activityprofiles', account_key='vx5JFWqh2ajuF6iQey3xj0o3BJ0o2EZaPxtS1ME28a/9y1+e06SYXnYWoMqhh4OaY5ZRf4wKmZXgJf3im0Bmuw==')\n",
    "\n",
    "generator = block_blob_service.list_blobs('app')\n",
    "\n",
    "fp = open('test.csv', 'bw')\n",
    "\n",
    "for blob in generator:\n",
    "    # Using `get_blob_to_bytes`\n",
    "    b = block_blob_service.get_blob_to_bytes('app', blob.name)\n",
    "    fp.write(b.content)\n",
    "    # Or using `get_blob_to_stream`\n",
    "    # service.get_blob_to_stream(container_name, blob.name, fp)\n",
    "\n",
    "fp.flush()\n",
    "fp.close()"
   ]
  },
  {
   "cell_type": "markdown",
   "id": "5c2defff",
   "metadata": {},
   "source": [
    "## Data cleaning"
   ]
  },
  {
   "cell_type": "code",
   "execution_count": 241,
   "id": "c9937cfb",
   "metadata": {},
   "outputs": [
    {
     "name": "stdout",
     "output_type": "stream",
     "text": [
      "(267674, 18)\n"
     ]
    },
    {
     "data": {
      "text/html": [
       "<div>\n",
       "<style scoped>\n",
       "    .dataframe tbody tr th:only-of-type {\n",
       "        vertical-align: middle;\n",
       "    }\n",
       "\n",
       "    .dataframe tbody tr th {\n",
       "        vertical-align: top;\n",
       "    }\n",
       "\n",
       "    .dataframe thead th {\n",
       "        text-align: right;\n",
       "    }\n",
       "</style>\n",
       "<table border=\"1\" class=\"dataframe\">\n",
       "  <thead>\n",
       "    <tr style=\"text-align: right;\">\n",
       "      <th></th>\n",
       "      <th>time</th>\n",
       "      <th>name</th>\n",
       "      <th>activity</th>\n",
       "      <th>acc_x</th>\n",
       "      <th>acc_y</th>\n",
       "      <th>acc_z</th>\n",
       "      <th>mag_x</th>\n",
       "      <th>mag_y</th>\n",
       "      <th>mag_z</th>\n",
       "      <th>gyr_x</th>\n",
       "      <th>gyr_y</th>\n",
       "      <th>gyr_z</th>\n",
       "      <th>ori_x</th>\n",
       "      <th>ori_y</th>\n",
       "      <th>ori_z</th>\n",
       "      <th>ori_w</th>\n",
       "      <th>lat</th>\n",
       "      <th>long</th>\n",
       "    </tr>\n",
       "  </thead>\n",
       "  <tbody>\n",
       "    <tr>\n",
       "      <th>0</th>\n",
       "      <td>04.03.2022 11:47:11.212</td>\n",
       "      <td>Raphi</td>\n",
       "      <td>Sitting</td>\n",
       "      <td>-0.091133</td>\n",
       "      <td>0.351148</td>\n",
       "      <td>0.945756</td>\n",
       "      <td>-23.01530</td>\n",
       "      <td>-26.72410</td>\n",
       "      <td>-33.40970</td>\n",
       "      <td>0.047035</td>\n",
       "      <td>-0.022907</td>\n",
       "      <td>0.008399</td>\n",
       "      <td>0.136017</td>\n",
       "      <td>-0.125171</td>\n",
       "      <td>-0.839552</td>\n",
       "      <td>0.510817</td>\n",
       "      <td>47.500155</td>\n",
       "      <td>8.324881</td>\n",
       "    </tr>\n",
       "    <tr>\n",
       "      <th>1</th>\n",
       "      <td>04.03.2022 11:47:11.268</td>\n",
       "      <td>Raphi</td>\n",
       "      <td>Sitting</td>\n",
       "      <td>-0.097963</td>\n",
       "      <td>0.366881</td>\n",
       "      <td>0.898528</td>\n",
       "      <td>-22.97260</td>\n",
       "      <td>-26.59600</td>\n",
       "      <td>-33.26940</td>\n",
       "      <td>-0.050089</td>\n",
       "      <td>-0.041232</td>\n",
       "      <td>-0.025808</td>\n",
       "      <td>0.135422</td>\n",
       "      <td>-0.126965</td>\n",
       "      <td>-0.839437</td>\n",
       "      <td>0.510728</td>\n",
       "      <td>47.500155</td>\n",
       "      <td>8.324881</td>\n",
       "    </tr>\n",
       "    <tr>\n",
       "      <th>2</th>\n",
       "      <td>04.03.2022 11:47:11.326</td>\n",
       "      <td>Raphi</td>\n",
       "      <td>Sitting</td>\n",
       "      <td>-0.114793</td>\n",
       "      <td>0.334654</td>\n",
       "      <td>0.998473</td>\n",
       "      <td>-22.77740</td>\n",
       "      <td>-26.51060</td>\n",
       "      <td>-33.09250</td>\n",
       "      <td>0.150879</td>\n",
       "      <td>-0.098041</td>\n",
       "      <td>0.096972</td>\n",
       "      <td>0.134209</td>\n",
       "      <td>-0.126197</td>\n",
       "      <td>-0.839677</td>\n",
       "      <td>0.510821</td>\n",
       "      <td>47.500155</td>\n",
       "      <td>8.324881</td>\n",
       "    </tr>\n",
       "    <tr>\n",
       "      <th>3</th>\n",
       "      <td>04.03.2022 11:47:11.388</td>\n",
       "      <td>Raphi</td>\n",
       "      <td>Sitting</td>\n",
       "      <td>-0.075767</td>\n",
       "      <td>0.364564</td>\n",
       "      <td>0.886332</td>\n",
       "      <td>-22.94210</td>\n",
       "      <td>-26.77900</td>\n",
       "      <td>-32.94610</td>\n",
       "      <td>0.196082</td>\n",
       "      <td>0.096208</td>\n",
       "      <td>-0.009926</td>\n",
       "      <td>0.134518</td>\n",
       "      <td>-0.133009</td>\n",
       "      <td>-0.839076</td>\n",
       "      <td>0.510125</td>\n",
       "      <td>47.500155</td>\n",
       "      <td>8.324881</td>\n",
       "    </tr>\n",
       "    <tr>\n",
       "      <th>4</th>\n",
       "      <td>04.03.2022 11:47:11.445</td>\n",
       "      <td>Raphi</td>\n",
       "      <td>Sitting</td>\n",
       "      <td>-0.125556</td>\n",
       "      <td>0.378345</td>\n",
       "      <td>0.905358</td>\n",
       "      <td>-23.32640</td>\n",
       "      <td>-27.35240</td>\n",
       "      <td>-32.97050</td>\n",
       "      <td>0.027488</td>\n",
       "      <td>0.019242</td>\n",
       "      <td>0.138510</td>\n",
       "      <td>0.139961</td>\n",
       "      <td>-0.133803</td>\n",
       "      <td>-0.836808</td>\n",
       "      <td>0.512193</td>\n",
       "      <td>47.500155</td>\n",
       "      <td>8.324881</td>\n",
       "    </tr>\n",
       "    <tr>\n",
       "      <th>...</th>\n",
       "      <td>...</td>\n",
       "      <td>...</td>\n",
       "      <td>...</td>\n",
       "      <td>...</td>\n",
       "      <td>...</td>\n",
       "      <td>...</td>\n",
       "      <td>...</td>\n",
       "      <td>...</td>\n",
       "      <td>...</td>\n",
       "      <td>...</td>\n",
       "      <td>...</td>\n",
       "      <td>...</td>\n",
       "      <td>...</td>\n",
       "      <td>...</td>\n",
       "      <td>...</td>\n",
       "      <td>...</td>\n",
       "      <td>...</td>\n",
       "      <td>...</td>\n",
       "    </tr>\n",
       "    <tr>\n",
       "      <th>267669</th>\n",
       "      <td>11.03.2022 14:02:02.426</td>\n",
       "      <td>test</td>\n",
       "      <td>Sitting</td>\n",
       "      <td>-0.282218</td>\n",
       "      <td>0.476336</td>\n",
       "      <td>0.710882</td>\n",
       "      <td>89.17389</td>\n",
       "      <td>32.92236</td>\n",
       "      <td>57.17773</td>\n",
       "      <td>-0.043945</td>\n",
       "      <td>0.154778</td>\n",
       "      <td>-0.014374</td>\n",
       "      <td>0.086396</td>\n",
       "      <td>0.291182</td>\n",
       "      <td>0.641433</td>\n",
       "      <td>0.704430</td>\n",
       "      <td>47.500152</td>\n",
       "      <td>8.324849</td>\n",
       "    </tr>\n",
       "    <tr>\n",
       "      <th>267670</th>\n",
       "      <td>11.03.2022 14:02:02.477</td>\n",
       "      <td>test</td>\n",
       "      <td>Sitting</td>\n",
       "      <td>-0.299881</td>\n",
       "      <td>0.485396</td>\n",
       "      <td>0.895328</td>\n",
       "      <td>89.61105</td>\n",
       "      <td>33.06885</td>\n",
       "      <td>57.10678</td>\n",
       "      <td>-0.078033</td>\n",
       "      <td>-0.059875</td>\n",
       "      <td>0.047409</td>\n",
       "      <td>0.083418</td>\n",
       "      <td>0.288458</td>\n",
       "      <td>0.643018</td>\n",
       "      <td>0.704540</td>\n",
       "      <td>47.500152</td>\n",
       "      <td>8.324849</td>\n",
       "    </tr>\n",
       "    <tr>\n",
       "      <th>267671</th>\n",
       "      <td>11.03.2022 14:02:02.528</td>\n",
       "      <td>test</td>\n",
       "      <td>Sitting</td>\n",
       "      <td>-0.298081</td>\n",
       "      <td>0.468678</td>\n",
       "      <td>0.778852</td>\n",
       "      <td>89.46533</td>\n",
       "      <td>33.02002</td>\n",
       "      <td>57.31964</td>\n",
       "      <td>0.142471</td>\n",
       "      <td>-0.074791</td>\n",
       "      <td>-0.068703</td>\n",
       "      <td>0.085800</td>\n",
       "      <td>0.289604</td>\n",
       "      <td>0.641242</td>\n",
       "      <td>0.705353</td>\n",
       "      <td>47.500152</td>\n",
       "      <td>8.324849</td>\n",
       "    </tr>\n",
       "    <tr>\n",
       "      <th>267672</th>\n",
       "      <td>11.03.2022 14:02:03.688</td>\n",
       "      <td>test</td>\n",
       "      <td>Sitting</td>\n",
       "      <td>-0.289906</td>\n",
       "      <td>0.477403</td>\n",
       "      <td>0.737729</td>\n",
       "      <td>85.97107</td>\n",
       "      <td>38.78174</td>\n",
       "      <td>55.61371</td>\n",
       "      <td>-0.061531</td>\n",
       "      <td>-0.126465</td>\n",
       "      <td>0.012253</td>\n",
       "      <td>0.075200</td>\n",
       "      <td>0.192672</td>\n",
       "      <td>0.674516</td>\n",
       "      <td>0.706957</td>\n",
       "      <td>47.500152</td>\n",
       "      <td>8.324849</td>\n",
       "    </tr>\n",
       "    <tr>\n",
       "      <th>267673</th>\n",
       "      <td>11.03.2022 14:02:03.739</td>\n",
       "      <td>test</td>\n",
       "      <td>Sitting</td>\n",
       "      <td>-0.171965</td>\n",
       "      <td>0.340304</td>\n",
       "      <td>0.872997</td>\n",
       "      <td>84.12628</td>\n",
       "      <td>39.36768</td>\n",
       "      <td>55.47180</td>\n",
       "      <td>-0.043427</td>\n",
       "      <td>-0.036972</td>\n",
       "      <td>0.036758</td>\n",
       "      <td>0.076261</td>\n",
       "      <td>0.183816</td>\n",
       "      <td>0.684694</td>\n",
       "      <td>0.701146</td>\n",
       "      <td>47.500152</td>\n",
       "      <td>8.324849</td>\n",
       "    </tr>\n",
       "  </tbody>\n",
       "</table>\n",
       "<p>267674 rows × 18 columns</p>\n",
       "</div>"
      ],
      "text/plain": [
       "                           time   name activity     acc_x     acc_y     acc_z  \\\n",
       "0       04.03.2022 11:47:11.212  Raphi  Sitting -0.091133  0.351148  0.945756   \n",
       "1       04.03.2022 11:47:11.268  Raphi  Sitting -0.097963  0.366881  0.898528   \n",
       "2       04.03.2022 11:47:11.326  Raphi  Sitting -0.114793  0.334654  0.998473   \n",
       "3       04.03.2022 11:47:11.388  Raphi  Sitting -0.075767  0.364564  0.886332   \n",
       "4       04.03.2022 11:47:11.445  Raphi  Sitting -0.125556  0.378345  0.905358   \n",
       "...                         ...    ...      ...       ...       ...       ...   \n",
       "267669  11.03.2022 14:02:02.426   test  Sitting -0.282218  0.476336  0.710882   \n",
       "267670  11.03.2022 14:02:02.477   test  Sitting -0.299881  0.485396  0.895328   \n",
       "267671  11.03.2022 14:02:02.528   test  Sitting -0.298081  0.468678  0.778852   \n",
       "267672  11.03.2022 14:02:03.688   test  Sitting -0.289906  0.477403  0.737729   \n",
       "267673  11.03.2022 14:02:03.739   test  Sitting -0.171965  0.340304  0.872997   \n",
       "\n",
       "           mag_x     mag_y     mag_z     gyr_x     gyr_y     gyr_z     ori_x  \\\n",
       "0      -23.01530 -26.72410 -33.40970  0.047035 -0.022907  0.008399  0.136017   \n",
       "1      -22.97260 -26.59600 -33.26940 -0.050089 -0.041232 -0.025808  0.135422   \n",
       "2      -22.77740 -26.51060 -33.09250  0.150879 -0.098041  0.096972  0.134209   \n",
       "3      -22.94210 -26.77900 -32.94610  0.196082  0.096208 -0.009926  0.134518   \n",
       "4      -23.32640 -27.35240 -32.97050  0.027488  0.019242  0.138510  0.139961   \n",
       "...          ...       ...       ...       ...       ...       ...       ...   \n",
       "267669  89.17389  32.92236  57.17773 -0.043945  0.154778 -0.014374  0.086396   \n",
       "267670  89.61105  33.06885  57.10678 -0.078033 -0.059875  0.047409  0.083418   \n",
       "267671  89.46533  33.02002  57.31964  0.142471 -0.074791 -0.068703  0.085800   \n",
       "267672  85.97107  38.78174  55.61371 -0.061531 -0.126465  0.012253  0.075200   \n",
       "267673  84.12628  39.36768  55.47180 -0.043427 -0.036972  0.036758  0.076261   \n",
       "\n",
       "           ori_y     ori_z     ori_w        lat      long  \n",
       "0      -0.125171 -0.839552  0.510817  47.500155  8.324881  \n",
       "1      -0.126965 -0.839437  0.510728  47.500155  8.324881  \n",
       "2      -0.126197 -0.839677  0.510821  47.500155  8.324881  \n",
       "3      -0.133009 -0.839076  0.510125  47.500155  8.324881  \n",
       "4      -0.133803 -0.836808  0.512193  47.500155  8.324881  \n",
       "...          ...       ...       ...        ...       ...  \n",
       "267669  0.291182  0.641433  0.704430  47.500152  8.324849  \n",
       "267670  0.288458  0.643018  0.704540  47.500152  8.324849  \n",
       "267671  0.289604  0.641242  0.705353  47.500152  8.324849  \n",
       "267672  0.192672  0.674516  0.706957  47.500152  8.324849  \n",
       "267673  0.183816  0.684694  0.701146  47.500152  8.324849  \n",
       "\n",
       "[267674 rows x 18 columns]"
      ]
     },
     "execution_count": 241,
     "metadata": {},
     "output_type": "execute_result"
    }
   ],
   "source": [
    "df = pd.read_csv('test.csv', index_col=None, header=None)\n",
    "df.columns = ['time','name','activity','acc_x','acc_y','acc_z','mag_x','mag_y','mag_z','gyr_x','gyr_y','gyr_z','ori_x','ori_y','ori_z','ori_w','lat','long']\n",
    "print(df.shape)\n",
    "df"
   ]
  },
  {
   "cell_type": "code",
   "execution_count": 242,
   "id": "2cfd6581",
   "metadata": {},
   "outputs": [],
   "source": [
    " # drop test entry\n",
    " df_clean = df.loc[df['time'] != 'Test04.03.2022 07:48:54.917', :]"
   ]
  },
  {
   "cell_type": "code",
   "execution_count": 243,
   "id": "aaa86592",
   "metadata": {},
   "outputs": [
    {
     "name": "stderr",
     "output_type": "stream",
     "text": [
      "C:\\Users\\Pascal\\.virtualenvs\\git_repo-G3UKNH-B\\lib\\site-packages\\pandas\\core\\indexing.py:1773: SettingWithCopyWarning: \n",
      "A value is trying to be set on a copy of a slice from a DataFrame.\n",
      "Try using .loc[row_indexer,col_indexer] = value instead\n",
      "\n",
      "See the caveats in the documentation: https://pandas.pydata.org/pandas-docs/stable/user_guide/indexing.html#returning-a-view-versus-a-copy\n",
      "  self._setitem_single_column(ilocs[0], value, pi)\n"
     ]
    }
   ],
   "source": [
    "# convert datetime format\n",
    "df_clean.loc[:, 'time'] = pd.to_datetime(df_clean.loc[:, 'time'] + '000')"
   ]
  },
  {
   "cell_type": "code",
   "execution_count": 244,
   "id": "395fec15",
   "metadata": {},
   "outputs": [],
   "source": [
    "# drop all data before 3.3.2022, because of incorrect data loading\n",
    "df_clean = df_clean[df_clean['time'] > pd.to_datetime('03.03.2022 08:00:00')]"
   ]
  },
  {
   "cell_type": "code",
   "execution_count": 270,
   "id": "7f5587b1",
   "metadata": {},
   "outputs": [
    {
     "data": {
      "text/plain": [
       "array(['Raphi', 'pascal', 'Flavio', 'Ronny', 'Simon'], dtype=object)"
      ]
     },
     "execution_count": 270,
     "metadata": {},
     "output_type": "execute_result"
    }
   ],
   "source": [
    "df_clean['name'].unique()"
   ]
  },
  {
   "cell_type": "code",
   "execution_count": 268,
   "id": "57667bb4",
   "metadata": {},
   "outputs": [],
   "source": [
    "# drop invalid user\n",
    "df_clean = df_clean[df_clean['name'] != 'test']"
   ]
  },
  {
   "cell_type": "code",
   "execution_count": 271,
   "id": "c20817c1",
   "metadata": {},
   "outputs": [],
   "source": [
    "df_clean.to_csv(\"df_clean.csv\")"
   ]
  },
  {
   "cell_type": "code",
   "execution_count": 251,
   "id": "e172f699",
   "metadata": {},
   "outputs": [],
   "source": [
    "del df"
   ]
  },
  {
   "cell_type": "markdown",
   "id": "717df001",
   "metadata": {},
   "source": [
    "## Data vlisualization"
   ]
  },
  {
   "cell_type": "code",
   "execution_count": 272,
   "id": "ff4254e3",
   "metadata": {},
   "outputs": [
    {
     "data": {
      "text/plain": [
       "(264846, 20)"
      ]
     },
     "execution_count": 272,
     "metadata": {},
     "output_type": "execute_result"
    }
   ],
   "source": [
    "df_clean = pd.read_csv(\"df_clean.csv\")\n",
    "df_clean.shape"
   ]
  },
  {
   "cell_type": "code",
   "execution_count": 273,
   "id": "4e43cbcd",
   "metadata": {},
   "outputs": [
    {
     "data": {
      "image/png": "[encoded data removed]",
      "text/plain": [
       "<Figure size 432x288 with 1 Axes>"
      ]
     },
     "metadata": {
      "needs_background": "light"
     },
     "output_type": "display_data"
    }
   ],
   "source": [
    "df_clean['activity'].value_counts().plot(kind='bar')\n",
    "plt.show()"
   ]
  },
  {
   "cell_type": "code",
   "execution_count": 274,
   "id": "7ee2dc03",
   "metadata": {},
   "outputs": [
    {
     "data": {
      "image/png": "[encoded data removed]",
      "text/plain": [
       "<Figure size 432x288 with 1 Axes>"
      ]
     },
     "metadata": {
      "needs_background": "light"
     },
     "output_type": "display_data"
    }
   ],
   "source": [
    "df_clean['activity'].value_counts().plot(kind='bar')\n",
    "plt.show()"
   ]
  },
  {
   "cell_type": "code",
   "execution_count": 275,
   "id": "a922788e",
   "metadata": {},
   "outputs": [
    {
     "data": {
      "text/plain": [
       "Jogging        67225\n",
       "Transport      57953\n",
       "Bicycling      48446\n",
       "Sitting        43518\n",
       "Walking        33061\n",
       "Stairway        8013\n",
       "Elevatoring     6630\n",
       "Name: activity, dtype: int64"
      ]
     },
     "execution_count": 275,
     "metadata": {},
     "output_type": "execute_result"
    }
   ],
   "source": [
    "df_clean['activity'].value_counts()"
   ]
  },
  {
   "cell_type": "code",
   "execution_count": 276,
   "id": "8e51cfa6",
   "metadata": {},
   "outputs": [
    {
     "data": {
      "text/plain": [
       "[]"
      ]
     },
     "execution_count": 276,
     "metadata": {},
     "output_type": "execute_result"
    },
    {
     "data": {
      "image/png": "[encoded data removed]",
      "text/plain": [
       "<Figure size 1584x360 with 1 Axes>"
      ]
     },
     "metadata": {
      "needs_background": "light"
     },
     "output_type": "display_data"
    }
   ],
   "source": [
    "n = np.arange(len(df_clean['activity'].unique()))\n",
    "\n",
    "fig, ax = plt.subplots(figsize=(22, 5))\n",
    "names = []\n",
    "for i, name in enumerate(df_clean['name'].unique()):\n",
    "    ax.bar(n + (i/len(df_clean['name'].unique())/2 - 0.25), df_clean.loc[df_clean['name'] == name, 'activity'].value_counts().reindex(df_clean['activity'].unique(), fill_value=0), width=0.1)\n",
    "    names.append(name)\n",
    "\n",
    "# minline: 2h/5=24min, 1440s per person, 20meas/sec -> 28'800 measurements\n",
    "plt.xticks(n, list(df_clean['activity'].unique()), rotation=45)\n",
    "plt.legend(names)\n",
    "ax.hlines(y=28800, xmin=-0.5, xmax=6.5, colors='green')\n",
    "#plt.legend(a[1].unique())\n",
    "plt.plot()"
   ]
  },
  {
   "cell_type": "code",
   "execution_count": 277,
   "id": "e5e357c5",
   "metadata": {},
   "outputs": [
    {
     "data": {
      "image/png": "[encoded data removed]",
      "text/plain": [
       "<Figure size 1080x360 with 1 Axes>"
      ]
     },
     "metadata": {
      "needs_background": "light"
     },
     "output_type": "display_data"
    }
   ],
   "source": [
    "# coordinates visualization\n",
    "fig, ax = plt.subplots(figsize=(15, 5))\n",
    "ax.scatter(df_clean['lat'].values, df_clean['long'].values)\n",
    "#ax.hist(a[17].value_counts(), bins=50)\n",
    "plt.show()"
   ]
  }
 ],
 "metadata": {
  "kernelspec": {
   "display_name": "Python 3 (ipykernel)",
   "language": "python",
   "name": "python3"
  },
  "language_info": {
   "codemirror_mode": {
    "name": "ipython",
    "version": 3
   },
   "file_extension": ".py",
   "mimetype": "text/x-python",
   "name": "python",
   "nbconvert_exporter": "python",
   "pygments_lexer": "ipython3",
   "version": "3.9.4"
  }
 },
 "nbformat": 4,
 "nbformat_minor": 5
}
