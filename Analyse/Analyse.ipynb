{
 "cells": [
  {
   "cell_type": "code",
   "execution_count": null,
   "id": "6c07ef77",
   "metadata": {},
   "outputs": [],
   "source": [
    "import pandas as pd\n",
    "import glob\n",
    "from azure.storage.blob.blockblobservice import BlockBlobService\n",
    "import matplotlib.pyplot as plt\n",
    "import numpy as np"
   ]
  },
  {
   "cell_type": "markdown",
   "id": "4e66053b",
   "metadata": {},
   "source": [
    "## Data download"
   ]
  },
  {
   "cell_type": "code",
   "execution_count": null,
   "id": "ea7c3a05",
   "metadata": {},
   "outputs": [],
   "source": [
    "block_blob_service = BlockBlobService(account_name='activityprofiles', account_key='vx5JFWqh2ajuF6iQey3xj0o3BJ0o2EZaPxtS1ME28a/9y1+e06SYXnYWoMqhh4OaY5ZRf4wKmZXgJf3im0Bmuw==')\n",
    "\n",
    "generator = block_blob_service.list_blobs('app')\n",
    "\n",
    "fp = open('test.csv', 'bw')\n",
    "\n",
    "for blob in generator:\n",
    "    # Using `get_blob_to_bytes`\n",
    "    b = block_blob_service.get_blob_to_bytes('app', blob.name)\n",
    "    fp.write(b.content)\n",
    "    # Or using `get_blob_to_stream`\n",
    "    # service.get_blob_to_stream(container_name, blob.name, fp)\n",
    "\n",
    "fp.flush()\n",
    "fp.close()"
   ]
  },
  {
   "cell_type": "markdown",
   "id": "5c2defff",
   "metadata": {},
   "source": [
    "## Data cleaning"
   ]
  },
  {
   "cell_type": "code",
   "execution_count": null,
   "id": "c9937cfb",
   "metadata": {},
   "outputs": [],
   "source": [
    "df = pd.read_csv('test.csv', index_col=None, header=None)\n",
    "df.columns = ['time','name','activity','acc_x','acc_y','acc_z','mag_x','mag_y','mag_z','gyr_x','gyr_y','gyr_z','ori_x','ori_y','ori_z','ori_w','lat','long']\n",
    "print(df.shape)\n",
    "df"
   ]
  },
  {
   "cell_type": "code",
   "execution_count": null,
   "id": "2cfd6581",
   "metadata": {},
   "outputs": [],
   "source": [
    " # drop test entry\n",
    " df_clean = df.loc[df['time'] != 'Test04.03.2022 07:48:54.917', :]"
   ]
  },
  {
   "cell_type": "code",
   "execution_count": null,
   "id": "aaa86592",
   "metadata": {},
   "outputs": [],
   "source": [
    "# convert datetime format\n",
    "df_clean.loc[:, 'time'] = pd.to_datetime(df_clean.loc[:, 'time'] + '000', infer_datetime_format=True, format=\"%d.%M.%Y %H:%m:%S.%f\")"
   ]
  },
  {
   "cell_type": "code",
   "execution_count": null,
   "id": "395fec15",
   "metadata": {},
   "outputs": [],
   "source": [
    "# drop all data before 3.3.2022, because of incorrect data loading\n",
    "df_clean = df_clean[df_clean['time'] > pd.to_datetime('03.03.2022 08:00:00')]"
   ]
  },
  {
   "cell_type": "code",
   "execution_count": null,
   "id": "7f5587b1",
   "metadata": {},
   "outputs": [],
   "source": [
    "df_clean['name'].unique()"
   ]
  },
  {
   "cell_type": "code",
   "execution_count": null,
   "id": "57667bb4",
   "metadata": {},
   "outputs": [],
   "source": [
    "# drop invalid user\n",
    "df_clean = df_clean[df_clean['name'] != 'test']"
   ]
  },
  {
   "cell_type": "code",
   "execution_count": null,
   "id": "c20817c1",
   "metadata": {},
   "outputs": [],
   "source": [
    "df_clean.to_csv(\"df_clean.csv\")"
   ]
  },
  {
   "cell_type": "code",
   "execution_count": null,
   "id": "e172f699",
   "metadata": {},
   "outputs": [],
   "source": [
    "del df"
   ]
  },
  {
   "cell_type": "markdown",
   "id": "717df001",
   "metadata": {},
   "source": [
    "## Data vlisualization"
   ]
  },
  {
   "cell_type": "code",
   "execution_count": null,
   "id": "ff4254e3",
   "metadata": {},
   "outputs": [],
   "source": [
    "df_clean = pd.read_csv(\"df_clean.csv\")\n",
    "df_clean.shape"
   ]
  },
  {
   "cell_type": "code",
   "execution_count": null,
   "id": "4e43cbcd",
   "metadata": {},
   "outputs": [],
   "source": [
    "df_clean['activity'].value_counts().plot(kind='bar')\n",
    "plt.show()"
   ]
  },
  {
   "cell_type": "code",
   "execution_count": null,
   "id": "7ee2dc03",
   "metadata": {},
   "outputs": [],
   "source": [
    "df_clean['activity'].value_counts().plot(kind='bar')\n",
    "plt.show()"
   ]
  },
  {
   "cell_type": "code",
   "execution_count": null,
   "id": "a922788e",
   "metadata": {},
   "outputs": [],
   "source": [
    "df_clean['activity'].value_counts()"
   ]
  },
  {
   "cell_type": "code",
   "execution_count": null,
   "id": "8e51cfa6",
   "metadata": {},
   "outputs": [],
   "source": [
    "n = np.arange(len(df_clean['activity'].unique()))\n",
    "\n",
    "fig, ax = plt.subplots(figsize=(22, 5))\n",
    "names = []\n",
    "for i, name in enumerate(df_clean['name'].unique()):\n",
    "    ax.bar(n + (i/len(df_clean['name'].unique())/2 - 0.25), df_clean.loc[df_clean['name'] == name, 'activity'].value_counts().reindex(df_clean['activity'].unique(), fill_value=0), width=0.1)\n",
    "    names.append(name)\n",
    "\n",
    "# minline: 2h/5=24min, 1440s per person, 20meas/sec -> 28'800 measurements\n",
    "plt.xticks(n, list(df_clean['activity'].unique()), rotation=45)\n",
    "plt.legend(names)\n",
    "ax.hlines(y=28800, xmin=-0.5, xmax=6.5, colors='green')\n",
    "#plt.legend(a[1].unique())\n",
    "plt.plot()"
   ]
  },
  {
   "cell_type": "code",
   "execution_count": null,
   "id": "e5e357c5",
   "metadata": {},
   "outputs": [],
   "source": [
    "# coordinates visualization\n",
    "fig, ax = plt.subplots(figsize=(15, 5))\n",
    "ax.scatter(df_clean['lat'].values, df_clean['long'].values)\n",
    "#ax.hist(a[17].value_counts(), bins=50)\n",
    "plt.show()"
   ]
  },
  {
   "cell_type": "code",
   "execution_count": null,
   "id": "e56d1a47",
   "metadata": {},
   "outputs": [],
   "source": [
    "fig, ax = plt.subplots(figsize=(22, 5))\n",
    "ax.plot(df_clean.loc[(df_clean['name'] == 'pascal') & (df_clean['activity'] == 'Stairway'), ['mag_x', 'mag_y', 'mag_z']])\n",
    "plt.show()"
   ]
  },
  {
   "cell_type": "code",
   "execution_count": null,
   "id": "3bd3e4dc",
   "metadata": {},
   "outputs": [],
   "source": [
    "fig, ax = plt.subplots(figsize=(22, 5))\n",
    "ax.plot(df_clean.loc[(df_clean['name'] == 'pascal') & (df_clean['activity'] == 'Elevatoring'), ['mag_x', 'mag_y', 'mag_z']])\n",
    "plt.show()"
   ]
  }
 ],
 "metadata": {
  "kernelspec": {
   "display_name": "Python 3 (ipykernel)",
   "language": "python",
   "name": "python3"
  },
  "language_info": {
   "codemirror_mode": {
    "name": "ipython",
    "version": 3
   },
   "file_extension": ".py",
   "mimetype": "text/x-python",
   "name": "python",
   "nbconvert_exporter": "python",
   "pygments_lexer": "ipython3",
   "version": "3.9.4"
  }
 },
 "nbformat": 4,
 "nbformat_minor": 5
}
