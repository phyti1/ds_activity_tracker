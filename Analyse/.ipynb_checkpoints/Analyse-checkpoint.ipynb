{
 "cells": [
  {
   "cell_type": "code",
   "execution_count": 19,
   "id": "6c07ef77",
   "metadata": {},
   "outputs": [],
   "source": [
    "import pandas as pd\n",
    "import glob\n",
    "from azure.storage.blob.blockblobservice import BlockBlobService\n",
    "import matplotlib.pyplot as plt"
   ]
  },
  {
   "cell_type": "code",
   "execution_count": 16,
   "id": "ea7c3a05",
   "metadata": {},
   "outputs": [
    {
     "name": "stderr",
     "output_type": "stream",
     "text": [
      "Client-Request-ID=de90cc5f-9ebf-11ec-a2c7-f09e4a5db690 Retry policy did not allow for a retry: Server-Timestamp=Tue, 08 Mar 2022 09:12:29 GMT, Server-Request-ID=2c7a2b3a-701e-0036-33cc-328f9a000000, HTTP status code=416, Exception=The range specified is invalid for the current size of the resource. ErrorCode: InvalidRange<?xml version=\"1.0\" encoding=\"utf-8\"?><Error><Code>InvalidRange</Code><Message>The range specified is invalid for the current size of the resource.RequestId:2c7a2b3a-701e-0036-33cc-328f9a000000Time:2022-03-08T09:12:30.2831160Z</Message></Error>.\n",
      "Client-Request-ID=e830caa9-9ebf-11ec-a9a3-f09e4a5db690 Retry policy did not allow for a retry: Server-Timestamp=Tue, 08 Mar 2022 09:12:45 GMT, Server-Request-ID=2c7a50eb-701e-0036-1acc-328f9a000000, HTTP status code=416, Exception=The range specified is invalid for the current size of the resource. ErrorCode: InvalidRange<?xml version=\"1.0\" encoding=\"utf-8\"?><Error><Code>InvalidRange</Code><Message>The range specified is invalid for the current size of the resource.RequestId:2c7a50eb-701e-0036-1acc-328f9a000000Time:2022-03-08T09:12:46.4278997Z</Message></Error>.\n",
      "Client-Request-ID=ed545cc9-9ebf-11ec-9ec3-f09e4a5db690 Retry policy did not allow for a retry: Server-Timestamp=Tue, 08 Mar 2022 09:12:54 GMT, Server-Request-ID=2c7a6251-701e-0036-69cc-328f9a000000, HTTP status code=416, Exception=The range specified is invalid for the current size of the resource. ErrorCode: InvalidRange<?xml version=\"1.0\" encoding=\"utf-8\"?><Error><Code>InvalidRange</Code><Message>The range specified is invalid for the current size of the resource.RequestId:2c7a6251-701e-0036-69cc-328f9a000000Time:2022-03-08T09:12:55.0559754Z</Message></Error>.\n"
     ]
    }
   ],
   "source": [
    "\n",
    "block_blob_service = BlockBlobService(account_name='activityprofiles', account_key='vx5JFWqh2ajuF6iQey3xj0o3BJ0o2EZaPxtS1ME28a/9y1+e06SYXnYWoMqhh4OaY5ZRf4wKmZXgJf3im0Bmuw==')\n",
    "\n",
    "generator = block_blob_service.list_blobs('app')\n",
    "\n",
    "fp = open('test.csv', 'bw')\n",
    "\n",
    "for blob in generator:\n",
    "    # Using `get_blob_to_bytes`\n",
    "    b = block_blob_service.get_blob_to_bytes('app', blob.name)\n",
    "    fp.write(b.content)\n",
    "    # Or using `get_blob_to_stream`\n",
    "    # service.get_blob_to_stream(container_name, blob.name, fp)\n",
    "\n",
    "fp.flush()\n",
    "fp.close()"
   ]
  },
  {
   "cell_type": "code",
   "execution_count": 5,
   "id": "6e0bebc6",
   "metadata": {},
   "outputs": [],
   "source": [
    "path = r'G:\\Meine Ablage\\Studium\\Semester4\\smartphone-challenge\\data\\Export_Azure' # use your path\n",
    "all_files = glob.glob(path + \"/*.csv\")\n",
    "\n",
    "li = []\n",
    "\n",
    "for filename in all_files:\n",
    "    df = pd.read_csv(filename, index_col=None, header=None)\n",
    "    li.append(df)\n",
    "\n",
    "frame = pd.concat(li, axis=0, ignore_index=True)"
   ]
  },
  {
   "cell_type": "code",
   "execution_count": 20,
   "id": "c9937cfb",
   "metadata": {},
   "outputs": [],
   "source": [
    "a = pd.read_csv('test.csv', index_col=None, header=None)"
   ]
  },
  {
   "cell_type": "code",
   "execution_count": 29,
   "id": "4e43cbcd",
   "metadata": {},
   "outputs": [
    {
     "data": {
      "image/png": "[encoded data removed]",
      "text/plain": [
       "<Figure size 432x288 with 1 Axes>"
      ]
     },
     "metadata": {
      "needs_background": "light"
     },
     "output_type": "display_data"
    }
   ],
   "source": [
    "a[2].value_counts().plot(kind='bar')\n",
    "plt.show()"
   ]
  },
  {
   "cell_type": "code",
   "execution_count": 30,
   "id": "7ee2dc03",
   "metadata": {},
   "outputs": [
    {
     "data": {
      "image/png": "[encoded data removed]",
      "text/plain": [
       "<Figure size 432x288 with 1 Axes>"
      ]
     },
     "metadata": {
      "needs_background": "light"
     },
     "output_type": "display_data"
    }
   ],
   "source": [
    "a[1].value_counts().plot(kind='bar')\n",
    "plt.show()"
   ]
  }
 ],
 "metadata": {
  "kernelspec": {
   "display_name": "Python 3 (ipykernel)",
   "language": "python",
   "name": "python3"
  },
  "language_info": {
   "codemirror_mode": {
    "name": "ipython",
    "version": 3
   },
   "file_extension": ".py",
   "mimetype": "text/x-python",
   "name": "python",
   "nbconvert_exporter": "python",
   "pygments_lexer": "ipython3",
   "version": "3.10.2"
  }
 },
 "nbformat": 4,
 "nbformat_minor": 5
}
