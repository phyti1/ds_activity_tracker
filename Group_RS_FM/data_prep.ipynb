{
 "cells": [
  {
   "cell_type": "markdown",
   "metadata": {},
   "source": [
    "# Imports"
   ]
  },
  {
   "cell_type": "code",
   "execution_count": 33,
   "metadata": {},
   "outputs": [],
   "source": [
    "import pandas as pd\n",
    "import numpy as np\n",
    "import matplotlib.pyplot as plt\n",
    "import seaborn as sns\n",
    "from sklearn.model_selection import StratifiedShuffleSplit\n",
    "from scipy.signal import savgol_filter"
   ]
  },
  {
   "cell_type": "markdown",
   "metadata": {},
   "source": [
    "# Importing data"
   ]
  },
  {
   "cell_type": "code",
   "execution_count": 34,
   "metadata": {},
   "outputs": [
    {
     "data": {
      "text/html": [
       "<div>\n",
       "<style scoped>\n",
       "    .dataframe tbody tr th:only-of-type {\n",
       "        vertical-align: middle;\n",
       "    }\n",
       "\n",
       "    .dataframe tbody tr th {\n",
       "        vertical-align: top;\n",
       "    }\n",
       "\n",
       "    .dataframe thead th {\n",
       "        text-align: right;\n",
       "    }\n",
       "</style>\n",
       "<table border=\"1\" class=\"dataframe\">\n",
       "  <thead>\n",
       "    <tr style=\"text-align: right;\">\n",
       "      <th></th>\n",
       "      <th>time</th>\n",
       "      <th>name</th>\n",
       "      <th>activity</th>\n",
       "      <th>acc_x</th>\n",
       "      <th>acc_y</th>\n",
       "      <th>acc_z</th>\n",
       "      <th>mag_x</th>\n",
       "      <th>mag_y</th>\n",
       "      <th>mag_z</th>\n",
       "      <th>gyr_x</th>\n",
       "      <th>gyr_y</th>\n",
       "      <th>gyr_z</th>\n",
       "      <th>ori_x</th>\n",
       "      <th>ori_y</th>\n",
       "      <th>ori_z</th>\n",
       "      <th>ori_w</th>\n",
       "      <th>lat</th>\n",
       "      <th>long</th>\n",
       "    </tr>\n",
       "  </thead>\n",
       "  <tbody>\n",
       "    <tr>\n",
       "      <th>0</th>\n",
       "      <td>2022-04-03 11:47:11.212</td>\n",
       "      <td>Raphi</td>\n",
       "      <td>Sitting</td>\n",
       "      <td>-0.091133</td>\n",
       "      <td>0.351148</td>\n",
       "      <td>0.945756</td>\n",
       "      <td>-23.0153</td>\n",
       "      <td>-26.7241</td>\n",
       "      <td>-33.4097</td>\n",
       "      <td>0.047035</td>\n",
       "      <td>-0.022907</td>\n",
       "      <td>0.008399</td>\n",
       "      <td>0.136017</td>\n",
       "      <td>-0.125171</td>\n",
       "      <td>-0.839552</td>\n",
       "      <td>0.510817</td>\n",
       "      <td>47.500155</td>\n",
       "      <td>8.324881</td>\n",
       "    </tr>\n",
       "    <tr>\n",
       "      <th>1</th>\n",
       "      <td>2022-04-03 11:47:11.268</td>\n",
       "      <td>Raphi</td>\n",
       "      <td>Sitting</td>\n",
       "      <td>-0.097963</td>\n",
       "      <td>0.366881</td>\n",
       "      <td>0.898528</td>\n",
       "      <td>-22.9726</td>\n",
       "      <td>-26.5960</td>\n",
       "      <td>-33.2694</td>\n",
       "      <td>-0.050089</td>\n",
       "      <td>-0.041232</td>\n",
       "      <td>-0.025808</td>\n",
       "      <td>0.135422</td>\n",
       "      <td>-0.126965</td>\n",
       "      <td>-0.839437</td>\n",
       "      <td>0.510728</td>\n",
       "      <td>47.500155</td>\n",
       "      <td>8.324881</td>\n",
       "    </tr>\n",
       "    <tr>\n",
       "      <th>2</th>\n",
       "      <td>2022-04-03 11:47:11.326</td>\n",
       "      <td>Raphi</td>\n",
       "      <td>Sitting</td>\n",
       "      <td>-0.114793</td>\n",
       "      <td>0.334654</td>\n",
       "      <td>0.998473</td>\n",
       "      <td>-22.7774</td>\n",
       "      <td>-26.5106</td>\n",
       "      <td>-33.0925</td>\n",
       "      <td>0.150879</td>\n",
       "      <td>-0.098041</td>\n",
       "      <td>0.096972</td>\n",
       "      <td>0.134209</td>\n",
       "      <td>-0.126197</td>\n",
       "      <td>-0.839677</td>\n",
       "      <td>0.510821</td>\n",
       "      <td>47.500155</td>\n",
       "      <td>8.324881</td>\n",
       "    </tr>\n",
       "    <tr>\n",
       "      <th>3</th>\n",
       "      <td>2022-04-03 11:47:11.388</td>\n",
       "      <td>Raphi</td>\n",
       "      <td>Sitting</td>\n",
       "      <td>-0.075767</td>\n",
       "      <td>0.364564</td>\n",
       "      <td>0.886332</td>\n",
       "      <td>-22.9421</td>\n",
       "      <td>-26.7790</td>\n",
       "      <td>-32.9461</td>\n",
       "      <td>0.196082</td>\n",
       "      <td>0.096208</td>\n",
       "      <td>-0.009926</td>\n",
       "      <td>0.134518</td>\n",
       "      <td>-0.133009</td>\n",
       "      <td>-0.839076</td>\n",
       "      <td>0.510125</td>\n",
       "      <td>47.500155</td>\n",
       "      <td>8.324881</td>\n",
       "    </tr>\n",
       "    <tr>\n",
       "      <th>4</th>\n",
       "      <td>2022-04-03 11:47:11.445</td>\n",
       "      <td>Raphi</td>\n",
       "      <td>Sitting</td>\n",
       "      <td>-0.125556</td>\n",
       "      <td>0.378345</td>\n",
       "      <td>0.905358</td>\n",
       "      <td>-23.3264</td>\n",
       "      <td>-27.3524</td>\n",
       "      <td>-32.9705</td>\n",
       "      <td>0.027488</td>\n",
       "      <td>0.019242</td>\n",
       "      <td>0.138510</td>\n",
       "      <td>0.139961</td>\n",
       "      <td>-0.133803</td>\n",
       "      <td>-0.836808</td>\n",
       "      <td>0.512193</td>\n",
       "      <td>47.500155</td>\n",
       "      <td>8.324881</td>\n",
       "    </tr>\n",
       "  </tbody>\n",
       "</table>\n",
       "</div>"
      ],
      "text/plain": [
       "                      time   name activity     acc_x     acc_y     acc_z  \\\n",
       "0  2022-04-03 11:47:11.212  Raphi  Sitting -0.091133  0.351148  0.945756   \n",
       "1  2022-04-03 11:47:11.268  Raphi  Sitting -0.097963  0.366881  0.898528   \n",
       "2  2022-04-03 11:47:11.326  Raphi  Sitting -0.114793  0.334654  0.998473   \n",
       "3  2022-04-03 11:47:11.388  Raphi  Sitting -0.075767  0.364564  0.886332   \n",
       "4  2022-04-03 11:47:11.445  Raphi  Sitting -0.125556  0.378345  0.905358   \n",
       "\n",
       "     mag_x    mag_y    mag_z     gyr_x     gyr_y     gyr_z     ori_x  \\\n",
       "0 -23.0153 -26.7241 -33.4097  0.047035 -0.022907  0.008399  0.136017   \n",
       "1 -22.9726 -26.5960 -33.2694 -0.050089 -0.041232 -0.025808  0.135422   \n",
       "2 -22.7774 -26.5106 -33.0925  0.150879 -0.098041  0.096972  0.134209   \n",
       "3 -22.9421 -26.7790 -32.9461  0.196082  0.096208 -0.009926  0.134518   \n",
       "4 -23.3264 -27.3524 -32.9705  0.027488  0.019242  0.138510  0.139961   \n",
       "\n",
       "      ori_y     ori_z     ori_w        lat      long  \n",
       "0 -0.125171 -0.839552  0.510817  47.500155  8.324881  \n",
       "1 -0.126965 -0.839437  0.510728  47.500155  8.324881  \n",
       "2 -0.126197 -0.839677  0.510821  47.500155  8.324881  \n",
       "3 -0.133009 -0.839076  0.510125  47.500155  8.324881  \n",
       "4 -0.133803 -0.836808  0.512193  47.500155  8.324881  "
      ]
     },
     "execution_count": 34,
     "metadata": {},
     "output_type": "execute_result"
    }
   ],
   "source": [
    "df = pd.read_csv(\"../Analyse/df_clean.csv\", index_col=0)\n",
    "df.head()"
   ]
  },
  {
   "cell_type": "code",
   "execution_count": 35,
   "metadata": {},
   "outputs": [
    {
     "name": "stderr",
     "output_type": "stream",
     "text": [
      "/Users/ronnyschneeberger/Documents/FHNW/FS22/cdl1/activity_tracker/venv/lib/python3.8/site-packages/seaborn/_decorators.py:36: FutureWarning: Pass the following variable as a keyword arg: x. From version 0.12, the only valid positional argument will be `data`, and passing other arguments without an explicit keyword will result in an error or misinterpretation.\n",
      "  warnings.warn(\n"
     ]
    },
    {
     "data": {
      "image/png": "[encoded data removed]",
      "text/plain": [
       "<Figure size 1512x720 with 1 Axes>"
      ]
     },
     "metadata": {},
     "output_type": "display_data"
    }
   ],
   "source": [
    "# set sns plot size to (21, 10)\n",
    "sns.set(rc={'figure.figsize': (21, 10)})\n",
    "# plot amount of samples in df.activity\n",
    "sns.countplot(df.activity)\n",
    "plt.xlabel(\"Activity\")\n",
    "plt.ylabel(\"n samples\")\n",
    "plt.title(\"Amount of samples in each activity\")\n",
    "plt.show()"
   ]
  },
  {
   "cell_type": "markdown",
   "metadata": {},
   "source": [
    "Elevatoring is undersampled. The recognition of elevatoring is not mandatory in the challenge. Therefore not many samples were collected. "
   ]
  },
  {
   "cell_type": "markdown",
   "metadata": {},
   "source": [
    "## Splitting data\n",
    "The data is split with StratifiedShuffleSplit to keep the proportions of the different classes intact."
   ]
  },
  {
   "cell_type": "code",
   "execution_count": 36,
   "metadata": {},
   "outputs": [
    {
     "data": {
      "image/png": "[encoded data removed]",
      "text/plain": [
       "<Figure size 1512x720 with 1 Axes>"
      ]
     },
     "metadata": {},
     "output_type": "display_data"
    }
   ],
   "source": [
    "# split df into train and test StratifiedShuffleSplit by activity\n",
    "split = StratifiedShuffleSplit(n_splits=1, test_size=0.2, random_state=42)\n",
    "\n",
    "train_index, test_index = next(split.split(df, df.activity))\n",
    "train_df = df.iloc[train_index]\n",
    "test_df = df.iloc[test_index]\n",
    "\n",
    "n_rows = train_df.shape[0]\n",
    "train = (train_df.activity.value_counts() / n_rows)\n",
    "n_rows = test_df.shape[0]\n",
    "test =  (test_df.activity.value_counts() / n_rows)\n",
    "\n",
    "plot_df = pd.DataFrame({\"train\": train, \"test\": test})\n",
    "plot_df.plot.bar(color=[\"blue\", \"red\"])\n",
    "plt.legend()\n",
    "plt.ylabel(\"Percentage of samples per activity\")\n",
    "plt.xlabel(\"Activity\")\n",
    "plt.title(\"Amount of samples in each activity in test/train\", fontdict={\"fontsize\": 20})\n",
    "plt.show()"
   ]
  },
  {
   "cell_type": "markdown",
   "metadata": {},
   "source": [
    "## Encoding activity"
   ]
  },
  {
   "cell_type": "code",
   "execution_count": 37,
   "metadata": {},
   "outputs": [
    {
     "data": {
      "text/plain": [
       "array(['Sitting', 'Transport', 'Bicycling', 'Walking', 'Elevatoring',\n",
       "       'Jogging', 'Stairway'], dtype=object)"
      ]
     },
     "execution_count": 37,
     "metadata": {},
     "output_type": "execute_result"
    }
   ],
   "source": [
    "df.activity.unique()"
   ]
  },
  {
   "cell_type": "code",
   "execution_count": 38,
   "metadata": {},
   "outputs": [],
   "source": [
    "# encode activities to numbers\n",
    "df.activity = df.activity.map({'Sitting': 0, 'Transport': 1, 'Bicycling':2, 'Walking':3, 'Elevatoring':4, 'Jogging':5, 'Stairway':6})"
   ]
  },
  {
   "cell_type": "code",
   "execution_count": 39,
   "metadata": {},
   "outputs": [
    {
     "data": {
      "text/plain": [
       "array([0, 1, 2, 3, 4, 5, 6])"
      ]
     },
     "execution_count": 39,
     "metadata": {},
     "output_type": "execute_result"
    }
   ],
   "source": [
    "df.activity.unique()"
   ]
  },
  {
   "cell_type": "code",
   "execution_count": 40,
   "metadata": {},
   "outputs": [],
   "source": [
    "# splitting df again into train and test\n",
    "split = StratifiedShuffleSplit(n_splits=1, test_size=0.2, random_state=42)\n",
    "\n",
    "train_index, test_index = next(split.split(df, df.activity))\n",
    "train_df = df.iloc[train_index]\n",
    "test_df = df.iloc[test_index]"
   ]
  },
  {
   "cell_type": "markdown",
   "metadata": {},
   "source": [
    "# Turning raw data into samples\n",
    "\n",
    "To train a model that recognizes activity, the input data is a timeseries which contains datapoints over a period of time. With a single recorded datapoint the model won't be able to recognize the activity. \n",
    "\n",
    "Therefore the data was split into recording samples. With recording samples are all the datapoints meant which were created during a recording session. \n",
    "\n",
    "The recording are further split into model samples which can be served to a model. The model samples are smaples over a timespan of 2.56 seconds and can have around 50% overlap. This seems to be a standart procedure in activity recognition. (https://machinelearningmastery.com/cnn-models-for-human-activity-recognition-time-series-classification/) (https://github.com/guillaume-chevalier/LSTM-Human-Activity-Recognition)"
   ]
  },
  {
   "cell_type": "markdown",
   "metadata": {},
   "source": [
    "## Creating test dataset for testing splitting"
   ]
  },
  {
   "cell_type": "code",
   "execution_count": 41,
   "metadata": {},
   "outputs": [],
   "source": [
    "test = df.iloc[:1000,:]"
   ]
  },
  {
   "cell_type": "markdown",
   "metadata": {},
   "source": [
    "## Check for amount of different activities"
   ]
  },
  {
   "cell_type": "code",
   "execution_count": 42,
   "metadata": {},
   "outputs": [
    {
     "name": "stdout",
     "output_type": "stream",
     "text": [
      "[0 1 2]\n",
      "['Raphi' 'pascal']\n"
     ]
    }
   ],
   "source": [
    "# check how many recording samples are in test\n",
    "print(test.activity.unique())\n",
    "print(test.name.unique())"
   ]
  },
  {
   "cell_type": "markdown",
   "metadata": {},
   "source": [
    "## Create columns for distinguishing samples"
   ]
  },
  {
   "cell_type": "code",
   "execution_count": 43,
   "metadata": {},
   "outputs": [],
   "source": [
    "def prep_df(df):\n",
    "    # copy time to new column and move it one row down\n",
    "    df['time_copy'] = df.time\n",
    "\n",
    "    # move time_copy next to the front\n",
    "    columns = list(df.columns)\n",
    "    columns = columns[-1:] + columns[:-1]\n",
    "    df = df[columns]\n",
    "\n",
    "    # shift time copy\n",
    "    df.time_copy = df.time_copy.shift(-1)\n",
    "\n",
    "    # calc diff\n",
    "    df['time_diff'] = (pd.to_datetime(df.time_copy) - pd.to_datetime(df.time))\n",
    "    df['time_diff'] = df['time_diff'].abs()\n",
    "\n",
    "    # apply total seconds\n",
    "    df.time_diff = df.time_diff.apply(lambda x: x.total_seconds())\n",
    "\n",
    "    # set sampleid to 0\n",
    "    df['sampleid'] = 0\n",
    "\n",
    "    # copy activity to new column and move it one row down\n",
    "    df['activity_copy'] = df.activity\n",
    "    df.activity_copy = df.activity_copy.shift(-1)\n",
    "\n",
    "    # check if activity is the same\n",
    "    df['activity_diff'] = df.activity == df.activity_copy\n",
    "\n",
    "    return df"
   ]
  },
  {
   "cell_type": "code",
   "execution_count": 44,
   "metadata": {},
   "outputs": [
    {
     "name": "stderr",
     "output_type": "stream",
     "text": [
      "/var/folders/w3/qczdk1p16437g5rs9gnqc6_c0000gn/T/ipykernel_55544/2701864076.py:3: SettingWithCopyWarning: \n",
      "A value is trying to be set on a copy of a slice from a DataFrame.\n",
      "Try using .loc[row_indexer,col_indexer] = value instead\n",
      "\n",
      "See the caveats in the documentation: https://pandas.pydata.org/pandas-docs/stable/user_guide/indexing.html#returning-a-view-versus-a-copy\n",
      "  df['time_copy'] = df.time\n"
     ]
    }
   ],
   "source": [
    "test = prep_df(test)"
   ]
  },
  {
   "cell_type": "markdown",
   "metadata": {},
   "source": [
    "## Check where splitting should occur"
   ]
  },
  {
   "cell_type": "code",
   "execution_count": 45,
   "metadata": {},
   "outputs": [
    {
     "data": {
      "text/html": [
       "<div>\n",
       "<style scoped>\n",
       "    .dataframe tbody tr th:only-of-type {\n",
       "        vertical-align: middle;\n",
       "    }\n",
       "\n",
       "    .dataframe tbody tr th {\n",
       "        vertical-align: top;\n",
       "    }\n",
       "\n",
       "    .dataframe thead th {\n",
       "        text-align: right;\n",
       "    }\n",
       "</style>\n",
       "<table border=\"1\" class=\"dataframe\">\n",
       "  <thead>\n",
       "    <tr style=\"text-align: right;\">\n",
       "      <th></th>\n",
       "      <th>time_copy</th>\n",
       "      <th>time</th>\n",
       "      <th>name</th>\n",
       "      <th>activity</th>\n",
       "      <th>acc_x</th>\n",
       "      <th>acc_y</th>\n",
       "      <th>acc_z</th>\n",
       "      <th>mag_x</th>\n",
       "      <th>mag_y</th>\n",
       "      <th>mag_z</th>\n",
       "      <th>...</th>\n",
       "      <th>ori_x</th>\n",
       "      <th>ori_y</th>\n",
       "      <th>ori_z</th>\n",
       "      <th>ori_w</th>\n",
       "      <th>lat</th>\n",
       "      <th>long</th>\n",
       "      <th>time_diff</th>\n",
       "      <th>sampleid</th>\n",
       "      <th>activity_copy</th>\n",
       "      <th>activity_diff</th>\n",
       "    </tr>\n",
       "  </thead>\n",
       "  <tbody>\n",
       "    <tr>\n",
       "      <th>200</th>\n",
       "      <td>2022-04-03 07:45:01.017</td>\n",
       "      <td>2022-04-03 11:47:22.835</td>\n",
       "      <td>Raphi</td>\n",
       "      <td>0</td>\n",
       "      <td>-0.121379</td>\n",
       "      <td>0.333922</td>\n",
       "      <td>0.940268</td>\n",
       "      <td>-21.4354</td>\n",
       "      <td>-26.75460</td>\n",
       "      <td>-32.07380</td>\n",
       "      <td>...</td>\n",
       "      <td>0.141825</td>\n",
       "      <td>-0.114015</td>\n",
       "      <td>-0.850270</td>\n",
       "      <td>0.493864</td>\n",
       "      <td>47.500155</td>\n",
       "      <td>8.324881</td>\n",
       "      <td>14541.818</td>\n",
       "      <td>0</td>\n",
       "      <td>1.0</td>\n",
       "      <td>False</td>\n",
       "    </tr>\n",
       "    <tr>\n",
       "      <th>803</th>\n",
       "      <td>2022-03-03 17:15:40.471</td>\n",
       "      <td>2022-04-03 07:49:28.105</td>\n",
       "      <td>pascal</td>\n",
       "      <td>1</td>\n",
       "      <td>-0.089975</td>\n",
       "      <td>0.397401</td>\n",
       "      <td>0.926030</td>\n",
       "      <td>-1.5375</td>\n",
       "      <td>-16.53750</td>\n",
       "      <td>6.43125</td>\n",
       "      <td>...</td>\n",
       "      <td>0.184056</td>\n",
       "      <td>0.099057</td>\n",
       "      <td>0.249243</td>\n",
       "      <td>0.945597</td>\n",
       "      <td>47.469938</td>\n",
       "      <td>8.317365</td>\n",
       "      <td>2644427.634</td>\n",
       "      <td>0</td>\n",
       "      <td>2.0</td>\n",
       "      <td>False</td>\n",
       "    </tr>\n",
       "    <tr>\n",
       "      <th>999</th>\n",
       "      <td>NaN</td>\n",
       "      <td>2022-03-03 17:15:51.148</td>\n",
       "      <td>pascal</td>\n",
       "      <td>2</td>\n",
       "      <td>0.670832</td>\n",
       "      <td>-0.326787</td>\n",
       "      <td>-0.508627</td>\n",
       "      <td>-23.9250</td>\n",
       "      <td>29.76563</td>\n",
       "      <td>40.23750</td>\n",
       "      <td>...</td>\n",
       "      <td>-0.081741</td>\n",
       "      <td>-0.893293</td>\n",
       "      <td>-0.197210</td>\n",
       "      <td>0.395543</td>\n",
       "      <td>47.455777</td>\n",
       "      <td>8.324452</td>\n",
       "      <td>NaN</td>\n",
       "      <td>0</td>\n",
       "      <td>NaN</td>\n",
       "      <td>False</td>\n",
       "    </tr>\n",
       "  </tbody>\n",
       "</table>\n",
       "<p>3 rows × 23 columns</p>\n",
       "</div>"
      ],
      "text/plain": [
       "                   time_copy                     time    name  activity  \\\n",
       "200  2022-04-03 07:45:01.017  2022-04-03 11:47:22.835   Raphi         0   \n",
       "803  2022-03-03 17:15:40.471  2022-04-03 07:49:28.105  pascal         1   \n",
       "999                      NaN  2022-03-03 17:15:51.148  pascal         2   \n",
       "\n",
       "        acc_x     acc_y     acc_z    mag_x     mag_y     mag_z  ...     ori_x  \\\n",
       "200 -0.121379  0.333922  0.940268 -21.4354 -26.75460 -32.07380  ...  0.141825   \n",
       "803 -0.089975  0.397401  0.926030  -1.5375 -16.53750   6.43125  ...  0.184056   \n",
       "999  0.670832 -0.326787 -0.508627 -23.9250  29.76563  40.23750  ... -0.081741   \n",
       "\n",
       "        ori_y     ori_z     ori_w        lat      long    time_diff  sampleid  \\\n",
       "200 -0.114015 -0.850270  0.493864  47.500155  8.324881    14541.818         0   \n",
       "803  0.099057  0.249243  0.945597  47.469938  8.317365  2644427.634         0   \n",
       "999 -0.893293 -0.197210  0.395543  47.455777  8.324452          NaN         0   \n",
       "\n",
       "     activity_copy  activity_diff  \n",
       "200            1.0          False  \n",
       "803            2.0          False  \n",
       "999            NaN          False  \n",
       "\n",
       "[3 rows x 23 columns]"
      ]
     },
     "execution_count": 45,
     "metadata": {},
     "output_type": "execute_result"
    }
   ],
   "source": [
    "test[test.activity_diff != True]"
   ]
  },
  {
   "cell_type": "markdown",
   "metadata": {},
   "source": [
    "## set sampleid"
   ]
  },
  {
   "cell_type": "code",
   "execution_count": 46,
   "metadata": {},
   "outputs": [],
   "source": [
    "def set_sampleid(df:pd.DataFrame):\n",
    "    # create sampleids\n",
    "    prev_index = -1\n",
    "    id = 0\n",
    "\n",
    "    # create indexes where activity is not the same and time diff is greater than 1\n",
    "    indexes = df[(df.activity_diff == False) & (df.time_diff > 1)].index.tolist()\n",
    "\n",
    "    for index in indexes:\n",
    "        df.loc[prev_index+1:index, 'sampleid'] = id\n",
    "        prev_index = index\n",
    "        id += 1\n",
    "    df.loc[prev_index+1:, 'sampleid'] = id\n",
    "\n",
    "    return df"
   ]
  },
  {
   "cell_type": "code",
   "execution_count": 47,
   "metadata": {},
   "outputs": [
    {
     "data": {
      "text/html": [
       "<div>\n",
       "<style scoped>\n",
       "    .dataframe tbody tr th:only-of-type {\n",
       "        vertical-align: middle;\n",
       "    }\n",
       "\n",
       "    .dataframe tbody tr th {\n",
       "        vertical-align: top;\n",
       "    }\n",
       "\n",
       "    .dataframe thead th {\n",
       "        text-align: right;\n",
       "    }\n",
       "</style>\n",
       "<table border=\"1\" class=\"dataframe\">\n",
       "  <thead>\n",
       "    <tr style=\"text-align: right;\">\n",
       "      <th></th>\n",
       "      <th>time_copy</th>\n",
       "      <th>time</th>\n",
       "      <th>name</th>\n",
       "      <th>activity</th>\n",
       "      <th>acc_x</th>\n",
       "      <th>acc_y</th>\n",
       "      <th>acc_z</th>\n",
       "      <th>mag_x</th>\n",
       "      <th>mag_y</th>\n",
       "      <th>mag_z</th>\n",
       "      <th>...</th>\n",
       "      <th>ori_x</th>\n",
       "      <th>ori_y</th>\n",
       "      <th>ori_z</th>\n",
       "      <th>ori_w</th>\n",
       "      <th>lat</th>\n",
       "      <th>long</th>\n",
       "      <th>time_diff</th>\n",
       "      <th>sampleid</th>\n",
       "      <th>activity_copy</th>\n",
       "      <th>activity_diff</th>\n",
       "    </tr>\n",
       "  </thead>\n",
       "  <tbody>\n",
       "    <tr>\n",
       "      <th>0</th>\n",
       "      <td>2022-04-03 11:47:11.268</td>\n",
       "      <td>2022-04-03 11:47:11.212</td>\n",
       "      <td>Raphi</td>\n",
       "      <td>0</td>\n",
       "      <td>-0.091133</td>\n",
       "      <td>0.351148</td>\n",
       "      <td>0.945756</td>\n",
       "      <td>-23.01530</td>\n",
       "      <td>-26.72410</td>\n",
       "      <td>-33.40970</td>\n",
       "      <td>...</td>\n",
       "      <td>0.136017</td>\n",
       "      <td>-0.125171</td>\n",
       "      <td>-0.839552</td>\n",
       "      <td>0.510817</td>\n",
       "      <td>47.500155</td>\n",
       "      <td>8.324881</td>\n",
       "      <td>0.056</td>\n",
       "      <td>0</td>\n",
       "      <td>0.0</td>\n",
       "      <td>True</td>\n",
       "    </tr>\n",
       "    <tr>\n",
       "      <th>1</th>\n",
       "      <td>2022-04-03 11:47:11.326</td>\n",
       "      <td>2022-04-03 11:47:11.268</td>\n",
       "      <td>Raphi</td>\n",
       "      <td>0</td>\n",
       "      <td>-0.097963</td>\n",
       "      <td>0.366881</td>\n",
       "      <td>0.898528</td>\n",
       "      <td>-22.97260</td>\n",
       "      <td>-26.59600</td>\n",
       "      <td>-33.26940</td>\n",
       "      <td>...</td>\n",
       "      <td>0.135422</td>\n",
       "      <td>-0.126965</td>\n",
       "      <td>-0.839437</td>\n",
       "      <td>0.510728</td>\n",
       "      <td>47.500155</td>\n",
       "      <td>8.324881</td>\n",
       "      <td>0.058</td>\n",
       "      <td>0</td>\n",
       "      <td>0.0</td>\n",
       "      <td>True</td>\n",
       "    </tr>\n",
       "    <tr>\n",
       "      <th>2</th>\n",
       "      <td>2022-04-03 11:47:11.388</td>\n",
       "      <td>2022-04-03 11:47:11.326</td>\n",
       "      <td>Raphi</td>\n",
       "      <td>0</td>\n",
       "      <td>-0.114793</td>\n",
       "      <td>0.334654</td>\n",
       "      <td>0.998473</td>\n",
       "      <td>-22.77740</td>\n",
       "      <td>-26.51060</td>\n",
       "      <td>-33.09250</td>\n",
       "      <td>...</td>\n",
       "      <td>0.134209</td>\n",
       "      <td>-0.126197</td>\n",
       "      <td>-0.839677</td>\n",
       "      <td>0.510821</td>\n",
       "      <td>47.500155</td>\n",
       "      <td>8.324881</td>\n",
       "      <td>0.062</td>\n",
       "      <td>0</td>\n",
       "      <td>0.0</td>\n",
       "      <td>True</td>\n",
       "    </tr>\n",
       "    <tr>\n",
       "      <th>3</th>\n",
       "      <td>2022-04-03 11:47:11.445</td>\n",
       "      <td>2022-04-03 11:47:11.388</td>\n",
       "      <td>Raphi</td>\n",
       "      <td>0</td>\n",
       "      <td>-0.075767</td>\n",
       "      <td>0.364564</td>\n",
       "      <td>0.886332</td>\n",
       "      <td>-22.94210</td>\n",
       "      <td>-26.77900</td>\n",
       "      <td>-32.94610</td>\n",
       "      <td>...</td>\n",
       "      <td>0.134518</td>\n",
       "      <td>-0.133009</td>\n",
       "      <td>-0.839076</td>\n",
       "      <td>0.510125</td>\n",
       "      <td>47.500155</td>\n",
       "      <td>8.324881</td>\n",
       "      <td>0.057</td>\n",
       "      <td>0</td>\n",
       "      <td>0.0</td>\n",
       "      <td>True</td>\n",
       "    </tr>\n",
       "    <tr>\n",
       "      <th>4</th>\n",
       "      <td>2022-04-03 11:47:11.504</td>\n",
       "      <td>2022-04-03 11:47:11.445</td>\n",
       "      <td>Raphi</td>\n",
       "      <td>0</td>\n",
       "      <td>-0.125556</td>\n",
       "      <td>0.378345</td>\n",
       "      <td>0.905358</td>\n",
       "      <td>-23.32640</td>\n",
       "      <td>-27.35240</td>\n",
       "      <td>-32.97050</td>\n",
       "      <td>...</td>\n",
       "      <td>0.139961</td>\n",
       "      <td>-0.133803</td>\n",
       "      <td>-0.836808</td>\n",
       "      <td>0.512193</td>\n",
       "      <td>47.500155</td>\n",
       "      <td>8.324881</td>\n",
       "      <td>0.059</td>\n",
       "      <td>0</td>\n",
       "      <td>0.0</td>\n",
       "      <td>True</td>\n",
       "    </tr>\n",
       "    <tr>\n",
       "      <th>...</th>\n",
       "      <td>...</td>\n",
       "      <td>...</td>\n",
       "      <td>...</td>\n",
       "      <td>...</td>\n",
       "      <td>...</td>\n",
       "      <td>...</td>\n",
       "      <td>...</td>\n",
       "      <td>...</td>\n",
       "      <td>...</td>\n",
       "      <td>...</td>\n",
       "      <td>...</td>\n",
       "      <td>...</td>\n",
       "      <td>...</td>\n",
       "      <td>...</td>\n",
       "      <td>...</td>\n",
       "      <td>...</td>\n",
       "      <td>...</td>\n",
       "      <td>...</td>\n",
       "      <td>...</td>\n",
       "      <td>...</td>\n",
       "      <td>...</td>\n",
       "    </tr>\n",
       "    <tr>\n",
       "      <th>995</th>\n",
       "      <td>2022-03-03 17:15:50.985</td>\n",
       "      <td>2022-03-03 17:15:50.930</td>\n",
       "      <td>pascal</td>\n",
       "      <td>2</td>\n",
       "      <td>0.504633</td>\n",
       "      <td>-0.238825</td>\n",
       "      <td>-0.281297</td>\n",
       "      <td>-18.50625</td>\n",
       "      <td>34.36875</td>\n",
       "      <td>44.21250</td>\n",
       "      <td>...</td>\n",
       "      <td>-0.136460</td>\n",
       "      <td>-0.855389</td>\n",
       "      <td>-0.078397</td>\n",
       "      <td>0.493501</td>\n",
       "      <td>47.455777</td>\n",
       "      <td>8.324452</td>\n",
       "      <td>0.055</td>\n",
       "      <td>2</td>\n",
       "      <td>2.0</td>\n",
       "      <td>True</td>\n",
       "    </tr>\n",
       "    <tr>\n",
       "      <th>996</th>\n",
       "      <td>2022-03-03 17:15:51.040</td>\n",
       "      <td>2022-03-03 17:15:50.985</td>\n",
       "      <td>pascal</td>\n",
       "      <td>2</td>\n",
       "      <td>0.542593</td>\n",
       "      <td>-0.214281</td>\n",
       "      <td>-0.411243</td>\n",
       "      <td>-18.56250</td>\n",
       "      <td>30.31875</td>\n",
       "      <td>44.76563</td>\n",
       "      <td>...</td>\n",
       "      <td>-0.119247</td>\n",
       "      <td>-0.865423</td>\n",
       "      <td>-0.103203</td>\n",
       "      <td>0.475575</td>\n",
       "      <td>47.455777</td>\n",
       "      <td>8.324452</td>\n",
       "      <td>0.055</td>\n",
       "      <td>2</td>\n",
       "      <td>2.0</td>\n",
       "      <td>True</td>\n",
       "    </tr>\n",
       "    <tr>\n",
       "      <th>997</th>\n",
       "      <td>2022-03-03 17:15:51.094</td>\n",
       "      <td>2022-03-03 17:15:51.040</td>\n",
       "      <td>pascal</td>\n",
       "      <td>2</td>\n",
       "      <td>0.609090</td>\n",
       "      <td>-0.123391</td>\n",
       "      <td>-0.446993</td>\n",
       "      <td>-20.55000</td>\n",
       "      <td>27.30000</td>\n",
       "      <td>44.58750</td>\n",
       "      <td>...</td>\n",
       "      <td>-0.104388</td>\n",
       "      <td>-0.874805</td>\n",
       "      <td>-0.123782</td>\n",
       "      <td>0.456616</td>\n",
       "      <td>47.455777</td>\n",
       "      <td>8.324452</td>\n",
       "      <td>0.054</td>\n",
       "      <td>2</td>\n",
       "      <td>2.0</td>\n",
       "      <td>True</td>\n",
       "    </tr>\n",
       "    <tr>\n",
       "      <th>998</th>\n",
       "      <td>2022-03-03 17:15:51.148</td>\n",
       "      <td>2022-03-03 17:15:51.094</td>\n",
       "      <td>pascal</td>\n",
       "      <td>2</td>\n",
       "      <td>0.682662</td>\n",
       "      <td>-0.193060</td>\n",
       "      <td>-0.514710</td>\n",
       "      <td>-21.84375</td>\n",
       "      <td>27.78750</td>\n",
       "      <td>43.05000</td>\n",
       "      <td>...</td>\n",
       "      <td>-0.087123</td>\n",
       "      <td>-0.887810</td>\n",
       "      <td>-0.170553</td>\n",
       "      <td>0.418468</td>\n",
       "      <td>47.455777</td>\n",
       "      <td>8.324452</td>\n",
       "      <td>0.054</td>\n",
       "      <td>2</td>\n",
       "      <td>2.0</td>\n",
       "      <td>True</td>\n",
       "    </tr>\n",
       "    <tr>\n",
       "      <th>999</th>\n",
       "      <td>NaN</td>\n",
       "      <td>2022-03-03 17:15:51.148</td>\n",
       "      <td>pascal</td>\n",
       "      <td>2</td>\n",
       "      <td>0.670832</td>\n",
       "      <td>-0.326787</td>\n",
       "      <td>-0.508627</td>\n",
       "      <td>-23.92500</td>\n",
       "      <td>29.76563</td>\n",
       "      <td>40.23750</td>\n",
       "      <td>...</td>\n",
       "      <td>-0.081741</td>\n",
       "      <td>-0.893293</td>\n",
       "      <td>-0.197210</td>\n",
       "      <td>0.395543</td>\n",
       "      <td>47.455777</td>\n",
       "      <td>8.324452</td>\n",
       "      <td>NaN</td>\n",
       "      <td>2</td>\n",
       "      <td>NaN</td>\n",
       "      <td>False</td>\n",
       "    </tr>\n",
       "  </tbody>\n",
       "</table>\n",
       "<p>1000 rows × 23 columns</p>\n",
       "</div>"
      ],
      "text/plain": [
       "                   time_copy                     time    name  activity  \\\n",
       "0    2022-04-03 11:47:11.268  2022-04-03 11:47:11.212   Raphi         0   \n",
       "1    2022-04-03 11:47:11.326  2022-04-03 11:47:11.268   Raphi         0   \n",
       "2    2022-04-03 11:47:11.388  2022-04-03 11:47:11.326   Raphi         0   \n",
       "3    2022-04-03 11:47:11.445  2022-04-03 11:47:11.388   Raphi         0   \n",
       "4    2022-04-03 11:47:11.504  2022-04-03 11:47:11.445   Raphi         0   \n",
       "..                       ...                      ...     ...       ...   \n",
       "995  2022-03-03 17:15:50.985  2022-03-03 17:15:50.930  pascal         2   \n",
       "996  2022-03-03 17:15:51.040  2022-03-03 17:15:50.985  pascal         2   \n",
       "997  2022-03-03 17:15:51.094  2022-03-03 17:15:51.040  pascal         2   \n",
       "998  2022-03-03 17:15:51.148  2022-03-03 17:15:51.094  pascal         2   \n",
       "999                      NaN  2022-03-03 17:15:51.148  pascal         2   \n",
       "\n",
       "        acc_x     acc_y     acc_z     mag_x     mag_y     mag_z  ...  \\\n",
       "0   -0.091133  0.351148  0.945756 -23.01530 -26.72410 -33.40970  ...   \n",
       "1   -0.097963  0.366881  0.898528 -22.97260 -26.59600 -33.26940  ...   \n",
       "2   -0.114793  0.334654  0.998473 -22.77740 -26.51060 -33.09250  ...   \n",
       "3   -0.075767  0.364564  0.886332 -22.94210 -26.77900 -32.94610  ...   \n",
       "4   -0.125556  0.378345  0.905358 -23.32640 -27.35240 -32.97050  ...   \n",
       "..        ...       ...       ...       ...       ...       ...  ...   \n",
       "995  0.504633 -0.238825 -0.281297 -18.50625  34.36875  44.21250  ...   \n",
       "996  0.542593 -0.214281 -0.411243 -18.56250  30.31875  44.76563  ...   \n",
       "997  0.609090 -0.123391 -0.446993 -20.55000  27.30000  44.58750  ...   \n",
       "998  0.682662 -0.193060 -0.514710 -21.84375  27.78750  43.05000  ...   \n",
       "999  0.670832 -0.326787 -0.508627 -23.92500  29.76563  40.23750  ...   \n",
       "\n",
       "        ori_x     ori_y     ori_z     ori_w        lat      long  time_diff  \\\n",
       "0    0.136017 -0.125171 -0.839552  0.510817  47.500155  8.324881      0.056   \n",
       "1    0.135422 -0.126965 -0.839437  0.510728  47.500155  8.324881      0.058   \n",
       "2    0.134209 -0.126197 -0.839677  0.510821  47.500155  8.324881      0.062   \n",
       "3    0.134518 -0.133009 -0.839076  0.510125  47.500155  8.324881      0.057   \n",
       "4    0.139961 -0.133803 -0.836808  0.512193  47.500155  8.324881      0.059   \n",
       "..        ...       ...       ...       ...        ...       ...        ...   \n",
       "995 -0.136460 -0.855389 -0.078397  0.493501  47.455777  8.324452      0.055   \n",
       "996 -0.119247 -0.865423 -0.103203  0.475575  47.455777  8.324452      0.055   \n",
       "997 -0.104388 -0.874805 -0.123782  0.456616  47.455777  8.324452      0.054   \n",
       "998 -0.087123 -0.887810 -0.170553  0.418468  47.455777  8.324452      0.054   \n",
       "999 -0.081741 -0.893293 -0.197210  0.395543  47.455777  8.324452        NaN   \n",
       "\n",
       "     sampleid  activity_copy  activity_diff  \n",
       "0           0            0.0           True  \n",
       "1           0            0.0           True  \n",
       "2           0            0.0           True  \n",
       "3           0            0.0           True  \n",
       "4           0            0.0           True  \n",
       "..        ...            ...            ...  \n",
       "995         2            2.0           True  \n",
       "996         2            2.0           True  \n",
       "997         2            2.0           True  \n",
       "998         2            2.0           True  \n",
       "999         2            NaN          False  \n",
       "\n",
       "[1000 rows x 23 columns]"
      ]
     },
     "execution_count": 47,
     "metadata": {},
     "output_type": "execute_result"
    }
   ],
   "source": [
    "test = set_sampleid(test)\n",
    "test"
   ]
  },
  {
   "cell_type": "code",
   "execution_count": 48,
   "metadata": {},
   "outputs": [],
   "source": [
    "for i in [0,1,2]:\n",
    "    assert test[test.sampleid == i].activity.unique()[0] == i"
   ]
  },
  {
   "cell_type": "markdown",
   "metadata": {},
   "source": [
    "## Split a single sample into model samples"
   ]
  },
  {
   "cell_type": "code",
   "execution_count": 49,
   "metadata": {},
   "outputs": [
    {
     "name": "stdout",
     "output_type": "stream",
     "text": [
      "2.502 43\n",
      "2.538 43\n"
     ]
    }
   ],
   "source": [
    "test_model = test[test.sampleid == 0].drop(columns=['time_copy', 'activity_copy', 'activity_diff'])\n",
    "print(test_model.iloc[:43,:].sum().time_diff, test_model.iloc[:43,:].count().activity)\n",
    "print(test_model.iloc[44:44+43,:].sum().time_diff, test_model.iloc[43:44+42,:].count().activity)"
   ]
  },
  {
   "cell_type": "code",
   "execution_count": 50,
   "metadata": {},
   "outputs": [
    {
     "data": {
      "text/plain": [
       "[2.502, 2.5360000000000005, 2.4650000000000003, 2.4489999999999994]"
      ]
     },
     "execution_count": 50,
     "metadata": {},
     "output_type": "execute_result"
    }
   ],
   "source": [
    "splits = np.array_split(test_model.iloc[:int(np.floor(test_model.shape[0] / 43)) * 43, :], 4)\n",
    "[split.time_diff.sum() for split in splits]"
   ]
  },
  {
   "cell_type": "markdown",
   "metadata": {},
   "source": [
    "43 samples seem to amount to a timerange around 2.56 seconds. "
   ]
  },
  {
   "cell_type": "markdown",
   "metadata": {},
   "source": [
    "## Function for creating np arrays with X and y data"
   ]
  },
  {
   "cell_type": "code",
   "execution_count": 51,
   "metadata": {},
   "outputs": [],
   "source": [
    "def create_modelsampleids(df:pd.DataFrame, samplesize:int) -> np.array:\n",
    "    X = []\n",
    "    y = []\n",
    "\n",
    "    df = df.drop(columns=['time_copy', 'time_diff', 'activity_copy', 'activity_diff', 'name', 'time'])\n",
    "\n",
    "\n",
    "    for id in list(df.sampleid.unique()):\n",
    "        # filter by id\n",
    "        temp = df[df.sampleid == id]\n",
    "        temp = temp.drop(columns=['sampleid'])\n",
    "\n",
    "        # get y value\n",
    "        temp_y = temp.activity.iloc[0]\n",
    "\n",
    "        # drop activity\n",
    "        temp = temp.drop(columns=['activity'])\n",
    "        \n",
    "        # determine amount of samples to take and cut temp df\n",
    "        n = int(np.floor(temp.shape[0] / samplesize))\n",
    "        temp = temp.iloc[:n*samplesize,:]\n",
    "\n",
    "        # split samples\n",
    "        splits = np.array_split(temp, n)\n",
    "\n",
    "        # append splitted samples to X\n",
    "        for split in splits:\n",
    "            split = np.array(split)\n",
    "            X.append(split)\n",
    "            y.append(temp_y)\n",
    "\n",
    "        # generate samples offset by half the samplesize\n",
    "        # filter by id\n",
    "        temp = df[df.sampleid == id]\n",
    "        temp = temp.drop(columns=['sampleid'])\n",
    "\n",
    "        # get y value\n",
    "        temp_y = temp.activity.iloc[0]\n",
    "\n",
    "        # drop activity\n",
    "        temp = temp.drop(columns=['activity'])\n",
    "\n",
    "        # cut off half the samplesize at the beginning\n",
    "        start = samplesize - (samplesize // 2)\n",
    "        temp = temp.iloc[start:,:]\n",
    "\n",
    "        # determine amount of samples to take and cut temp df\n",
    "        n = int(np.floor(temp.shape[0] / samplesize))\n",
    "        temp = temp.iloc[:n*samplesize,:]\n",
    "\n",
    "        # split samples\n",
    "        splits = np.array_split(temp, n)\n",
    "\n",
    "        # append splitted samples to X\n",
    "        for split in splits:\n",
    "            split = np.array(split)\n",
    "            X.append(split)\n",
    "            y.append(temp_y)\n",
    "        \n",
    "\n",
    "    # create data tuple\n",
    "    data = (np.array(X), np.array(y))\n",
    "\n",
    "    return data"
   ]
  },
  {
   "cell_type": "code",
   "execution_count": 52,
   "metadata": {},
   "outputs": [
    {
     "data": {
      "text/plain": [
       "Index(['time_copy', 'time', 'name', 'activity', 'acc_x', 'acc_y', 'acc_z',\n",
       "       'mag_x', 'mag_y', 'mag_z', 'gyr_x', 'gyr_y', 'gyr_z', 'ori_x', 'ori_y',\n",
       "       'ori_z', 'ori_w', 'lat', 'long', 'time_diff', 'sampleid',\n",
       "       'activity_copy', 'activity_diff'],\n",
       "      dtype='object')"
      ]
     },
     "execution_count": 52,
     "metadata": {},
     "output_type": "execute_result"
    }
   ],
   "source": [
    "test.columns"
   ]
  },
  {
   "cell_type": "code",
   "execution_count": 53,
   "metadata": {},
   "outputs": [
    {
     "data": {
      "text/plain": [
       "((43,), (43, 43, 15))"
      ]
     },
     "execution_count": 53,
     "metadata": {},
     "output_type": "execute_result"
    }
   ],
   "source": [
    "data = create_modelsampleids(test, 43)\n",
    "data[1].shape, data[0].shape"
   ]
  },
  {
   "cell_type": "markdown",
   "metadata": {},
   "source": [
    "## Function for creating df with model sample id"
   ]
  },
  {
   "cell_type": "code",
   "execution_count": 54,
   "metadata": {},
   "outputs": [],
   "source": [
    "def create_modelsampleids_df(df:pd.DataFrame, samplesize:int) -> (pd.DataFrame, np.array):\n",
    "    df['modelsampleid'] = 0\n",
    "    columns = list(df.columns)\n",
    "    count = 0\n",
    "    df_ids = pd.DataFrame(columns=columns)\n",
    "    print(df.activity.unique())\n",
    "\n",
    "    for id in list(df.sampleid.unique()):\n",
    "        # filter by id\n",
    "        temp = df[df.sampleid == id]\n",
    "        \n",
    "        # determine amount of samples to take and cut frame\n",
    "        n = int(np.floor(temp.shape[0] / samplesize))\n",
    "        temp = temp.iloc[:n*samplesize,:]\n",
    "\n",
    "        # split samples\n",
    "        splits = np.array_split(temp, n)\n",
    "\n",
    "        # loop over split samples and set modelsampleid\n",
    "        for split in splits:\n",
    "            split['modelsampleid'] = count\n",
    "            count += 1\n",
    "\n",
    "        temp = np.vstack(splits)\n",
    "        # np array to df_ids\n",
    "        temp = pd.DataFrame(temp, columns=columns)\n",
    "\n",
    "        df_ids = pd.concat([df_ids, temp])\n",
    "\n",
    "    df_ids = df_ids.reset_index()\n",
    "    df_ids = df_ids.drop(columns=['index', 'time_copy', 'time_diff', 'activity_copy', 'activity_diff', 'sampleid', 'name'])\n",
    "    assert df_ids.shape[0] / samplesize == df_ids['modelsampleid'].nunique()\n",
    "\n",
    "    return df_ids"
   ]
  },
  {
   "cell_type": "markdown",
   "metadata": {},
   "source": [
    "## Preparing arrays for model"
   ]
  },
  {
   "cell_type": "code",
   "execution_count": 55,
   "metadata": {},
   "outputs": [
    {
     "data": {
      "text/html": [
       "<div>\n",
       "<style scoped>\n",
       "    .dataframe tbody tr th:only-of-type {\n",
       "        vertical-align: middle;\n",
       "    }\n",
       "\n",
       "    .dataframe tbody tr th {\n",
       "        vertical-align: top;\n",
       "    }\n",
       "\n",
       "    .dataframe thead th {\n",
       "        text-align: right;\n",
       "    }\n",
       "</style>\n",
       "<table border=\"1\" class=\"dataframe\">\n",
       "  <thead>\n",
       "    <tr style=\"text-align: right;\">\n",
       "      <th></th>\n",
       "      <th>time</th>\n",
       "      <th>name</th>\n",
       "      <th>activity</th>\n",
       "      <th>acc_x</th>\n",
       "      <th>acc_y</th>\n",
       "      <th>acc_z</th>\n",
       "      <th>mag_x</th>\n",
       "      <th>mag_y</th>\n",
       "      <th>mag_z</th>\n",
       "      <th>gyr_x</th>\n",
       "      <th>gyr_y</th>\n",
       "      <th>gyr_z</th>\n",
       "      <th>ori_x</th>\n",
       "      <th>ori_y</th>\n",
       "      <th>ori_z</th>\n",
       "      <th>ori_w</th>\n",
       "    </tr>\n",
       "  </thead>\n",
       "  <tbody>\n",
       "    <tr>\n",
       "      <th>0</th>\n",
       "      <td>2022-04-03 11:47:11.212</td>\n",
       "      <td>Raphi</td>\n",
       "      <td>Sitting</td>\n",
       "      <td>-0.091133</td>\n",
       "      <td>0.351148</td>\n",
       "      <td>0.945756</td>\n",
       "      <td>-23.0153</td>\n",
       "      <td>-26.7241</td>\n",
       "      <td>-33.4097</td>\n",
       "      <td>0.047035</td>\n",
       "      <td>-0.022907</td>\n",
       "      <td>0.008399</td>\n",
       "      <td>0.136017</td>\n",
       "      <td>-0.125171</td>\n",
       "      <td>-0.839552</td>\n",
       "      <td>0.510817</td>\n",
       "    </tr>\n",
       "    <tr>\n",
       "      <th>1</th>\n",
       "      <td>2022-04-03 11:47:11.268</td>\n",
       "      <td>Raphi</td>\n",
       "      <td>Sitting</td>\n",
       "      <td>-0.097963</td>\n",
       "      <td>0.366881</td>\n",
       "      <td>0.898528</td>\n",
       "      <td>-22.9726</td>\n",
       "      <td>-26.5960</td>\n",
       "      <td>-33.2694</td>\n",
       "      <td>-0.050089</td>\n",
       "      <td>-0.041232</td>\n",
       "      <td>-0.025808</td>\n",
       "      <td>0.135422</td>\n",
       "      <td>-0.126965</td>\n",
       "      <td>-0.839437</td>\n",
       "      <td>0.510728</td>\n",
       "    </tr>\n",
       "    <tr>\n",
       "      <th>2</th>\n",
       "      <td>2022-04-03 11:47:11.326</td>\n",
       "      <td>Raphi</td>\n",
       "      <td>Sitting</td>\n",
       "      <td>-0.114793</td>\n",
       "      <td>0.334654</td>\n",
       "      <td>0.998473</td>\n",
       "      <td>-22.7774</td>\n",
       "      <td>-26.5106</td>\n",
       "      <td>-33.0925</td>\n",
       "      <td>0.150879</td>\n",
       "      <td>-0.098041</td>\n",
       "      <td>0.096972</td>\n",
       "      <td>0.134209</td>\n",
       "      <td>-0.126197</td>\n",
       "      <td>-0.839677</td>\n",
       "      <td>0.510821</td>\n",
       "    </tr>\n",
       "    <tr>\n",
       "      <th>3</th>\n",
       "      <td>2022-04-03 11:47:11.388</td>\n",
       "      <td>Raphi</td>\n",
       "      <td>Sitting</td>\n",
       "      <td>-0.075767</td>\n",
       "      <td>0.364564</td>\n",
       "      <td>0.886332</td>\n",
       "      <td>-22.9421</td>\n",
       "      <td>-26.7790</td>\n",
       "      <td>-32.9461</td>\n",
       "      <td>0.196082</td>\n",
       "      <td>0.096208</td>\n",
       "      <td>-0.009926</td>\n",
       "      <td>0.134518</td>\n",
       "      <td>-0.133009</td>\n",
       "      <td>-0.839076</td>\n",
       "      <td>0.510125</td>\n",
       "    </tr>\n",
       "    <tr>\n",
       "      <th>4</th>\n",
       "      <td>2022-04-03 11:47:11.445</td>\n",
       "      <td>Raphi</td>\n",
       "      <td>Sitting</td>\n",
       "      <td>-0.125556</td>\n",
       "      <td>0.378345</td>\n",
       "      <td>0.905358</td>\n",
       "      <td>-23.3264</td>\n",
       "      <td>-27.3524</td>\n",
       "      <td>-32.9705</td>\n",
       "      <td>0.027488</td>\n",
       "      <td>0.019242</td>\n",
       "      <td>0.138510</td>\n",
       "      <td>0.139961</td>\n",
       "      <td>-0.133803</td>\n",
       "      <td>-0.836808</td>\n",
       "      <td>0.512193</td>\n",
       "    </tr>\n",
       "  </tbody>\n",
       "</table>\n",
       "</div>"
      ],
      "text/plain": [
       "                      time   name activity     acc_x     acc_y     acc_z  \\\n",
       "0  2022-04-03 11:47:11.212  Raphi  Sitting -0.091133  0.351148  0.945756   \n",
       "1  2022-04-03 11:47:11.268  Raphi  Sitting -0.097963  0.366881  0.898528   \n",
       "2  2022-04-03 11:47:11.326  Raphi  Sitting -0.114793  0.334654  0.998473   \n",
       "3  2022-04-03 11:47:11.388  Raphi  Sitting -0.075767  0.364564  0.886332   \n",
       "4  2022-04-03 11:47:11.445  Raphi  Sitting -0.125556  0.378345  0.905358   \n",
       "\n",
       "     mag_x    mag_y    mag_z     gyr_x     gyr_y     gyr_z     ori_x  \\\n",
       "0 -23.0153 -26.7241 -33.4097  0.047035 -0.022907  0.008399  0.136017   \n",
       "1 -22.9726 -26.5960 -33.2694 -0.050089 -0.041232 -0.025808  0.135422   \n",
       "2 -22.7774 -26.5106 -33.0925  0.150879 -0.098041  0.096972  0.134209   \n",
       "3 -22.9421 -26.7790 -32.9461  0.196082  0.096208 -0.009926  0.134518   \n",
       "4 -23.3264 -27.3524 -32.9705  0.027488  0.019242  0.138510  0.139961   \n",
       "\n",
       "      ori_y     ori_z     ori_w  \n",
       "0 -0.125171 -0.839552  0.510817  \n",
       "1 -0.126965 -0.839437  0.510728  \n",
       "2 -0.126197 -0.839677  0.510821  \n",
       "3 -0.133009 -0.839076  0.510125  \n",
       "4 -0.133803 -0.836808  0.512193  "
      ]
     },
     "execution_count": 55,
     "metadata": {},
     "output_type": "execute_result"
    }
   ],
   "source": [
    "df = pd.read_csv(\"../Analyse/df_clean.csv\", index_col=0)\n",
    "df = df.drop(columns=['lat', 'long'])\n",
    "df.head()"
   ]
  },
  {
   "cell_type": "code",
   "execution_count": 56,
   "metadata": {},
   "outputs": [],
   "source": [
    "# encode activities to numbers\n",
    "df.activity = df.activity.map({'Sitting': 0, 'Transport': 1, 'Bicycling':2, 'Walking':3, 'Elevatoring':4, 'Jogging':5, 'Stairway':6})\n",
    "\n",
    "# prepare df\n",
    "df = prep_df(df)\n",
    "\n",
    "# set sample ids\n",
    "df = set_sampleid(df)\n",
    "\n",
    "# model sample ids\n",
    "data = create_modelsampleids(df, 43)"
   ]
  },
  {
   "cell_type": "code",
   "execution_count": 57,
   "metadata": {},
   "outputs": [],
   "source": [
    "# check if na in array\n",
    "for i in range(0, data[0].shape[0]):\n",
    "    if np.isnan(data[0][i]).any():\n",
    "        print(\"stop\", i)\n",
    "        break"
   ]
  },
  {
   "cell_type": "code",
   "execution_count": 58,
   "metadata": {},
   "outputs": [],
   "source": [
    "# StratifiedShuffleSplit with data\n",
    "from sklearn.model_selection import StratifiedShuffleSplit\n",
    "sss = StratifiedShuffleSplit(n_splits=1, test_size=0.2, random_state=42)\n",
    "for train_index, test_index in sss.split(data[0], data[1]):\n",
    "    X_train, X_test = data[0][train_index], data[0][test_index]\n",
    "    y_train, y_test = data[1][train_index], data[1][test_index]"
   ]
  },
  {
   "cell_type": "code",
   "execution_count": 59,
   "metadata": {},
   "outputs": [
    {
     "data": {
      "image/png": "[encoded data removed]",
      "text/plain": [
       "<Figure size 1512x720 with 1 Axes>"
      ]
     },
     "metadata": {},
     "output_type": "display_data"
    }
   ],
   "source": [
    "# Check stratified sampling operation\n",
    "ntest = y_test.shape[0]\n",
    "ntrain = y_train.shape[0]\n",
    "pd.DataFrame({'test':pd.Series(y_test).value_counts() / ntest, 'train':pd.Series(y_train).value_counts() / ntrain}).plot.bar()\n",
    "plt.title(\"Check Stratified Sampling Operation\", fontsize=20)\n",
    "plt.xlabel(\"Activity\")\n",
    "plt.ylabel(\"Percentage of n samples per activity\")\n",
    "plt.show()"
   ]
  },
  {
   "cell_type": "code",
   "execution_count": 60,
   "metadata": {},
   "outputs": [],
   "source": [
    "# export data\n",
    "np.savez_compressed('train.npz', X=X_train, y=y_train)\n",
    "np.savez_compressed('test.npz', X=X_test, y=y_test)"
   ]
  },
  {
   "cell_type": "code",
   "execution_count": 63,
   "metadata": {},
   "outputs": [
    {
     "name": "stdout",
     "output_type": "stream",
     "text": [
      "\n",
      "Trainingsdaten:\t (67719, 43, 13) (67719,)\n",
      "\n",
      "Testdaten:\t (16930, 43, 13) (16930,)\n"
     ]
    }
   ],
   "source": [
    "print(\"\\nTrainingsdaten:\\t\", X_train.shape, y_train.shape)\n",
    "print(\"\\nTestdaten:\\t\", X_test.shape, y_test.shape)"
   ]
  },
  {
   "cell_type": "markdown",
   "metadata": {},
   "source": [
    "# Savgol filter\n",
    "\n",
    "Der Savgol Filter zeigte keine Verbesserungen, bei der Verwendung der Daten, zum Training des CNNs. Deshalb wurden diese Daten nicht weiter verwendet. "
   ]
  },
  {
   "cell_type": "code",
   "execution_count": null,
   "metadata": {},
   "outputs": [],
   "source": [
    "train = np.load(\"train.npz\")\n",
    "test = np.load(\"test.npz\")"
   ]
  },
  {
   "cell_type": "code",
   "execution_count": null,
   "metadata": {},
   "outputs": [],
   "source": [
    "X = train['X']\n",
    "y = train['y']\n",
    "\n",
    "for i in range(0, X.shape[0]):\n",
    "    X[i] = savgol_filter(X[i], window_length=5, polyorder=3, axis=1)"
   ]
  },
  {
   "cell_type": "code",
   "execution_count": 241,
   "metadata": {},
   "outputs": [],
   "source": [
    "np.savez_compressed('train_savgol.npz', X=X, y=y)"
   ]
  },
  {
   "cell_type": "code",
   "execution_count": 242,
   "metadata": {},
   "outputs": [],
   "source": [
    "X = test['X']\n",
    "y = test['y']\n",
    "\n",
    "for i in range(0, X.shape[0]):\n",
    "    X[i] = savgol_filter(X[i], window_length=5, polyorder=3, axis=1)"
   ]
  },
  {
   "cell_type": "code",
   "execution_count": 243,
   "metadata": {},
   "outputs": [],
   "source": [
    "np.savez_compressed('test_savgol.npz', X=X, y=y)"
   ]
  },
  {
   "cell_type": "code",
   "execution_count": 244,
   "metadata": {},
   "outputs": [
    {
     "data": {
      "text/plain": [
       "(33887, 43, 13)"
      ]
     },
     "execution_count": 244,
     "metadata": {},
     "output_type": "execute_result"
    }
   ],
   "source": [
    "X = np.load('train_savgol.npz')['X']\n",
    "X.shape"
   ]
  },
  {
   "cell_type": "code",
   "execution_count": 245,
   "metadata": {},
   "outputs": [
    {
     "data": {
      "text/plain": [
       "(8472, 43, 13)"
      ]
     },
     "execution_count": 245,
     "metadata": {},
     "output_type": "execute_result"
    }
   ],
   "source": [
    "X = np.load('test_savgol.npz')['X']\n",
    "X.shape"
   ]
  }
 ],
 "metadata": {
  "interpreter": {
   "hash": "0c9bc48c21beab2b0f32e8d101c9520d36e79f2e4cdd41fe4d46a0083fb82e6b"
  },
  "kernelspec": {
   "display_name": "Python 3.8.5 ('venv': venv)",
   "language": "python",
   "name": "python3"
  },
  "language_info": {
   "codemirror_mode": {
    "name": "ipython",
    "version": 3
   },
   "file_extension": ".py",
   "mimetype": "text/x-python",
   "name": "python",
   "nbconvert_exporter": "python",
   "pygments_lexer": "ipython3",
   "version": "3.8.5"
  },
  "orig_nbformat": 4
 },
 "nbformat": 4,
 "nbformat_minor": 2
}
