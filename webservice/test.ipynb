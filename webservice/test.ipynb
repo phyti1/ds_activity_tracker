{
 "cells": [
  {
   "cell_type": "code",
   "execution_count": 1,
   "metadata": {},
   "outputs": [],
   "source": [
    "import pickle\n",
    "import flask\n",
    "import pandas as pd\n",
    "import numpy as np\n",
    "import os, io, json\n",
    "import torch\n",
    "import torch.nn as nn\n",
    "import torch.nn.functional as F\n",
    "from math import sin, cos, sqrt, atan2, radians"
   ]
  },
  {
   "cell_type": "code",
   "execution_count": 2,
   "metadata": {},
   "outputs": [],
   "source": [
    "class CNN_RS_FM(torch.nn.Module):\n",
    "    def __init__(self, poolingFunction, bnFunction, activationFunction, kernel=None, stride=None, padding=None):\n",
    "        super(CNN_RS_FM, self).__init__()\n",
    "\n",
    "        # building network with specified number of layers, poolingFunction and bnFunction\n",
    "        self.network = torch.nn.Sequential(\n",
    "            torch.nn.Conv2d(in_channels=1, out_channels=16, kernel_size=3, stride=1, padding=2),\n",
    "            poolingFunction(kernel_size=2, stride=2, padding=1),\n",
    "            activationFunction(),\n",
    "            # bnFunction(num_features=16),\n",
    "        \n",
    "            torch.nn.Conv2d(in_channels=16, out_channels=32, kernel_size=3, stride=1, padding=1),\n",
    "            poolingFunction(kernel_size=2, stride=2, padding=1),\n",
    "            activationFunction(),\n",
    "            # bnFunction(num_features=32),\n",
    "\n",
    "            torch.nn.Conv2d(in_channels=32, out_channels=64, kernel_size=3, stride=1, padding=1),\n",
    "            poolingFunction(kernel_size=2, stride=2, padding=1),\n",
    "            activationFunction(),\n",
    "            # bnFunction(num_features=64),\n",
    "        )\n",
    "\n",
    "        self.linStack = torch.nn.Sequential(\n",
    "            torch.nn.Linear(in_features=1344, out_features=672),\n",
    "            torch.nn.ReLU(),\n",
    "            torch.nn.BatchNorm1d(num_features=672),\n",
    "\n",
    "            torch.nn.Linear(in_features=672, out_features=336),\n",
    "            torch.nn.ReLU(),\n",
    "            torch.nn.BatchNorm1d(num_features=336),\n",
    "\n",
    "            torch.nn.Linear(in_features=336, out_features=7),\n",
    "        )\n",
    "\n",
    "    def forward(self, x):\n",
    "        x = self.network(x)\n",
    "        x = torch.nn.Flatten(1)(x)\n",
    "        x = self.linStack(x)\n",
    "        return x"
   ]
  },
  {
   "cell_type": "code",
   "execution_count": 3,
   "metadata": {},
   "outputs": [],
   "source": [
    "def prep_RS_FM(df, samplesize:int=43):\n",
    "  '''\n",
    "  Prepares data for Group RS_FM\n",
    "\n",
    "  - removes all columns but ['acc_x','acc_y','acc_z','mag_x','mag_y','mag_z','gyr_x','gyr_y','gyr_z','ori_x','ori_y','ori_z','ori_w']\n",
    "  - turns pd.DataFrame into np.array\n",
    "  - splits array into samples of size samplesize\n",
    "  - turns list with splits into array\n",
    "  - checks shape\n",
    "  - turns array into tensor\n",
    "\n",
    "  '''\n",
    "  # remove unnecessary columns\n",
    "  df.columns = ['time','name','activity','acc_x','acc_y','acc_z','mag_x','mag_y','mag_z','gyr_x','gyr_y','gyr_z','ori_x','ori_y','ori_z','ori_w','lat','long']\n",
    "  df.loc[:, 'time'] = pd.to_datetime(df.loc[:, 'time'] + \"000\") # format=\"%d.%m.%Y %H:%M.%S.%f\"\n",
    "  df = df[['acc_x','acc_y','acc_z','mag_x','mag_y','mag_z','gyr_x','gyr_y','gyr_z','ori_x','ori_y','ori_z','ori_w']]\n",
    "  arr = df.values\n",
    "\n",
    "  # split into samples\n",
    "  split = arr.shape[0] // samplesize\n",
    "  stop = samplesize * split\n",
    "  arr = arr[:stop,:]\n",
    "  arr = np.array(np.array_split(arr, split))\n",
    "\n",
    "  # assert shape\n",
    "  assert arr.shape == (split, samplesize, 13)\n",
    "\n",
    "  # turn into tensor\n",
    "  arr = torch.from_numpy(arr)#.to(device)\n",
    "\n",
    "  return arr"
   ]
  },
  {
   "cell_type": "code",
   "execution_count": 5,
   "metadata": {},
   "outputs": [],
   "source": [
    "def pred_CNN_RS_FM(data:torch.tensor, model):\n",
    "  pred = model(data)\n",
    "  pred = torch.argmax(pred, dim=1)\n",
    "  "
   ]
  },
  {
   "cell_type": "code",
   "execution_count": 117,
   "metadata": {},
   "outputs": [],
   "source": [
    "model = CNN_RS_FM(poolingFunction=torch.nn.MaxPool2d, bnFunction=torch.nn.BatchNorm2d, activationFunction=torch.nn.ReLU)\n",
    "model.load_state_dict(torch.load(\"models/97%model.pt\", map_location=torch.device('cpu')))\n",
    "test_df = pd.read_csv('../df_clean.csv').iloc[:,1:]\n",
    "test_df = prep_RS_FM(df=test_df)"
   ]
  },
  {
   "cell_type": "code",
   "execution_count": 133,
   "metadata": {},
   "outputs": [
    {
     "data": {
      "text/plain": [
       "'Sitting'"
      ]
     },
     "execution_count": 133,
     "metadata": {},
     "output_type": "execute_result"
    }
   ],
   "source": [
    "model.eval()\n",
    "pred = model(test_df[0:4].unsqueeze(1).float())\n",
    "pred = torch.argmax(pred, dim=1)\n",
    "pred = torch.argmax(pred).item()\n",
    "labels = ['Sitting', 'Transport', 'Bicycling', 'Walking', 'Elevatoring', 'Jogging', 'Stairway']\n",
    "labels[pred]"
   ]
  }
 ],
 "metadata": {
  "interpreter": {
   "hash": "0c9bc48c21beab2b0f32e8d101c9520d36e79f2e4cdd41fe4d46a0083fb82e6b"
  },
  "kernelspec": {
   "display_name": "Python 3.8.5 ('venv': venv)",
   "language": "python",
   "name": "python3"
  },
  "language_info": {
   "codemirror_mode": {
    "name": "ipython",
    "version": 3
   },
   "file_extension": ".py",
   "mimetype": "text/x-python",
   "name": "python",
   "nbconvert_exporter": "python",
   "pygments_lexer": "ipython3",
   "version": "3.8.5"
  },
  "orig_nbformat": 4
 },
 "nbformat": 4,
 "nbformat_minor": 2
}
