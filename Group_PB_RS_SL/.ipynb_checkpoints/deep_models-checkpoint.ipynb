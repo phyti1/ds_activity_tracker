{
 "cells": [
  {
   "cell_type": "markdown",
   "metadata": {},
   "source": [
    "# Deep learning model"
   ]
  },
  {
   "cell_type": "code",
   "execution_count": 3,
   "metadata": {},
   "outputs": [],
   "source": [
    "import os\n",
    "import pickle\n",
    "import numpy as np\n",
    "import pandas as pd\n",
    "from tqdm import tqdm\n",
    "import seaborn as sns\n",
    "import matplotlib.pyplot as plt\n",
    "from datetime import datetime\n",
    "\n",
    "import torch\n",
    "import torch.nn as nn\n",
    "import torch.nn.functional as F\n",
    "from torch.utils.data import Dataset, DataLoader\n",
    "\n",
    "from sklearn.model_selection import train_test_split\n",
    "from sklearn.preprocessing import LabelEncoder\n",
    "from sklearn.metrics import f1_score  \n",
    "from sklearn import preprocessing\n",
    "from sklearn.metrics import classification_report, confusion_matrix\n",
    "\n",
    "torch.manual_seed(0)\n",
    "\n",
    "import warnings\n",
    "warnings.filterwarnings('ignore')\n",
    "\n",
    "import wandb\n",
    "os.environ[\"WANDB_SILENT\"] = \"True\""
   ]
  },
  {
   "cell_type": "markdown",
   "metadata": {},
   "source": [
    "## Setup"
   ]
  },
  {
   "cell_type": "markdown",
   "metadata": {},
   "source": [
    "### Specify device\n",
    "Checkt ob eine GPU mit cuda kompatibilität verfügbar ist und spezifiziert entsprechend ob das Modell auf der CPU oder GPU ausgeführt werden soll."
   ]
  },
  {
   "cell_type": "code",
   "execution_count": 2,
   "metadata": {},
   "outputs": [
    {
     "data": {
      "text/plain": [
       "device(type='cpu')"
      ]
     },
     "execution_count": 2,
     "metadata": {},
     "output_type": "execute_result"
    }
   ],
   "source": [
    "device = torch.device(\"cuda\" if torch.cuda.is_available() else \"cpu\")\n",
    "device"
   ]
  },
  {
   "cell_type": "markdown",
   "metadata": {},
   "source": [
    "### Read in training dataframe\n",
    "\n",
    "In einem ersten Schritt wird das Dataframe ins Notebook geladen. Dieses besitzt bereits eine zusätzliche Spalte, welche die Messwerte dem Zeitstempel nach auf 5-Sekunden-Abschnitte gruppiert. Zudem wurden die Sensordaten bereits pro Sensor zusammengefasst. Es bildet die Datengrundlage, aus welcher anschliessend ein Datensatz für das Training der Modelle gebildet wird. "
   ]
  },
  {
   "cell_type": "code",
   "execution_count": 3,
   "metadata": {},
   "outputs": [
    {
     "data": {
      "text/html": [
       "<div>\n",
       "<style scoped>\n",
       "    .dataframe tbody tr th:only-of-type {\n",
       "        vertical-align: middle;\n",
       "    }\n",
       "\n",
       "    .dataframe tbody tr th {\n",
       "        vertical-align: top;\n",
       "    }\n",
       "\n",
       "    .dataframe thead th {\n",
       "        text-align: right;\n",
       "    }\n",
       "</style>\n",
       "<table border=\"1\" class=\"dataframe\">\n",
       "  <thead>\n",
       "    <tr style=\"text-align: right;\">\n",
       "      <th></th>\n",
       "      <th>time</th>\n",
       "      <th>name</th>\n",
       "      <th>activity</th>\n",
       "      <th>acc</th>\n",
       "      <th>mag</th>\n",
       "      <th>gyr</th>\n",
       "      <th>ori</th>\n",
       "      <th>kmh</th>\n",
       "      <th>5s_index</th>\n",
       "    </tr>\n",
       "  </thead>\n",
       "  <tbody>\n",
       "    <tr>\n",
       "      <th>0</th>\n",
       "      <td>2022-04-03 11:47:11.212</td>\n",
       "      <td>Raphi</td>\n",
       "      <td>Sitting</td>\n",
       "      <td>31.205772</td>\n",
       "      <td>5916.8509</td>\n",
       "      <td>90.032528</td>\n",
       "      <td>3.682111</td>\n",
       "      <td>0.0</td>\n",
       "      <td>39527230.0</td>\n",
       "    </tr>\n",
       "    <tr>\n",
       "      <th>1</th>\n",
       "      <td>2022-04-03 11:47:11.268</td>\n",
       "      <td>Raphi</td>\n",
       "      <td>Sitting</td>\n",
       "      <td>31.167446</td>\n",
       "      <td>5917.1620</td>\n",
       "      <td>89.882870</td>\n",
       "      <td>3.679749</td>\n",
       "      <td>0.0</td>\n",
       "      <td>39527230.0</td>\n",
       "    </tr>\n",
       "    <tr>\n",
       "      <th>2</th>\n",
       "      <td>2022-04-03 11:47:11.326</td>\n",
       "      <td>Raphi</td>\n",
       "      <td>Sitting</td>\n",
       "      <td>31.218333</td>\n",
       "      <td>5917.6195</td>\n",
       "      <td>90.149810</td>\n",
       "      <td>3.679155</td>\n",
       "      <td>0.0</td>\n",
       "      <td>39527230.0</td>\n",
       "    </tr>\n",
       "    <tr>\n",
       "      <th>3</th>\n",
       "      <td>2022-04-03 11:47:11.388</td>\n",
       "      <td>Raphi</td>\n",
       "      <td>Sitting</td>\n",
       "      <td>31.175130</td>\n",
       "      <td>5917.3328</td>\n",
       "      <td>90.282364</td>\n",
       "      <td>3.672559</td>\n",
       "      <td>0.0</td>\n",
       "      <td>39527230.0</td>\n",
       "    </tr>\n",
       "    <tr>\n",
       "      <th>4</th>\n",
       "      <td>2022-04-03 11:47:11.445</td>\n",
       "      <td>Raphi</td>\n",
       "      <td>Sitting</td>\n",
       "      <td>31.158147</td>\n",
       "      <td>5916.3507</td>\n",
       "      <td>90.185239</td>\n",
       "      <td>3.681543</td>\n",
       "      <td>0.0</td>\n",
       "      <td>39527230.0</td>\n",
       "    </tr>\n",
       "  </tbody>\n",
       "</table>\n",
       "</div>"
      ],
      "text/plain": [
       "                      time   name activity        acc        mag        gyr  \\\n",
       "0  2022-04-03 11:47:11.212  Raphi  Sitting  31.205772  5916.8509  90.032528   \n",
       "1  2022-04-03 11:47:11.268  Raphi  Sitting  31.167446  5917.1620  89.882870   \n",
       "2  2022-04-03 11:47:11.326  Raphi  Sitting  31.218333  5917.6195  90.149810   \n",
       "3  2022-04-03 11:47:11.388  Raphi  Sitting  31.175130  5917.3328  90.282364   \n",
       "4  2022-04-03 11:47:11.445  Raphi  Sitting  31.158147  5916.3507  90.185239   \n",
       "\n",
       "        ori  kmh    5s_index  \n",
       "0  3.682111  0.0  39527230.0  \n",
       "1  3.679749  0.0  39527230.0  \n",
       "2  3.679155  0.0  39527230.0  \n",
       "3  3.672559  0.0  39527230.0  \n",
       "4  3.681543  0.0  39527230.0  "
      ]
     },
     "execution_count": 3,
     "metadata": {},
     "output_type": "execute_result"
    }
   ],
   "source": [
    "df = pd.read_csv(\"./data/deep_models.csv\")\n",
    "df.head()"
   ]
  },
  {
   "cell_type": "markdown",
   "metadata": {},
   "source": [
    "## Eda & Preprocessing"
   ]
  },
  {
   "cell_type": "markdown",
   "metadata": {},
   "source": [
    "### Visualize samples\n",
    "Nachfolgend wird die erste 5-Sekunden-Gruppe visualisiert."
   ]
  },
  {
   "cell_type": "code",
   "execution_count": 4,
   "metadata": {},
   "outputs": [
    {
     "data": {
      "image/png": "[encoded data removed]",
      "text/plain": [
       "<Figure size 2016x288 with 1 Axes>"
      ]
     },
     "metadata": {
      "needs_background": "light"
     },
     "output_type": "display_data"
    },
    {
     "name": "stdout",
     "output_type": "stream",
     "text": [
      "Nr of samples: 98\n"
     ]
    }
   ],
   "source": [
    "sample_1 = df.loc[df[\"5s_index\"]==list(set(df[\"5s_index\"]))[0]]\n",
    "\n",
    "sample_1\n",
    "sample_1[\"time\"] = pd.to_datetime(sample_1[\"time\"], format='%Y-%m-%d %H:%M:%S.%f')\n",
    "\n",
    "plt.figure(figsize=(28,4))\n",
    "plt.scatter(data=sample_1, x=\"time\", y=\"activity\")\n",
    "plt.show()\n",
    "\n",
    "print(\"Nr of samples:\", len(sample_1))"
   ]
  },
  {
   "cell_type": "markdown",
   "metadata": {},
   "source": [
    "Unser erstes Beispiel hat eine Länge von 98 Samples und alle Messwerte wurden auf derselben Aktivität aufgezeichnet. Das macht an sich Sinn, da wir aus der bisherigen Analyse im models.ipynb Notebook wissen, dass die meisten Messungen um 90 bis 100 Samples besitzen. Für unser CNN benötigen wir jedoch eine fixe Länge an Messpunkten, damit die Dimensionen der Tensoren einheitlich sind. Die einzelnen Sensoren besitzen ausserdem unterschiedliche Werteskalen. Diese möchten wir auch vor dem training standardisieren."
   ]
  },
  {
   "cell_type": "code",
   "execution_count": 5,
   "metadata": {},
   "outputs": [],
   "source": [
    "df.isna().sum(axis=1).value_counts()\n",
    "df = df.dropna(axis=\"index\")"
   ]
  },
  {
   "cell_type": "markdown",
   "metadata": {},
   "source": [
    "### Normalize scales"
   ]
  },
  {
   "cell_type": "code",
   "execution_count": 6,
   "metadata": {},
   "outputs": [],
   "source": [
    "x = df[[\"acc\", \"mag\", \"gyr\", \"ori\", \"kmh\"]].values #returns a numpy array\n",
    "min_max_scaler = preprocessing.MinMaxScaler()\n",
    "x_scaled = min_max_scaler.fit_transform(x)\n",
    "df_val = pd.DataFrame(x_scaled)\n",
    "df[[\"acc\", \"mag\", \"gyr\", \"ori\", \"kmh\"]] = df_val"
   ]
  },
  {
   "cell_type": "code",
   "execution_count": 7,
   "metadata": {},
   "outputs": [
    {
     "data": {
      "text/plain": [
       "array([[<AxesSubplot:title={'center':'acc'}>,\n",
       "        <AxesSubplot:title={'center':'mag'}>],\n",
       "       [<AxesSubplot:title={'center':'gyr'}>,\n",
       "        <AxesSubplot:title={'center':'ori'}>],\n",
       "       [<AxesSubplot:title={'center':'kmh'}>, <AxesSubplot:>]],\n",
       "      dtype=object)"
      ]
     },
     "execution_count": 7,
     "metadata": {},
     "output_type": "execute_result"
    },
    {
     "data": {
      "image/png": "[encoded data removed]",
      "text/plain": [
       "<Figure size 432x288 with 6 Axes>"
      ]
     },
     "metadata": {
      "needs_background": "light"
     },
     "output_type": "display_data"
    }
   ],
   "source": [
    "df[[\"acc\", \"mag\", \"gyr\", \"ori\", \"kmh\"]].hist()"
   ]
  },
  {
   "cell_type": "markdown",
   "metadata": {},
   "source": [
    "### Create ~5 sec samples\n",
    "\n",
    "From the analysis from the non-deep learning model, we know that the sample size varies per 5 second time window. Because the CNN needs a fixed size in our setup, the length of the samples is set to 90 points of measures."
   ]
  },
  {
   "cell_type": "code",
   "execution_count": 8,
   "metadata": {},
   "outputs": [],
   "source": [
    "sample_length = 90\n",
    "\n",
    "# cut upper boundary\n",
    "df_fix_len = df.groupby(\"5s_index\").head(sample_length)\n",
    "\n",
    "# cut lower boundary\n",
    "v = df_fix_len[\"5s_index\"].value_counts()\n",
    "df_fix_len = df_fix_len[df_fix_len[\"5s_index\"].isin(v.index[v.ge(sample_length)])]\n",
    "\n",
    "df_fix_len[\"5s_index\"].value_counts()\n",
    "df = df_fix_len"
   ]
  },
  {
   "cell_type": "markdown",
   "metadata": {},
   "source": [
    "### Visualize the proportion of samples per class"
   ]
  },
  {
   "cell_type": "code",
   "execution_count": 9,
   "metadata": {},
   "outputs": [
    {
     "data": {
      "image/png": "[encoded data removed]",
      "text/plain": [
       "<Figure size 720x360 with 1 Axes>"
      ]
     },
     "metadata": {
      "needs_background": "light"
     },
     "output_type": "display_data"
    }
   ],
   "source": [
    "plt.figure(figsize=(10,5))\n",
    "plt.bar(df[\"activity\"].value_counts().index, df[\"activity\"].value_counts().values)\n",
    "plt.title(\"Proportion of labels\")\n",
    "plt.show()"
   ]
  },
  {
   "cell_type": "markdown",
   "metadata": {},
   "source": [
    "### Encoding of classes \n",
    "Für das Modell werden die einzelnen Werte in nummerische Skalen transferiert. "
   ]
  },
  {
   "cell_type": "code",
   "execution_count": 10,
   "metadata": {},
   "outputs": [
    {
     "data": {
      "text/plain": [
       "{0, 1, 2, 3, 4, 5, 6}"
      ]
     },
     "execution_count": 10,
     "metadata": {},
     "output_type": "execute_result"
    }
   ],
   "source": [
    "label_encoder = LabelEncoder()\n",
    "encoded_labels = label_encoder.fit_transform(df.activity)\n",
    "set(encoded_labels)"
   ]
  },
  {
   "cell_type": "markdown",
   "metadata": {},
   "source": [
    "### Feature - target split"
   ]
  },
  {
   "cell_type": "code",
   "execution_count": 11,
   "metadata": {},
   "outputs": [],
   "source": [
    "df[\"activity\"] = encoded_labels\n",
    "y = df[[\"activity\", \"5s_index\"]]\n",
    "X = df.iloc[:, 3:]\n",
    "FEATURE_COLUMNS = list(X.columns)[:-1]"
   ]
  },
  {
   "cell_type": "code",
   "execution_count": 12,
   "metadata": {},
   "outputs": [
    {
     "name": "stderr",
     "output_type": "stream",
     "text": [
      "100%|███████████████████████████████████████████████████████████████████████████| 13487/13487 [00:28<00:00, 472.90it/s]"
     ]
    },
    {
     "name": "stdout",
     "output_type": "stream",
     "text": [
      "Example sequence:\n",
      "\n",
      " (              acc       mag       gyr       ori  kmh\n",
      "1578294  0.485234  0.477736  0.596915  0.231539  0.0\n",
      "1578295  0.462894  0.477561  0.611156  0.222006  0.0\n",
      "1578296  0.463179  0.477856  0.612842  0.208042  0.0\n",
      "1578297  0.459138  0.478223  0.620752  0.208209  0.0\n",
      "1578298  0.474202  0.478451  0.622023  0.215178  0.0\n",
      "...           ...       ...       ...       ...  ...\n",
      "1580590  0.478525  0.480213  0.589665  0.720174  0.0\n",
      "1580591  0.499386  0.480125  0.580141  0.721229  0.0\n",
      "1580592  0.492821  0.480072  0.541657  0.726229  0.0\n",
      "1580593  0.511931  0.480057  0.534250  0.736315  0.0\n",
      "1580594  0.478688  0.480183  0.561441  0.752917  0.0\n",
      "\n",
      "[90 rows x 5 columns], 4)\n"
     ]
    },
    {
     "name": "stderr",
     "output_type": "stream",
     "text": [
      "\n"
     ]
    }
   ],
   "source": [
    "sequences = list()\n",
    "for series_id, group in tqdm(X.groupby(\"5s_index\")):\n",
    "    label = set(y[y[\"5s_index\"]==series_id][\"activity\"])\n",
    "    if len(label) != 1:\n",
    "        continue\n",
    "    sequence_features = group[FEATURE_COLUMNS]\n",
    "    sequences.append((sequence_features, list(label)[0]))\n",
    "\n",
    "print(\"Example sequence:\\n\\n\", sequences[1252])"
   ]
  },
  {
   "cell_type": "markdown",
   "metadata": {},
   "source": [
    "Oben sehen wir ein Beispiel wie ein Sample aussieht bevor es mit den anderen zu einem Datensatz zusammengefügt wird. Wir haben hier einerseits die Features in der Dimension (5 x 90) entsprechend der fünf Sensoren mit 90 Messwerten, als auch das encodiere Label (4), was der Aktivität Radfahren entspricht."
   ]
  },
  {
   "cell_type": "markdown",
   "metadata": {},
   "source": [
    "### Split sequences into train & test"
   ]
  },
  {
   "cell_type": "code",
   "execution_count": 13,
   "metadata": {},
   "outputs": [],
   "source": [
    "train_seq, test_seq = train_test_split(sequences, test_size=0.2, random_state=42)"
   ]
  },
  {
   "cell_type": "code",
   "execution_count": 14,
   "metadata": {},
   "outputs": [],
   "source": [
    "# save train sequences\n",
    "if os.path.exists('./data/cnn_train_seq.pkl'):\n",
    "    with open('./data/cnn_train_seq.pkl', 'rb') as f:\n",
    "        train_seq = pickle.load(f)\n",
    "else:\n",
    "    with open('./data/cnn_train_seq.pkl', 'wb') as f:\n",
    "        pickle.dump(train_seq, f)\n",
    "\n",
    "# save test sequences      \n",
    "if os.path.exists('./data/cnn_test_seq.pkl'):\n",
    "    with open('./data/cnn_test_seq.pkl', 'rb') as f:\n",
    "        test_seq = pickle.load(f)\n",
    "else:  \n",
    "    with open('./data/cnn_test_seq.pkl', 'wb') as f:\n",
    "        pickle.dump(test_seq, f)"
   ]
  },
  {
   "cell_type": "markdown",
   "metadata": {},
   "source": [
    "## Create ActivityDataset class\n",
    "\n",
    "Hier wird aus den bereinigten Sensordaten eine Datensatz-Klasse generiert. Diese Struktur erlaubt es anschliessend einfach mittels PyTorch DataLoader Klasse Trainingsbatches zu erstellen und während dem Training zu laden."
   ]
  },
  {
   "cell_type": "code",
   "execution_count": 15,
   "metadata": {},
   "outputs": [],
   "source": [
    "from torch.utils.data import Dataset, DataLoader\n",
    "\n",
    "class ActivityDataset(Dataset):\n",
    "\n",
    "    def __init__(self, sequences):\n",
    "        self.sequences = sequences\n",
    "    \n",
    "    def __len__(self):\n",
    "        return len(self.sequences)\n",
    "\n",
    "    def __getitem__(self, idx):\n",
    "        sequence, label = self.sequences[idx]\n",
    "        return dict(\n",
    "            sequence = torch.tensor(sequence.to_numpy(), dtype=torch.float), \n",
    "            label = torch.tensor(label).long())"
   ]
  },
  {
   "cell_type": "code",
   "execution_count": 16,
   "metadata": {},
   "outputs": [],
   "source": [
    "batch_size = 64\n",
    "\n",
    "train_dataloader = DataLoader(ActivityDataset(train_seq), batch_size=batch_size, shuffle=True)\n",
    "test_dataloader = DataLoader(ActivityDataset(test_seq), batch_size=batch_size, shuffle=True)"
   ]
  },
  {
   "cell_type": "markdown",
   "metadata": {},
   "source": [
    "### Load sample\n",
    "\n",
    "Wir überprüfen nun den dataloader für das Trainings-Set."
   ]
  },
  {
   "cell_type": "code",
   "execution_count": 17,
   "metadata": {},
   "outputs": [
    {
     "data": {
      "text/plain": [
       "(torch.Size([64, 90, 5]), torch.Size([64]))"
      ]
     },
     "execution_count": 17,
     "metadata": {},
     "output_type": "execute_result"
    }
   ],
   "source": [
    "example_batch = iter(train_dataloader)\n",
    "batch = example_batch.next()\n",
    "batch[\"sequence\"].shape, batch[\"label\"].shape"
   ]
  },
  {
   "cell_type": "markdown",
   "metadata": {},
   "source": [
    "Wir sehen, dass der Dataloader funktioniert. Die Sequenzen haben die Dimension \\[ *Batchsize*, *Sequenzlänge*, *Anzahl_Sensoren* \\], die Labels haben die Dimension \\[ *Batchsize* \\]"
   ]
  },
  {
   "cell_type": "markdown",
   "metadata": {},
   "source": [
    "## Define model classes\n",
    "\n",
    "Da die von den Sensoren aufgezeichneten Daten Zeitreihendaten sind, macht es von der Intuition her Sinn auf diesen Zeitreihen nach Muster/Features zu suchen, welche für die Klassifikation relevant sind. Hierfür wollen wir CNN's verwenden und erstellen mit PyTorch mehrere eigene Modellklassen. Diese enthalten über den Dataloader  unsere Sensordaten Von der Struktur her sind am Anfang eine Kombination von mehreren eindimensionale Convolutionale  Layer [Conv1d](https://pytorch.org/docs/stable/generated/torch.nn.Conv1d.html) gefolgt von jeweils einem Max Pooling Layer [MaxPool1d](https://pytorch.org/docs/stable/generated/torch.nn.MaxPool1d.html) . Anschliessend folgen drei lineare Layer, von welchen der Letzte die Aktivierungen in der Dimension \\[ Anzahl_Aktivitäten \\] ausgibt.\n",
    "\n",
    "Für die Aktivierungen der Layer verwenden wir die [Relu](https://pytorch.org/docs/stable/generated/torch.nn.ReLU.html) Aktivierungsfunktion ausser beim letzten linearen Layer, wo wir im Training die Kostenfunktion mit über den [CrossEntropyLoss](https://pytorch.org/docs/stable/generated/torch.nn.CrossEntropyLoss.html) bestimmen um die Abweichungen der Vorhersage zu den korrekten Labels zu ermittelln und das Netz im training zu Optimieren.\n",
    "\n",
    "Um Overfitting zu verhindern, wurden diverse Dropout Raten zwischen den einzelnen linearen Layern ausprobiert. Dropout setzt während dem Training eine Proportion der Aktivierungen im vorherigen Layer auf 0 wodurch diese nicht für die Vorhersage verwendet werden können. Entsprechend wird verhindert, dass das Netz in der Vorhersage durchgehend auf wenige sehr relevante Features konzentrieren kann und zwingen das Netz genereller zu lernen.\n",
    "\n",
    "Für das Training wurden folgende Modelle und Hyperparameter ausprobiert:\n",
    "- Anzahl Convolutionale Layer\n",
    "- Anzahl Nodes pro Layer\n",
    "- Variation der Learning Rate\n",
    "- Dropout Rate\n",
    "- Inklusion/exklusion von Batchnormalization\n",
    "\n",
    "Das trainig wurde mittels Wandb geloggt: https://wandb.ai/simonluder/activity_tracker_cnn?workspace=user-simonluder"
   ]
  },
  {
   "cell_type": "code",
   "execution_count": 18,
   "metadata": {},
   "outputs": [],
   "source": [
    "# hyperarameters\n",
    "num_classes = 7\n",
    "\n",
    "\n",
    "class CNN_2(nn.Module):\n",
    "    def __init__(self, num_classes, kernel_size=10, pool_size=3, padding=0, conv1_channels = 10, conv2_channels=8, fc_linear_1=180, fc_linear_2=120, dropout=0):\n",
    "        '''Convolutional Net class'''\n",
    "        super(CNN_2, self).__init__()\n",
    "        self.conv1 = nn.Conv1d(in_channels=5, out_channels=conv1_channels, kernel_size=kernel_size, padding=padding) \n",
    "        self.pool = nn.MaxPool1d(kernel_size=pool_size, stride=1)\n",
    "        self.conv2 = nn.Conv1d(in_channels=conv1_channels, out_channels=conv2_channels, kernel_size=kernel_size, padding=padding) \n",
    "        self.fc1 = nn.Linear(in_features=conv2_channels*68, out_features=fc_linear_1)\n",
    "        self.fc2 = nn.Linear(in_features=fc_linear_1, out_features=fc_linear_2)\n",
    "        self.fc3 = nn.Linear(in_features=fc_linear_2, out_features=num_classes)\n",
    "        self.conv2_channels = conv2_channels\n",
    "    \n",
    "        self.dropout = nn.Dropout(p=dropout)\n",
    "        \n",
    "        \n",
    "    def forward(self, x):\n",
    "        '''\n",
    "        Applies the forward pass\n",
    "        Args:\n",
    "            x (torch.tensor): input feature tensor\n",
    "        Returns:\n",
    "            x (torch.tensor): output tensor of size num_classes\n",
    "        '''\n",
    "        x = self.pool(F.relu(self.conv1(x)))\n",
    "        x = self.pool(F.relu(self.conv2(x)))\n",
    "        x = x.view(-1, self.conv2_channels*68) # flatten tensor\n",
    "        x = F.relu(self.fc1(x))\n",
    "        x = self.dropout(x)\n",
    "        x = F.relu(self.fc2(x))\n",
    "        x = self.dropout(x)\n",
    "        x = self.fc3(x)\n",
    "        return x\n",
    "    \n",
    "    \n",
    "class CNN_2_bn(nn.Module):\n",
    "    def __init__(self, num_classes, kernel_size=10, pool_size=3, padding=0, conv1_channels = 10, conv2_channels=8, fc_linear_1=180, fc_linear_2=120, dropout=0):\n",
    "        '''Convolutional Net class'''\n",
    "        super(CNN_2_bn, self).__init__()\n",
    "        self.conv1 = nn.Conv1d(in_channels=5, out_channels=conv1_channels, kernel_size=kernel_size, padding=padding)\n",
    "        self.conv1_bn=nn.BatchNorm1d(conv1_channels)\n",
    "        self.pool = nn.MaxPool1d(kernel_size=pool_size, stride=1)\n",
    "        self.conv2 = nn.Conv1d(in_channels=conv1_channels, out_channels=conv2_channels, kernel_size=kernel_size, padding=padding) \n",
    "        self.conv2_bn=nn.BatchNorm1d(conv2_channels)\n",
    "        self.fc1 = nn.Linear(in_features=conv2_channels*68, out_features=fc_linear_1)\n",
    "        self.fc1_bn = nn.BatchNorm1d(fc_linear_1)\n",
    "        self.fc2 = nn.Linear(in_features=fc_linear_1, out_features=fc_linear_2)\n",
    "        self.fc2_bn = nn.BatchNorm1d(fc_linear_2)\n",
    "        self.fc3 = nn.Linear(in_features=fc_linear_2, out_features=num_classes)  \n",
    "        self.conv2_channels = conv2_channels\n",
    "        self.dropout = nn.Dropout(p=dropout)\n",
    "        \n",
    "        \n",
    "    def forward(self, x):\n",
    "        '''\n",
    "        Applies the forward pass\n",
    "        Args:\n",
    "            x (torch.tensor): input feature tensor\n",
    "        Returns:\n",
    "            x (torch.tensor): output tensor of size num_classes\n",
    "        '''\n",
    "        x = self.pool(F.relu(self.conv1_bn(self.conv1(x))))\n",
    "        x = self.pool(F.relu(self.conv2_bn(self.conv2(x))))\n",
    "        x = x.view(-1, self.conv2_channels*68) # flatten tensor\n",
    "        x = F.relu(self.fc1_bn(self.fc1(x)))\n",
    "        x = self.dropout(x)\n",
    "        x = F.relu(self.fc2_bn(self.fc2(x)))\n",
    "        x = self.dropout(x)\n",
    "        x = self.fc3(x)\n",
    "        return x\n",
    "\n",
    "\n",
    "class CNN_3(nn.Module):\n",
    "    def __init__(self, num_classes, kernel_size=10, pool_size=3, padding=0, conv1_channels = 10, conv2_channels=8, conv3_channels=8, fc_linear_1=180, fc_linear_2=120, dropout=0):\n",
    "        '''Convolutional Net class'''\n",
    "        super(CNN_3, self).__init__()\n",
    "        self.conv1 = nn.Conv1d(in_channels=5, out_channels=conv1_channels, kernel_size=kernel_size, padding=padding) \n",
    "        self.pool = nn.MaxPool1d(kernel_size=pool_size, stride=1)\n",
    "        self.conv2 = nn.Conv1d(in_channels=conv1_channels, out_channels=conv2_channels, kernel_size=kernel_size, padding=padding) \n",
    "        self.conv3 = nn.Conv1d(in_channels=conv2_channels, out_channels=conv3_channels, kernel_size=kernel_size, padding=padding) \n",
    "        self.fc1 = nn.Linear(in_features=conv3_channels*57, out_features=fc_linear_1)\n",
    "        self.fc2 = nn.Linear(in_features=fc_linear_1, out_features=fc_linear_2)\n",
    "        self.fc3 = nn.Linear(in_features=fc_linear_2, out_features=num_classes)\n",
    "        self.conv2_channels = conv2_channels\n",
    "        self.conv3_channels = conv3_channels\n",
    "        self.dropout = nn.Dropout(p=dropout)\n",
    "        \n",
    "    def forward(self, x):\n",
    "        '''\n",
    "        Applies the forward pass\n",
    "        Args:\n",
    "            x (torch.tensor): input feature tensor\n",
    "        Returns:\n",
    "            x (torch.tensor): output tensor of size num_classes\n",
    "        '''\n",
    "        x = self.pool(F.relu(self.conv1(x)))\n",
    "        x = self.pool(F.relu(self.conv2(x)))\n",
    "        x = self.pool(F.relu(self.conv3(x)))\n",
    "        x = x.view(-1, self.conv3_channels*57) # flatten tensor\n",
    "        x = F.relu(self.fc1(x))\n",
    "        x = self.dropout(x)\n",
    "        x = F.relu(self.fc2(x))\n",
    "        x = self.dropout(x)\n",
    "        x = self.fc3(x)\n",
    "        return x"
   ]
  },
  {
   "cell_type": "markdown",
   "metadata": {},
   "source": [
    "## Define model trainer"
   ]
  },
  {
   "cell_type": "code",
   "execution_count": 19,
   "metadata": {},
   "outputs": [],
   "source": [
    "import copy\n",
    "class ModelTrainer:\n",
    "\n",
    "    def __init__(self, model, train_loader, test_loader, num_epochs, criterion, optimizer):\n",
    "        self.model = model\n",
    "        self.train_loader = train_loader\n",
    "        self.test_loader = test_loader\n",
    "        self.num_epochs = num_epochs\n",
    "        self.criterion = criterion\n",
    "        self.optimizer = optimizer\n",
    "        self.logger = {\n",
    "            \"train\":dict(),\n",
    "            \"test\":dict()\n",
    "        }\n",
    "        self.best_log = dict()\n",
    "        self.best_model = None\n",
    "        \n",
    "        \n",
    "    def wandb_log(self, log_dict, e):\n",
    "        '''\n",
    "        Logs all parameters in log dict to weights and biases\n",
    "        Args:\n",
    "            log_dict (dict): dict with log values\n",
    "            e (int): epoch identifier\n",
    "        '''\n",
    "        wandb.log(log_dict, step=e)\n",
    "        \n",
    "\n",
    "    def calculate_accuracy(self, pred, true):\n",
    "        '''\n",
    "        Calculates the accuracy for the prediction\n",
    "        Args: \n",
    "            pred: predicted labels\n",
    "            true: true labels\n",
    "        Returns:\n",
    "            accuracy as float\n",
    "        '''\n",
    "        return (pred.argmax(1) == true).type(torch.float).sum().item()\n",
    "\n",
    "\n",
    "    def get_best_model(self):\n",
    "        ''''\n",
    "        Returns the best model\n",
    "        '''\n",
    "        return self.best_model\n",
    "    \n",
    "\n",
    "    def train_loop(self, dataloader, verbose):\n",
    "        '''\n",
    "        Loop for a sigle training epoch.\n",
    "        Args:\n",
    "            dataloader: pytorch dataloader\n",
    "        '''\n",
    "        self.model.train()\n",
    "        epoch_accuracy = 0\n",
    "        epoch_loss = 0\n",
    "        epoch_f1 = 0\n",
    "        num_batches = len(dataloader)\n",
    "        num_samples = len(dataloader.dataset)\n",
    "\n",
    "        for i, batch in enumerate(dataloader):\n",
    "            sequences = torch.transpose(batch[\"sequence\"], 1, 2).to(device)\n",
    "            labels = batch[\"label\"].to(device)\n",
    "\n",
    "            # Forward propagation\n",
    "            pred = self.model(sequences)\n",
    "            loss = self.criterion(pred, labels)\n",
    "\n",
    "            # Backward propagation\n",
    "            self.optimizer.zero_grad()\n",
    "            loss.backward()\n",
    "            self.optimizer.step()\n",
    "\n",
    "            # calculate metrics\n",
    "            epoch_loss += loss.item()\n",
    "            epoch_accuracy += self.calculate_accuracy(pred, labels)\n",
    "            epoch_f1 += f1_score(labels.detach().cpu().numpy(), np.argmax(pred.detach().cpu().numpy(), axis=1), average=\"macro\")\n",
    "\n",
    "        epoch_loss /= num_batches\n",
    "        epoch_accuracy /= num_samples\n",
    "        epoch_f1 /= num_batches\n",
    "        if verbose:\n",
    "            print(f\"train loss:{epoch_loss}, train f1-score:{epoch_f1}, train accuracy:{epoch_accuracy}\")\n",
    "        return {\"train loss\":epoch_loss, \"train f1-score\":epoch_f1, \"train accuracy\":epoch_accuracy}\n",
    "\n",
    "\n",
    "    def test_loop(self, dataloader, label=\"train\"):\n",
    "        self.model.eval()\n",
    "        epoch_loss = 0\n",
    "        epoch_accuracy = 0\n",
    "        epoch_f1 = 0\n",
    "        num_batches = len(dataloader)\n",
    "        num_samples = len(dataloader.dataset)\n",
    "\n",
    "        with torch.no_grad():\n",
    "            for i, batch in enumerate(dataloader):\n",
    "                sequences = torch.transpose(batch[\"sequence\"], 1, 2).to(device)\n",
    "                labels = batch[\"label\"].to(device)\n",
    "\n",
    "                # Forward propagation\n",
    "                pred = self.model(sequences)\n",
    "\n",
    "                # calculate metrics\n",
    "                epoch_loss += self.criterion(pred, labels).item()\n",
    "                epoch_accuracy += self.calculate_accuracy(pred, labels)\n",
    "                epoch_f1 += f1_score(labels.detach().cpu().numpy(), np.argmax(pred.detach().cpu().numpy(), axis=1), average=\"macro\")\n",
    "               \n",
    "        epoch_loss /= num_batches\n",
    "        epoch_accuracy /= num_samples\n",
    "        epoch_f1 /= num_batches\n",
    "        return {\"{} loss\".format(label): epoch_loss, \"{} f1-score\".format(label): epoch_f1, \"{} accuracy\".format(label): epoch_accuracy}\n",
    "\n",
    "\n",
    "    def train(self, verbose=False, include_test_scores=False, wb=False, best_by=\"test f1-score\"):\n",
    "        \n",
    "        # calculate initial model preformance for train_set\n",
    "        self.logger[\"train\"][0] = self.test_loop(self.train_loader, label=\"train\")\n",
    "        if wb:\n",
    "            self.wandb_log(self.logger[\"train\"][0], 0)\n",
    "\n",
    "        # calculate initial model preformance for test_set\n",
    "        if include_test_scores:\n",
    "            self.logger[\"test\"][0] = self.test_loop(self.test_loader, label=\"test\")\n",
    "            if wb:\n",
    "                self.wandb_log(self.logger[\"test\"][0], 0)\n",
    "            # save init as best model\n",
    "            self.best_log = self.logger[\"test\"][0]\n",
    "            self.best_model = copy.deepcopy(self.model)\n",
    "            \n",
    "        # run model train epochs\n",
    "        for e in range(self.num_epochs):\n",
    "            if verbose:\n",
    "                print(f\"Epoch: {e+1} ------------------------------\")\n",
    "            \n",
    "            # model train step\n",
    "            self.logger[\"train\"][e+1] = self.train_loop(self.train_loader, verbose)\n",
    "            if wb:\n",
    "                self.wandb_log(self.logger[\"train\"][e+1], e+1)\n",
    "\n",
    "            # calculate model preformance\n",
    "            if include_test_scores:\n",
    "                self.logger[\"test\"][e+1] = self.test_loop(self.test_loader, label=\"test\")\n",
    "                if wb:\n",
    "                    self.wandb_log(self.logger[\"test\"][e+1], e+1)\n",
    "                # secure model with best test score\n",
    "                if self.best_log[best_by] < self.logger[\"test\"][e+1][best_by]:\n",
    "                    self.best_log = self.logger[\"test\"][e+1]\n",
    "                    self.best_model = copy.deepcopy(self.model)\n",
    "        return self\n"
   ]
  },
  {
   "cell_type": "markdown",
   "metadata": {},
   "source": [
    "## Train models with wandb"
   ]
  },
  {
   "cell_type": "code",
   "execution_count": 20,
   "metadata": {},
   "outputs": [
    {
     "data": {
      "text/plain": [
       "True"
      ]
     },
     "execution_count": 20,
     "metadata": {},
     "output_type": "execute_result"
    }
   ],
   "source": [
    "wandb.login()"
   ]
  },
  {
   "cell_type": "code",
   "execution_count": 21,
   "metadata": {},
   "outputs": [],
   "source": [
    "run_sweeps = False\n",
    "num_epochs = 1000               # epochs\n",
    "count = 3                       # number of runs to execute\n",
    "path=\"./top_model\"              # path to save models\n",
    "min_f1 = 0.70                   # minimal test f1 to save the model\n",
    "\n",
    "\n",
    "sweep_configuration = {\n",
    "    \"name\": \"cnn testsweep\",\n",
    "    \"metric\": {\"name\": \"test f1-score\", \"goal\": \"maximize\"},\n",
    "    \"method\": \"random\",\n",
    "    \"parameters\": {\n",
    "        \"num_epochs\": {\n",
    "            \"value\": num_epochs\n",
    "        },\n",
    "        \"learning_rate\": {\n",
    "            \"values\": [0.001, 0.002, 0.0005]\n",
    "        },\n",
    "         \"batch_size\": {\n",
    "            \"value\": batch_size\n",
    "        },\n",
    "        \"l2_weight_decay\": {\n",
    "            \"value\": 0\n",
    "        },\n",
    "        \"dropout_rate\": {\n",
    "            \"values\": [0.05, 0.1, 0.2, 0.3, 0.4]\n",
    "        },\n",
    "        \"conv1_channels\": {\n",
    "            \"values\":[256,]\n",
    "        },\n",
    "        \"conv2_channels\": {\n",
    "            \"values\":[256,]\n",
    "        },\n",
    "        \"fc_linear_1\": {\n",
    "            \"value\": 128\n",
    "        },\n",
    "        \"fc_linear_2\": {\n",
    "            \"value\": 64\n",
    "        }\n",
    "    }\n",
    "}\n",
    "\n",
    "\n",
    "def save_model(path, model, name):\n",
    "        '''\n",
    "        Saves the model as state dict.\n",
    "        Args:\n",
    "            path (str): path where to save the model\n",
    "        '''\n",
    "        filename = \"/{}.pt\".format(name)\n",
    "        if not os.path.exists(path):\n",
    "            os.makedirs(path)\n",
    "        torch.save(model, path + filename)\n",
    "\n",
    "\n",
    "def train(config=None):\n",
    "    with wandb.init(entity=\"simonluder\", config=config) as run:\n",
    "        config = wandb.config\n",
    "        wandb.run.name = \"{}\".format(datetime.now().strftime(\"%Y-%m-%d-%H-%M-%S\"))\n",
    "        \n",
    "        # define model\n",
    "        model = CNN_2_bn(\n",
    "            num_classes=num_classes,\n",
    "            conv1_channels=config[\"conv1_channels\"],\n",
    "            conv2_channels=config[\"conv2_channels\"],\n",
    "            fc_linear_1=config[\"fc_linear_1\"],\n",
    "            fc_linear_2=config[\"fc_linear_2\"],\n",
    "            dropout=config[\"dropout_rate\"]\n",
    "            ).to(device) \n",
    "        \n",
    "        # define trainer\n",
    "        trainer = ModelTrainer(\n",
    "            model=model, \n",
    "            train_loader=train_dataloader, \n",
    "            test_loader=test_dataloader, \n",
    "            num_epochs=config[\"num_epochs\"],\n",
    "            criterion=nn.CrossEntropyLoss(),\n",
    "            optimizer=torch.optim.Adam(\n",
    "                model.parameters(), \n",
    "                lr=config[\"learning_rate\"],\n",
    "                weight_decay = config[\"l2_weight_decay\"]\n",
    "                )\n",
    "            )\n",
    "            \n",
    "        #train model\n",
    "        trainer.train(verbose=False, include_test_scores=True, wb=True)\n",
    "\n",
    "        # save model if minimal f1-score is reached\n",
    "        if trainer.best_log[\"test f1-score\"] >= min_f1:\n",
    "            save_model(path=\"models/saved_models\", model=trainer.best_model, name=wandb.run.name)\n",
    "\n",
    "       \n",
    "if run_sweeps:\n",
    "    sweep_id = wandb.sweep(sweep_configuration, project=\"activity_tracker_cnn\", entity=\"simonluder\")\n",
    "    wandb.agent(sweep_id, function=train, count=count)"
   ]
  },
  {
   "cell_type": "markdown",
   "metadata": {},
   "source": [
    "## Evaluation"
   ]
  },
  {
   "cell_type": "markdown",
   "metadata": {},
   "source": [
    "Anschliessend werden die drei besten Modelle aus dem Training genauer evaluiert."
   ]
  },
  {
   "cell_type": "code",
   "execution_count": 22,
   "metadata": {},
   "outputs": [],
   "source": [
    "path =\"models/top_models/\"\n",
    "model_files = [\"2022-06-04-14-36-07.pt\", \"2022-06-04-13-25-27.pt\", \"2022-06-04-14-00-54.pt\"]\n",
    "\n",
    "\n",
    "def predict(model, dataloader):\n",
    "    p, l = [], []\n",
    "    for batch in iter(dataloader):\n",
    "        seq = torch.transpose(batch[\"sequence\"], 1, 2).to(device)\n",
    "        labels = batch[\"label\"].to(device)\n",
    "        p.extend((model(seq).argmax(axis=1).cpu()).numpy())\n",
    "        l.extend(labels.cpu().numpy())\n",
    "    return p, l\n",
    "\n",
    "def load_model(path, file):\n",
    "        model = torch.load(path + file, map_location=device)\n",
    "        model.eval()\n",
    "        return model\n",
    "\n",
    "def plot_confusion_matrix(pred, labels):\n",
    "    '''Visualizes the confusion matrix from an input of predicted and true labels'''\n",
    "    label_encoder.inverse_transform(pred)\n",
    "    label_encoder.inverse_transform(labels)\n",
    "    plt.figure(figsize=(8,7))\n",
    "    sns.heatmap(\n",
    "        confusion_matrix(label_encoder.inverse_transform(pred), label_encoder.inverse_transform(labels)), \n",
    "        annot=True, \n",
    "        fmt='d',\n",
    "        xticklabels=label_encoder.inverse_transform(range(0,7)), \n",
    "        yticklabels=label_encoder.inverse_transform(range(0,7)))\n",
    "    plt.show()\n",
    "\n",
    "test_labels = dict()\n",
    "test_preds = dict()\n",
    "\n",
    "#load models\n",
    "model_dict = dict()\n",
    "for i, file in enumerate(model_files):\n",
    "    model_dict[file] = load_model(path, file)\n",
    "    test_labels[file] = []\n",
    "    test_preds[file] = []\n",
    "\n",
    "for batch in iter(test_dataloader):\n",
    "    seq = torch.transpose(batch[\"sequence\"], 1, 2).to(device)\n",
    "    labels = batch[\"label\"].to(device)\n",
    "\n",
    "    for m in model_dict:\n",
    "        test_preds[m].extend((model_dict[m](seq).argmax(axis=1).cpu()).numpy())\n",
    "        test_labels[m].extend(labels.cpu().numpy())"
   ]
  },
  {
   "cell_type": "code",
   "execution_count": 23,
   "metadata": {},
   "outputs": [
    {
     "name": "stdout",
     "output_type": "stream",
     "text": [
      "\n",
      "Model: 2022-06-04-14-36-07.pt\n",
      "accuracy-score: 0.9301717699775952\n",
      "f1-score macro: 0.9123651566244427\n",
      "f1-score weighted: 0.9305431245029477\n",
      "\n",
      "Model: 2022-06-04-13-25-27.pt\n",
      "accuracy-score: 0.9256908140403286\n",
      "f1-score macro: 0.9103030677172811\n",
      "f1-score weighted: 0.9256989502359376\n",
      "\n",
      "Model: 2022-06-04-14-00-54.pt\n",
      "accuracy-score: 0.9174757281553398\n",
      "f1-score macro: 0.9010883067817171\n",
      "f1-score weighted: 0.9171218275085691\n"
     ]
    }
   ],
   "source": [
    "for model_name in model_files:\n",
    "    print(\"\\nModel:\", model_name)\n",
    "    print(\"accuracy-score:\", np.sum(np.array(test_preds[model_name]) == np.array(test_labels[model_name])) / len(test_dataloader.dataset))\n",
    "    print(\"f1-score macro:\", f1_score(test_labels[model_name], test_preds[model_name], average=\"macro\"))\n",
    "    print(\"f1-score weighted:\", f1_score(test_labels[model_name], test_preds[model_name], average=\"weighted\"))"
   ]
  },
  {
   "cell_type": "markdown",
   "metadata": {},
   "source": [
    "Wir errechen mit unseren besten drei Modellen jeweils eine Accuracy als auch F1 Score von über 0.9 was zeigt, dass die Modelle die Aktivitäten generell gut erkennen können. Das besste Modell konnte sogar eine Accuracy von 0.93 erreichen. Das zeig uns, dass ein CNN generell gut für die Klassifikation der Sensordaten geeignet ist."
   ]
  },
  {
   "cell_type": "code",
   "execution_count": 24,
   "metadata": {},
   "outputs": [
    {
     "name": "stdout",
     "output_type": "stream",
     "text": [
      "Model: 2022-06-04-14-36-07.pt\n"
     ]
    },
    {
     "data": {
      "image/png": "[encoded data removed]",
      "text/plain": [
       "<Figure size 576x504 with 2 Axes>"
      ]
     },
     "metadata": {
      "needs_background": "light"
     },
     "output_type": "display_data"
    },
    {
     "name": "stdout",
     "output_type": "stream",
     "text": [
      "Model: 2022-06-04-13-25-27.pt\n"
     ]
    },
    {
     "data": {
      "image/png": "[encoded data removed]",
      "text/plain": [
       "<Figure size 576x504 with 2 Axes>"
      ]
     },
     "metadata": {
      "needs_background": "light"
     },
     "output_type": "display_data"
    },
    {
     "name": "stdout",
     "output_type": "stream",
     "text": [
      "Model: 2022-06-04-14-00-54.pt\n"
     ]
    },
    {
     "data": {
      "image/png": "[encoded data removed]",
      "text/plain": [
       "<Figure size 576x504 with 2 Axes>"
      ]
     },
     "metadata": {
      "needs_background": "light"
     },
     "output_type": "display_data"
    }
   ],
   "source": [
    "for model_name in model_files:\n",
    "    print(\"Model:\", model_name)\n",
    "    plot_confusion_matrix(test_preds[model_name], test_labels[model_name])"
   ]
  },
  {
   "cell_type": "markdown",
   "metadata": {},
   "source": [
    "Wir sehen oben nun noch die Konfusion-Matrizen der Modelle auf dem Testset. Es ist erkennbar, dass die Modelle die sieben Aktivitäten generell gut klassifizieren. Die Fehler, welche erkennbar sind, machen aufgrund dessen wie die Daten erhoben wurden sinn. So sehen wir zum Beispiel mehr falsche Klassifikationen zwischen \"sitting\" und \"transport\", was Sinn macht, da die Datenerhebung nicht unterbrochen wurde, wenn ein Bus oder Tram an einer Station stillstand. Auch überdurchschnittlich oft verwechselt wurde \"walking\" mit \"stairways\", was dadurch erklärbar sein könnte, dass zwischen den Etagen im Treppenhaus auch gerade Strecken begangen wurden."
   ]
  },
  {
   "cell_type": "markdown",
   "metadata": {},
   "source": [
    "### Code setup for predicting in app\n",
    "\n",
    "Diese Sektion dient als Textstruktur für die EInbindung eines Modells in die App."
   ]
  },
  {
   "cell_type": "code",
   "execution_count": 25,
   "metadata": {},
   "outputs": [
    {
     "name": "stdout",
     "output_type": "stream",
     "text": [
      "Array shape before stride: (180, 5)\n",
      "Array shape after stride: (19, 5, 90)\n",
      "Resulting tensor dimension: torch.Size([19, 5, 90])\n"
     ]
    }
   ],
   "source": [
    "device = torch.device(\"cuda\" if torch.cuda.is_available() else \"cpu\")\n",
    "device\n",
    "\n",
    "#hyperparameters\n",
    "window_size = 90\n",
    "stride = 5\n",
    "\n",
    "# create 2d array from dataframe\n",
    "arr_2d = df[[\"acc\", \"mag\", \"gyr\", \"ori\", \"kmh\"]].values[:180] #example if 180 datapoints ~ 10 sec\n",
    "\n",
    "# slide over array to create moving windows\n",
    "arr_3d = np.lib.stride_tricks.sliding_window_view(arr_2d, window_size, 0)[::stride]\n",
    "\n",
    "# create tensors\n",
    "tensors = torch.tensor(arr_3d).to(device)\n",
    "tensors = tensors.float()\n",
    "\n",
    "print(\"Array shape before stride:\", np.shape(arr_2d))\n",
    "print(\"Array shape after stride:\", np.shape(arr_3d))\n",
    "print(\"Resulting tensor dimension:\", np.shape(tensors))"
   ]
  },
  {
   "cell_type": "code",
   "execution_count": 27,
   "metadata": {},
   "outputs": [
    {
     "data": {
      "text/plain": [
       "'Transport'"
      ]
     },
     "execution_count": 27,
     "metadata": {},
     "output_type": "execute_result"
    }
   ],
   "source": [
    "def normalize_scales(df):\n",
    "    '''\n",
    "    Standardizes the sensor scales with the mean and standard deviation from the testset        \n",
    "    '''\n",
    "    df = df.copy()\n",
    "    x = df[[\"acc\", \"mag\", \"gyr\", \"ori\", \"kmh\"]]\n",
    "    scale_max = [4.42877550e+01, 8.81122530e+03, 1.16565825e+02, 5.99909750e+00, 1.18619879e+02]\n",
    "    scale_min = [1.87147230e+01, 3.29054710e+03, 5.16912100e+01, 2.27530129e+00, 0.00000000e+00]\n",
    "    for i, col in enumerate(x.columns):\n",
    "        x[col] = (x[col] - scale_min[i]) / (scale_max[i] - scale_min[i])\n",
    "    return x\n",
    "\n",
    "def transform_to_tensors(df, window_size = 90, stride = 10):\n",
    "    '''\n",
    "    Transforms the dataframe into a 3d tensor of shape (X, 5, 90)\n",
    "    Args:\n",
    "        df (pandas DataFrame): dataframe with sensordata\n",
    "    Returns:\n",
    "        tensors (torch tensor)\n",
    "    '''\n",
    "    # create array\n",
    "    arr_2d = df[[\"acc\", \"mag\", \"gyr\", \"ori\", \"kmh\"]].values \n",
    "\n",
    "    # slide over array to create moving windows\n",
    "    arr_3d = np.lib.stride_tricks.sliding_window_view(arr_2d, window_size, 0)[::stride]\n",
    "\n",
    "    # create tensors\n",
    "    tensors = torch.tensor(arr_3d).to(device)\n",
    "    tensors = tensors.float()\n",
    "    return tensors\n",
    "\n",
    "\n",
    "def predict_with_cnn_1(tensors, model, num_classes=7):\n",
    "    '''\n",
    "    Predicts an activity using a cnn model from a tensor of sensordata \"acc\", \"mag\", \"gyr\", \"ori\", \"kmh\"\n",
    "    Args: \n",
    "        tensors (torch tensor): the sensordaa as 3d tensor of format (X, 5, 90)\n",
    "        model_url (str): the url where the model is stored\n",
    "        num_classes (int): 4 or 7 depeding on the number of classes to predict\n",
    "    Returns:\n",
    "        String prediction\n",
    "    '''\n",
    "    itos_7= {\n",
    "        0:\"Bicycling\",\n",
    "        1:\"Elevatoring\",\n",
    "        2:\"Jogging\",\n",
    "        3:\"Sitting\",\n",
    "        4:\"Stairway\",\n",
    "        5:\"Transport\",\n",
    "        6:\"Walking\"}\n",
    "\n",
    "    # set model to eval mode\n",
    "    model.eval()\n",
    "    # predict\n",
    "    with torch.no_grad():\n",
    "        output = model(tensors)\n",
    "        pred=torch.max(output, 1)\n",
    "        labels = pred.indices\n",
    "        labels_numpy = labels.cpu().numpy()\n",
    "        counts = np.bincount(labels_numpy)\n",
    "        if num_classes == 7:\n",
    "            return itos_7[np.argmax(counts)]\n",
    "\n",
    "\n",
    "model = torch.load(\"models/top_models/2022-05-07-01-28-13.pt\", map_location=device)\n",
    "df = pd.read_csv(\"./data/deep_models.csv\")\n",
    "df = normalize_scales(df[0:100])\n",
    "tensors = transform_to_tensors(df)\n",
    "predict_with_cnn_1(tensors, model = model, num_classes=7)"
   ]
  }
 ],
 "metadata": {
  "interpreter": {
   "hash": "d62d65b6a89b65c382b60555ecadb9b7aea59040937a779dac0402d0fe0f0506"
  },
  "kernelspec": {
   "display_name": "Python 3 (ipykernel)",
   "language": "python",
   "name": "python3"
  },
  "language_info": {
   "codemirror_mode": {
    "name": "ipython",
    "version": 3
   },
   "file_extension": ".py",
   "mimetype": "text/x-python",
   "name": "python",
   "nbconvert_exporter": "python",
   "pygments_lexer": "ipython3",
   "version": "3.10.5"
  }
 },
 "nbformat": 4,
 "nbformat_minor": 2
}
