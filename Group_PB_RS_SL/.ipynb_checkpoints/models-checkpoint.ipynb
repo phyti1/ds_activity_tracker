{
 "cells": [
  {
   "cell_type": "code",
   "execution_count": 1,
   "metadata": {},
   "outputs": [],
   "source": [
    "import os\n",
    "import pandas as pd\n",
    "import numpy as np\n",
    "import matplotlib.pyplot as plt\n",
    "import seaborn as sns\n",
    "from math import sin, cos, sqrt, atan2, radians\n",
    "import scipy as sp\n",
    "from sklearn.pipeline import make_pipeline\n",
    "from sklearn.preprocessing import StandardScaler\n",
    "from sklearn.svm import SVC\n",
    "\n",
    "from sklearn.metrics import confusion_matrix, classification_report\n",
    "from sklearn.model_selection import RandomizedSearchCV\n",
    "from sklearn.metrics import f1_score\n",
    "from sklearn.ensemble import RandomForestClassifier\n",
    "from sklearn.model_selection import train_test_split\n",
    "from sklearn.tree import plot_tree\n",
    "\n",
    "import pickle\n",
    "from console_progressbar import ProgressBar\n",
    "\n",
    "import warnings\n",
    "warnings.filterwarnings('ignore')"
   ]
  },
  {
   "cell_type": "code",
   "execution_count": 2,
   "metadata": {},
   "outputs": [
    {
     "name": "stdout",
     "output_type": "stream",
     "text": [
      "True\n"
     ]
    }
   ],
   "source": [
    "def ShouldRunModels():\n",
    "    try:\n",
    "        value = gl.variables.get('run_models')\n",
    "        if(value == 0):\n",
    "            return False\n",
    "        else:\n",
    "            return True\n",
    "    except:\n",
    "        return False\n",
    "\n",
    "run_mdls = ShouldRunModels()\n",
    "# manually set if needed\n",
    "run_mdls = True\n",
    "\n",
    "print(run_mdls)"
   ]
  },
  {
   "cell_type": "markdown",
   "metadata": {},
   "source": [
    "## Data import"
   ]
  },
  {
   "cell_type": "markdown",
   "metadata": {},
   "source": [
    "Einlesen des Datensatzes"
   ]
  },
  {
   "cell_type": "code",
   "execution_count": 3,
   "metadata": {},
   "outputs": [
    {
     "data": {
      "text/html": [
       "<div>\n",
       "<style scoped>\n",
       "    .dataframe tbody tr th:only-of-type {\n",
       "        vertical-align: middle;\n",
       "    }\n",
       "\n",
       "    .dataframe tbody tr th {\n",
       "        vertical-align: top;\n",
       "    }\n",
       "\n",
       "    .dataframe thead th {\n",
       "        text-align: right;\n",
       "    }\n",
       "</style>\n",
       "<table border=\"1\" class=\"dataframe\">\n",
       "  <thead>\n",
       "    <tr style=\"text-align: right;\">\n",
       "      <th></th>\n",
       "      <th>time</th>\n",
       "      <th>name</th>\n",
       "      <th>activity</th>\n",
       "      <th>acc_x</th>\n",
       "      <th>acc_y</th>\n",
       "      <th>acc_z</th>\n",
       "      <th>mag_x</th>\n",
       "      <th>mag_y</th>\n",
       "      <th>mag_z</th>\n",
       "      <th>gyr_x</th>\n",
       "      <th>gyr_y</th>\n",
       "      <th>gyr_z</th>\n",
       "      <th>ori_x</th>\n",
       "      <th>ori_y</th>\n",
       "      <th>ori_z</th>\n",
       "      <th>ori_w</th>\n",
       "      <th>lat</th>\n",
       "      <th>long</th>\n",
       "    </tr>\n",
       "  </thead>\n",
       "  <tbody>\n",
       "    <tr>\n",
       "      <th>0</th>\n",
       "      <td>2022-04-03 11:47:11.212</td>\n",
       "      <td>Raphi</td>\n",
       "      <td>Sitting</td>\n",
       "      <td>-0.091133</td>\n",
       "      <td>0.351148</td>\n",
       "      <td>0.945756</td>\n",
       "      <td>-23.01530</td>\n",
       "      <td>-26.72410</td>\n",
       "      <td>-33.40970</td>\n",
       "      <td>0.047035</td>\n",
       "      <td>-0.022907</td>\n",
       "      <td>0.008399</td>\n",
       "      <td>0.136017</td>\n",
       "      <td>-0.125171</td>\n",
       "      <td>-0.839552</td>\n",
       "      <td>0.510817</td>\n",
       "      <td>47.500155</td>\n",
       "      <td>8.324881</td>\n",
       "    </tr>\n",
       "    <tr>\n",
       "      <th>1</th>\n",
       "      <td>2022-04-03 11:47:11.268</td>\n",
       "      <td>Raphi</td>\n",
       "      <td>Sitting</td>\n",
       "      <td>-0.097963</td>\n",
       "      <td>0.366881</td>\n",
       "      <td>0.898528</td>\n",
       "      <td>-22.97260</td>\n",
       "      <td>-26.59600</td>\n",
       "      <td>-33.26940</td>\n",
       "      <td>-0.050089</td>\n",
       "      <td>-0.041232</td>\n",
       "      <td>-0.025808</td>\n",
       "      <td>0.135422</td>\n",
       "      <td>-0.126965</td>\n",
       "      <td>-0.839437</td>\n",
       "      <td>0.510728</td>\n",
       "      <td>47.500155</td>\n",
       "      <td>8.324881</td>\n",
       "    </tr>\n",
       "    <tr>\n",
       "      <th>2</th>\n",
       "      <td>2022-04-03 11:47:11.326</td>\n",
       "      <td>Raphi</td>\n",
       "      <td>Sitting</td>\n",
       "      <td>-0.114793</td>\n",
       "      <td>0.334654</td>\n",
       "      <td>0.998473</td>\n",
       "      <td>-22.77740</td>\n",
       "      <td>-26.51060</td>\n",
       "      <td>-33.09250</td>\n",
       "      <td>0.150879</td>\n",
       "      <td>-0.098041</td>\n",
       "      <td>0.096972</td>\n",
       "      <td>0.134209</td>\n",
       "      <td>-0.126197</td>\n",
       "      <td>-0.839677</td>\n",
       "      <td>0.510821</td>\n",
       "      <td>47.500155</td>\n",
       "      <td>8.324881</td>\n",
       "    </tr>\n",
       "    <tr>\n",
       "      <th>3</th>\n",
       "      <td>2022-04-03 11:47:11.388</td>\n",
       "      <td>Raphi</td>\n",
       "      <td>Sitting</td>\n",
       "      <td>-0.075767</td>\n",
       "      <td>0.364564</td>\n",
       "      <td>0.886332</td>\n",
       "      <td>-22.94210</td>\n",
       "      <td>-26.77900</td>\n",
       "      <td>-32.94610</td>\n",
       "      <td>0.196082</td>\n",
       "      <td>0.096208</td>\n",
       "      <td>-0.009926</td>\n",
       "      <td>0.134518</td>\n",
       "      <td>-0.133009</td>\n",
       "      <td>-0.839076</td>\n",
       "      <td>0.510125</td>\n",
       "      <td>47.500155</td>\n",
       "      <td>8.324881</td>\n",
       "    </tr>\n",
       "    <tr>\n",
       "      <th>4</th>\n",
       "      <td>2022-04-03 11:47:11.445</td>\n",
       "      <td>Raphi</td>\n",
       "      <td>Sitting</td>\n",
       "      <td>-0.125556</td>\n",
       "      <td>0.378345</td>\n",
       "      <td>0.905358</td>\n",
       "      <td>-23.32640</td>\n",
       "      <td>-27.35240</td>\n",
       "      <td>-32.97050</td>\n",
       "      <td>0.027488</td>\n",
       "      <td>0.019242</td>\n",
       "      <td>0.138510</td>\n",
       "      <td>0.139961</td>\n",
       "      <td>-0.133803</td>\n",
       "      <td>-0.836808</td>\n",
       "      <td>0.512193</td>\n",
       "      <td>47.500155</td>\n",
       "      <td>8.324881</td>\n",
       "    </tr>\n",
       "    <tr>\n",
       "      <th>...</th>\n",
       "      <td>...</td>\n",
       "      <td>...</td>\n",
       "      <td>...</td>\n",
       "      <td>...</td>\n",
       "      <td>...</td>\n",
       "      <td>...</td>\n",
       "      <td>...</td>\n",
       "      <td>...</td>\n",
       "      <td>...</td>\n",
       "      <td>...</td>\n",
       "      <td>...</td>\n",
       "      <td>...</td>\n",
       "      <td>...</td>\n",
       "      <td>...</td>\n",
       "      <td>...</td>\n",
       "      <td>...</td>\n",
       "      <td>...</td>\n",
       "      <td>...</td>\n",
       "    </tr>\n",
       "    <tr>\n",
       "      <th>1825264</th>\n",
       "      <td>2022-09-03 21:05:20.325</td>\n",
       "      <td>pascal</td>\n",
       "      <td>Walking</td>\n",
       "      <td>0.027898</td>\n",
       "      <td>0.317732</td>\n",
       "      <td>0.957129</td>\n",
       "      <td>34.87500</td>\n",
       "      <td>-15.03750</td>\n",
       "      <td>-24.41250</td>\n",
       "      <td>-0.654447</td>\n",
       "      <td>-0.162791</td>\n",
       "      <td>-0.574426</td>\n",
       "      <td>0.129507</td>\n",
       "      <td>0.170889</td>\n",
       "      <td>0.740303</td>\n",
       "      <td>0.637103</td>\n",
       "      <td>47.446347</td>\n",
       "      <td>8.362131</td>\n",
       "    </tr>\n",
       "    <tr>\n",
       "      <th>1825265</th>\n",
       "      <td>2022-09-03 21:05:20.380</td>\n",
       "      <td>pascal</td>\n",
       "      <td>Walking</td>\n",
       "      <td>-0.239099</td>\n",
       "      <td>0.224007</td>\n",
       "      <td>0.882216</td>\n",
       "      <td>34.01250</td>\n",
       "      <td>-16.88438</td>\n",
       "      <td>-24.13125</td>\n",
       "      <td>-0.392622</td>\n",
       "      <td>0.795323</td>\n",
       "      <td>-0.385063</td>\n",
       "      <td>0.118194</td>\n",
       "      <td>0.176197</td>\n",
       "      <td>0.735371</td>\n",
       "      <td>0.643593</td>\n",
       "      <td>47.446347</td>\n",
       "      <td>8.362131</td>\n",
       "    </tr>\n",
       "    <tr>\n",
       "      <th>1825266</th>\n",
       "      <td>2022-09-03 21:05:20.434</td>\n",
       "      <td>pascal</td>\n",
       "      <td>Walking</td>\n",
       "      <td>-0.277913</td>\n",
       "      <td>0.324562</td>\n",
       "      <td>0.661350</td>\n",
       "      <td>35.77500</td>\n",
       "      <td>-15.20625</td>\n",
       "      <td>-22.85625</td>\n",
       "      <td>0.217920</td>\n",
       "      <td>0.916576</td>\n",
       "      <td>-0.088115</td>\n",
       "      <td>0.095281</td>\n",
       "      <td>0.186127</td>\n",
       "      <td>0.728054</td>\n",
       "      <td>0.653413</td>\n",
       "      <td>47.446347</td>\n",
       "      <td>8.362131</td>\n",
       "    </tr>\n",
       "    <tr>\n",
       "      <th>1825267</th>\n",
       "      <td>2022-09-03 21:05:20.489</td>\n",
       "      <td>pascal</td>\n",
       "      <td>Walking</td>\n",
       "      <td>-0.300963</td>\n",
       "      <td>0.430970</td>\n",
       "      <td>0.786784</td>\n",
       "      <td>36.61875</td>\n",
       "      <td>-15.20625</td>\n",
       "      <td>-22.10625</td>\n",
       "      <td>-0.055740</td>\n",
       "      <td>-0.299621</td>\n",
       "      <td>-0.178291</td>\n",
       "      <td>0.061030</td>\n",
       "      <td>0.207580</td>\n",
       "      <td>0.727188</td>\n",
       "      <td>0.651925</td>\n",
       "      <td>47.446347</td>\n",
       "      <td>8.362131</td>\n",
       "    </tr>\n",
       "    <tr>\n",
       "      <th>1825268</th>\n",
       "      <td>2022-09-03 21:05:20.544</td>\n",
       "      <td>pascal</td>\n",
       "      <td>Walking</td>\n",
       "      <td>-0.333068</td>\n",
       "      <td>0.376180</td>\n",
       "      <td>0.789223</td>\n",
       "      <td>36.73125</td>\n",
       "      <td>-15.06563</td>\n",
       "      <td>-21.82500</td>\n",
       "      <td>0.125071</td>\n",
       "      <td>-0.554420</td>\n",
       "      <td>-0.413773</td>\n",
       "      <td>0.050895</td>\n",
       "      <td>0.220512</td>\n",
       "      <td>0.726323</td>\n",
       "      <td>0.649030</td>\n",
       "      <td>47.446347</td>\n",
       "      <td>8.362131</td>\n",
       "    </tr>\n",
       "  </tbody>\n",
       "</table>\n",
       "<p>1825269 rows × 18 columns</p>\n",
       "</div>"
      ],
      "text/plain": [
       "                            time    name activity     acc_x     acc_y  \\\n",
       "0        2022-04-03 11:47:11.212   Raphi  Sitting -0.091133  0.351148   \n",
       "1        2022-04-03 11:47:11.268   Raphi  Sitting -0.097963  0.366881   \n",
       "2        2022-04-03 11:47:11.326   Raphi  Sitting -0.114793  0.334654   \n",
       "3        2022-04-03 11:47:11.388   Raphi  Sitting -0.075767  0.364564   \n",
       "4        2022-04-03 11:47:11.445   Raphi  Sitting -0.125556  0.378345   \n",
       "...                          ...     ...      ...       ...       ...   \n",
       "1825264  2022-09-03 21:05:20.325  pascal  Walking  0.027898  0.317732   \n",
       "1825265  2022-09-03 21:05:20.380  pascal  Walking -0.239099  0.224007   \n",
       "1825266  2022-09-03 21:05:20.434  pascal  Walking -0.277913  0.324562   \n",
       "1825267  2022-09-03 21:05:20.489  pascal  Walking -0.300963  0.430970   \n",
       "1825268  2022-09-03 21:05:20.544  pascal  Walking -0.333068  0.376180   \n",
       "\n",
       "            acc_z     mag_x     mag_y     mag_z     gyr_x     gyr_y     gyr_z  \\\n",
       "0        0.945756 -23.01530 -26.72410 -33.40970  0.047035 -0.022907  0.008399   \n",
       "1        0.898528 -22.97260 -26.59600 -33.26940 -0.050089 -0.041232 -0.025808   \n",
       "2        0.998473 -22.77740 -26.51060 -33.09250  0.150879 -0.098041  0.096972   \n",
       "3        0.886332 -22.94210 -26.77900 -32.94610  0.196082  0.096208 -0.009926   \n",
       "4        0.905358 -23.32640 -27.35240 -32.97050  0.027488  0.019242  0.138510   \n",
       "...           ...       ...       ...       ...       ...       ...       ...   \n",
       "1825264  0.957129  34.87500 -15.03750 -24.41250 -0.654447 -0.162791 -0.574426   \n",
       "1825265  0.882216  34.01250 -16.88438 -24.13125 -0.392622  0.795323 -0.385063   \n",
       "1825266  0.661350  35.77500 -15.20625 -22.85625  0.217920  0.916576 -0.088115   \n",
       "1825267  0.786784  36.61875 -15.20625 -22.10625 -0.055740 -0.299621 -0.178291   \n",
       "1825268  0.789223  36.73125 -15.06563 -21.82500  0.125071 -0.554420 -0.413773   \n",
       "\n",
       "            ori_x     ori_y     ori_z     ori_w        lat      long  \n",
       "0        0.136017 -0.125171 -0.839552  0.510817  47.500155  8.324881  \n",
       "1        0.135422 -0.126965 -0.839437  0.510728  47.500155  8.324881  \n",
       "2        0.134209 -0.126197 -0.839677  0.510821  47.500155  8.324881  \n",
       "3        0.134518 -0.133009 -0.839076  0.510125  47.500155  8.324881  \n",
       "4        0.139961 -0.133803 -0.836808  0.512193  47.500155  8.324881  \n",
       "...           ...       ...       ...       ...        ...       ...  \n",
       "1825264  0.129507  0.170889  0.740303  0.637103  47.446347  8.362131  \n",
       "1825265  0.118194  0.176197  0.735371  0.643593  47.446347  8.362131  \n",
       "1825266  0.095281  0.186127  0.728054  0.653413  47.446347  8.362131  \n",
       "1825267  0.061030  0.207580  0.727188  0.651925  47.446347  8.362131  \n",
       "1825268  0.050895  0.220512  0.726323  0.649030  47.446347  8.362131  \n",
       "\n",
       "[1825269 rows x 18 columns]"
      ]
     },
     "execution_count": 3,
     "metadata": {},
     "output_type": "execute_result"
    }
   ],
   "source": [
    "df_clean = pd.read_csv(\"./data/df_clean.csv\")\n",
    "df_clean = df_clean.drop(columns=['Unnamed: 0'])\n",
    "df_clean"
   ]
  },
  {
   "cell_type": "markdown",
   "metadata": {},
   "source": [
    "Zeit zu Datetime konvertieren"
   ]
  },
  {
   "cell_type": "code",
   "execution_count": 4,
   "metadata": {},
   "outputs": [],
   "source": [
    "df_clean['time'] = pd.to_datetime(df_clean['time'])"
   ]
  },
  {
   "cell_type": "markdown",
   "metadata": {},
   "source": [
    "## Data preparation"
   ]
  },
  {
   "cell_type": "markdown",
   "metadata": {},
   "source": [
    "Entferne Gruppen mit weniger als 200 Observationen, also Aktivitäten, welche weniger als 10 Sekunden dauern. Bei diesen handelt es sich oft um Falschaufzeichnungen indem die falsche Aktivität gewählt wurde und dann gleich wieder abgeschalten wurde. Auch sonst macht es nicht wirklich Sinn, Aktivitäten welche weniger als 10 Sekunden dauern in das Modell einfliessen zu lassen, da alleine das Aktivieren, Versorgen des Smartphones, Hervornehmen des Smartphones und Beenden die Hälfte der Zeit andauert."
   ]
  },
  {
   "cell_type": "code",
   "execution_count": 5,
   "metadata": {},
   "outputs": [],
   "source": [
    "frames = []\n",
    "names = df_clean['name'].unique()\n",
    "for name in names:\n",
    "    df_per_name = df_clean.copy()\n",
    "    df_per_name = df_per_name[df_per_name['name'] == name]\n",
    "    df_per_name['time_difference'] = pd.Series(df_clean.loc[df_clean.index, \"time\"].values - df_clean.loc[df_clean.index.insert(0, 0)[:-1], \"time\"].values).dt.total_seconds()\n",
    "    df_per_name = df_per_name[df_per_name['time_difference'] > 0]\n",
    "    df_per_name.loc[df_per_name['time_difference'] < 1, 'time_difference'] = None\n",
    "    df_per_name['time_difference'] = df_per_name['time_difference'].ffill()\n",
    "    df_per_name = df_per_name.groupby(['time_difference']).filter(lambda x: len(x) > 200)\n",
    "    frames.append(df_per_name)\n",
    "df_clean = pd.concat(frames)\n",
    "df_clean = df_clean.drop(['time_difference'], axis=1)\n",
    "df_clean = df_clean.reset_index()\n",
    "df_clean = df_clean.drop(['index'], axis=1)"
   ]
  },
  {
   "cell_type": "markdown",
   "metadata": {},
   "source": [
    "Wie viele Daten haben die jeweiligen Mitglieder gesammelt?"
   ]
  },
  {
   "cell_type": "code",
   "execution_count": 6,
   "metadata": {},
   "outputs": [
    {
     "data": {
      "text/plain": [
       "pascal    470451\n",
       "Flavio    437238\n",
       "Raphi     354326\n",
       "Simon     261573\n",
       "Ronny     239765\n",
       "Name: name, dtype: int64"
      ]
     },
     "execution_count": 6,
     "metadata": {},
     "output_type": "execute_result"
    }
   ],
   "source": [
    "df_clean['name'].value_counts()"
   ]
  },
  {
   "cell_type": "markdown",
   "metadata": {},
   "source": [
    "Was für Daten sind pro Observation vorhanden?"
   ]
  },
  {
   "cell_type": "code",
   "execution_count": 7,
   "metadata": {},
   "outputs": [
    {
     "data": {
      "text/plain": [
       "Index(['time', 'name', 'activity', 'acc_x', 'acc_y', 'acc_z', 'mag_x', 'mag_y',\n",
       "       'mag_z', 'gyr_x', 'gyr_y', 'gyr_z', 'ori_x', 'ori_y', 'ori_z', 'ori_w',\n",
       "       'lat', 'long'],\n",
       "      dtype='object')"
      ]
     },
     "execution_count": 7,
     "metadata": {},
     "output_type": "execute_result"
    }
   ],
   "source": [
    "df_clean.columns"
   ]
  },
  {
   "cell_type": "markdown",
   "metadata": {},
   "source": [
    "#### Verteilungen der verschiedenen Features"
   ]
  },
  {
   "cell_type": "code",
   "execution_count": 8,
   "metadata": {},
   "outputs": [
    {
     "data": {
      "image/png": "[encoded data removed]",
      "text/plain": [
       "<Figure size 1584x720 with 16 Axes>"
      ]
     },
     "metadata": {
      "needs_background": "light"
     },
     "output_type": "display_data"
    }
   ],
   "source": [
    "df_clean.iloc[:, 3:18].hist(figsize=(22, 10), bins=50)\n",
    "plt.show()"
   ]
  },
  {
   "cell_type": "markdown",
   "metadata": {},
   "source": [
    "Hier wird ersichtlich, dass keine der Variablen normalverteilt ist. Trotzdem wird in Folge versucht, Ausreisser mittels Boxplots zu itentifizieren."
   ]
  },
  {
   "cell_type": "code",
   "execution_count": 9,
   "metadata": {},
   "outputs": [
    {
     "data": {
      "image/png": "[encoded data removed]",
      "text/plain": [
       "<Figure size 1584x576 with 4 Axes>"
      ]
     },
     "metadata": {
      "needs_background": "light"
     },
     "output_type": "display_data"
    }
   ],
   "source": [
    "fig, axs = plt.subplots(1, 4, figsize=(22, 8))\n",
    "axs = axs.flatten()\n",
    "for i in range(3):\n",
    "    axs[i].set_title([\"accelometer\", \"magnetometer\", \"gyroscope\"][i])\n",
    "    axs[i].boxplot(df_clean.iloc[:, i*3 + 3 : i*3 + 6])\n",
    "    #axs[i] = sns.swarmplot(data=df_clean.iloc[:, i*3 + 3 : i*3 + 6], color=\"grey\")\n",
    "\n",
    "axs[3].set_title(\"orientation\")\n",
    "axs[3].boxplot(df_clean.iloc[:, 12:16])\n",
    "\n",
    "fig.suptitle(\"Verteilung numerischer Daten auf den verschiedenen Achsen\")\n",
    "\n",
    "plt.show()"
   ]
  },
  {
   "cell_type": "markdown",
   "metadata": {},
   "source": [
    "Leider konnten anhand der Boxplots keine Ausreisser erkannt werden, welche wir manuell und mit gutem Gewissen entfernen können."
   ]
  },
  {
   "cell_type": "markdown",
   "metadata": {},
   "source": [
    "## Aggregation"
   ]
  },
  {
   "cell_type": "markdown",
   "metadata": {},
   "source": [
    "Um die Achsen der Daten im Modell nicht einzubeziehen (da das Smartphone ja nicht bei allen Personen gleich ausgerichtet ist und so das Modell allgemeiner wird) sollen diese miteinander verrechnet werden. Dafür machen wir die Werte positiv und addieren sie auf. Da alle Achsen gleich skaliert werden sollen, wird anstelle einer Normailsierung mit einem konstanten Wert addiert."
   ]
  },
  {
   "cell_type": "code",
   "execution_count": 10,
   "metadata": {},
   "outputs": [
    {
     "data": {
      "text/plain": [
       "Index(['time', 'name', 'activity', 'lat', 'long', 'acc', 'mag', 'gyr', 'ori'], dtype='object')"
      ]
     },
     "execution_count": 10,
     "metadata": {},
     "output_type": "execute_result"
    }
   ],
   "source": [
    "# accelometer\n",
    "df_clean['acc'] = (df_clean.iloc[:, 3:6] + 10).sum(axis=1)\n",
    "# magnetometer\n",
    "df_clean['mag'] = (df_clean.iloc[:, 6:9] + 2000).sum(axis=1)\n",
    "# gyroscope\n",
    "df_clean['gyr'] = (df_clean.iloc[:, 9:12] + 30).sum(axis=1)\n",
    "# orientation\n",
    "df_clean['ori'] = (df_clean.iloc[:, 12:16] + 1).sum(axis=1)\n",
    "\n",
    "# drop old axis columns\n",
    "df_clean.drop(columns=df_clean.columns[3:16], inplace=True)\n",
    "df_clean.columns"
   ]
  },
  {
   "cell_type": "code",
   "execution_count": 11,
   "metadata": {},
   "outputs": [
    {
     "data": {
      "image/png": "[encoded data removed]",
      "text/plain": [
       "<Figure size 1584x504 with 6 Axes>"
      ]
     },
     "metadata": {
      "needs_background": "light"
     },
     "output_type": "display_data"
    }
   ],
   "source": [
    "df_clean.iloc[:, 3:].hist(figsize=(22, 7), bins=50)\n",
    "plt.suptitle('Verteilungen der Werte nach Aufaddieren')\n",
    "plt.show()"
   ]
  },
  {
   "cell_type": "markdown",
   "metadata": {},
   "source": [
    "### GPS-Sensor und Geschwindigkeit"
   ]
  },
  {
   "cell_type": "markdown",
   "metadata": {},
   "source": [
    "Sinnvoller als Koordinatendaten wäre Geschwindigkeit, da ansonsten auf den Ort zurückgeschlossen werden könnte. Dafür werden hier die Koordinaten-Unterschiede berechnet."
   ]
  },
  {
   "cell_type": "code",
   "execution_count": 12,
   "metadata": {},
   "outputs": [
    {
     "data": {
      "image/png": "[encoded data removed]",
      "text/plain": [
       "<Figure size 1584x360 with 2 Axes>"
      ]
     },
     "metadata": {
      "needs_background": "light"
     },
     "output_type": "display_data"
    }
   ],
   "source": [
    "gps_diff = (df_clean.loc[:, [\"lat\", \"long\"]] - df_clean.loc[:, [\"lat\", \"long\"]].shift(-1))\n",
    "gps_diff.replace(0, np.NAN, inplace=True)\n",
    "gps_diff[(abs(gps_diff) < 1e-3)].hist(bins=50, figsize=(22, 5))\n",
    "\n",
    "plt.show()"
   ]
  },
  {
   "cell_type": "markdown",
   "metadata": {},
   "source": [
    "Werte ausserhalb diese Bereichs werden als Ausreisser betrachtet und deshalb hier entfernt."
   ]
  },
  {
   "cell_type": "code",
   "execution_count": 13,
   "metadata": {},
   "outputs": [
    {
     "data": {
      "text/html": [
       "<div>\n",
       "<style scoped>\n",
       "    .dataframe tbody tr th:only-of-type {\n",
       "        vertical-align: middle;\n",
       "    }\n",
       "\n",
       "    .dataframe tbody tr th {\n",
       "        vertical-align: top;\n",
       "    }\n",
       "\n",
       "    .dataframe thead th {\n",
       "        text-align: right;\n",
       "    }\n",
       "</style>\n",
       "<table border=\"1\" class=\"dataframe\">\n",
       "  <thead>\n",
       "    <tr style=\"text-align: right;\">\n",
       "      <th></th>\n",
       "      <th>lat</th>\n",
       "      <th>long</th>\n",
       "    </tr>\n",
       "  </thead>\n",
       "  <tbody>\n",
       "    <tr>\n",
       "      <th>count</th>\n",
       "      <td>4.959600e+04</td>\n",
       "      <td>4.944800e+04</td>\n",
       "    </tr>\n",
       "    <tr>\n",
       "      <th>mean</th>\n",
       "      <td>-2.465270e-06</td>\n",
       "      <td>1.867773e-06</td>\n",
       "    </tr>\n",
       "    <tr>\n",
       "      <th>std</th>\n",
       "      <td>9.231097e-05</td>\n",
       "      <td>1.155062e-04</td>\n",
       "    </tr>\n",
       "    <tr>\n",
       "      <th>min</th>\n",
       "      <td>-9.994700e-04</td>\n",
       "      <td>-9.999500e-04</td>\n",
       "    </tr>\n",
       "    <tr>\n",
       "      <th>25%</th>\n",
       "      <td>-1.796099e-05</td>\n",
       "      <td>-2.643000e-05</td>\n",
       "    </tr>\n",
       "    <tr>\n",
       "      <th>50%</th>\n",
       "      <td>-3.000000e-08</td>\n",
       "      <td>1.000000e-07</td>\n",
       "    </tr>\n",
       "    <tr>\n",
       "      <th>75%</th>\n",
       "      <td>1.572680e-05</td>\n",
       "      <td>2.952000e-05</td>\n",
       "    </tr>\n",
       "    <tr>\n",
       "      <th>max</th>\n",
       "      <td>9.987600e-04</td>\n",
       "      <td>9.920400e-04</td>\n",
       "    </tr>\n",
       "  </tbody>\n",
       "</table>\n",
       "</div>"
      ],
      "text/plain": [
       "                lat          long\n",
       "count  4.959600e+04  4.944800e+04\n",
       "mean  -2.465270e-06  1.867773e-06\n",
       "std    9.231097e-05  1.155062e-04\n",
       "min   -9.994700e-04 -9.999500e-04\n",
       "25%   -1.796099e-05 -2.643000e-05\n",
       "50%   -3.000000e-08  1.000000e-07\n",
       "75%    1.572680e-05  2.952000e-05\n",
       "max    9.987600e-04  9.920400e-04"
      ]
     },
     "execution_count": 13,
     "metadata": {},
     "output_type": "execute_result"
    }
   ],
   "source": [
    "gps_diff[abs(gps_diff) > 1e-3] = np.NAN\n",
    "gps_diff.describe()"
   ]
  },
  {
   "cell_type": "code",
   "execution_count": 14,
   "metadata": {},
   "outputs": [
    {
     "data": {
      "text/plain": [
       "False    1711668\n",
       "True       51685\n",
       "Name: gps_differs, dtype: int64"
      ]
     },
     "execution_count": 14,
     "metadata": {},
     "output_type": "execute_result"
    }
   ],
   "source": [
    "df_clean[\"gps_differs\"] = (df_clean[[\"lat\", \"long\"]] - df_clean[[\"lat\", \"long\"]].shift(-1)).sum(axis=1).astype(bool)\n",
    "df_clean[\"gps_differs\"].value_counts()"
   ]
  },
  {
   "cell_type": "markdown",
   "metadata": {},
   "source": [
    "Hier sollen die Koordinatenunterschiede zu Meter umgerechnet werden."
   ]
  },
  {
   "cell_type": "code",
   "execution_count": 15,
   "metadata": {},
   "outputs": [
    {
     "name": "stdout",
     "output_type": "stream",
     "text": [
      " |██████████████████████████████████████████████████| 100.000% \n"
     ]
    },
    {
     "data": {
      "text/plain": [
       "51685"
      ]
     },
     "execution_count": 15,
     "metadata": {},
     "output_type": "execute_result"
    }
   ],
   "source": [
    "# calculate distance in meters (https://stackoverflow.com/questions/57294120/calculating-distance-between-latitude-and-longitude-in-python)\n",
    "pb = ProgressBar(total=100, decimals=3, length=50)\n",
    "\n",
    "i = 0\n",
    "def get_distance(point1, point2):\n",
    "    if(point1[0] == point2[0] and point1[1] == point2[1]):\n",
    "        return 0.0\n",
    "\n",
    "    R = 6370\n",
    "    lat1 = radians(point1[0])  \n",
    "    lon1 = radians(point1[1])\n",
    "    lat2 = radians(point2[0])\n",
    "    lon2 = radians(point2[1])\n",
    "\n",
    "    dlon = lon2 - lon1\n",
    "    dlat = lat2- lat1\n",
    "\n",
    "    a = sin(dlat / 2)**2 + cos(lat1) * cos(lat2) * sin(dlon / 2)**2\n",
    "    c = 2 * atan2(sqrt(a), sqrt(1-a))\n",
    "    distance = R * c\n",
    "    return distance\n",
    "\n",
    "dists = []\n",
    "gps_differs_index = df_clean.loc[df_clean[\"gps_differs\"] == True, \"gps_differs\"].index\n",
    "for i in range(gps_differs_index.shape[0]):\n",
    "    dists.append(get_distance(df_clean.loc[gps_differs_index[i], [\"lat\", \"long\"]], df_clean.loc[gps_differs_index[i]+1, [\"lat\", \"long\"]]))\n",
    "\n",
    "    if(i % 100 == 0):\n",
    "        pb.print_progress_bar(i / gps_differs_index.shape[0] * 100)\n",
    "\n",
    "pb.print_progress_bar(100)\n",
    "len(dists)"
   ]
  },
  {
   "cell_type": "code",
   "execution_count": 16,
   "metadata": {},
   "outputs": [
    {
     "data": {
      "image/png": "[encoded data removed]",
      "text/plain": [
       "<Figure size 432x288 with 1 Axes>"
      ]
     },
     "metadata": {
      "needs_background": "light"
     },
     "output_type": "display_data"
    }
   ],
   "source": [
    "# Verteilung der dists\n",
    "dists = pd.Series(dists)\n",
    "dists[(dists < 1)].hist(bins=20)\n",
    "plt.title(\"Distanzen zwischen zwei Observationen\")\n",
    "plt.xlabel(\"Meter\")\n",
    "plt.ylabel(\"Anzahl Vorkomnisse\")\n",
    "plt.show()"
   ]
  },
  {
   "cell_type": "markdown",
   "metadata": {},
   "source": [
    "Man sieht, dass die Distanzen immer nur sehr klein sind, abgesehen von einigen Ausreissern. Um jetzt ein besseres Gefühl für diese Distanzen zu bekommen und die verschiedenen Zeitabstände zwischen den Punkten auszugleichen berechnen wir anhand des Zeitunterschieds die Geschwindigkeit."
   ]
  },
  {
   "cell_type": "code",
   "execution_count": 17,
   "metadata": {},
   "outputs": [
    {
     "data": {
      "image/png": "[encoded data removed]",
      "text/plain": [
       "<Figure size 432x288 with 1 Axes>"
      ]
     },
     "metadata": {
      "needs_background": "light"
     },
     "output_type": "display_data"
    }
   ],
   "source": [
    "# calculate time differences\n",
    "time_differences = pd.Series(df_clean.loc[gps_differs_index, \"time\"].values - df_clean.loc[gps_differs_index.insert(0, 0)[:-1], \"time\"].values)\n",
    "time_diff_secs = time_differences.dt.total_seconds()\n",
    "\n",
    "time_diff_secs[(time_diff_secs < 15) & (time_diff_secs > -10)].hist(bins=50)\n",
    "\n",
    "plt.show()"
   ]
  },
  {
   "cell_type": "markdown",
   "metadata": {},
   "source": [
    "Das Zeitintervall der GPS Messungen ist etwa 1s. Um falsche Werte zu verwerfen werden diese auf 0 gesetzt, später durch 0 dividiert."
   ]
  },
  {
   "cell_type": "code",
   "execution_count": 18,
   "metadata": {},
   "outputs": [
    {
     "name": "stdout",
     "output_type": "stream",
     "text": [
      "(2279,)\n"
     ]
    }
   ],
   "source": [
    "print(time_diff_secs[(time_diff_secs > 15) | (time_diff_secs < -10)].shape)\n",
    "time_diff_secs.loc[(time_diff_secs > 10) | (time_diff_secs < 0)] = 0.0"
   ]
  },
  {
   "cell_type": "code",
   "execution_count": 19,
   "metadata": {},
   "outputs": [
    {
     "data": {
      "image/png": "[encoded data removed]",
      "text/plain": [
       "<Figure size 432x288 with 1 Axes>"
      ]
     },
     "metadata": {
      "needs_background": "light"
     },
     "output_type": "display_data"
    }
   ],
   "source": [
    "# m/s ausrechen, in km/h umrechnen\n",
    "kmh = (dists / time_diff_secs * 3.6)\n",
    "kmh[kmh == np.inf] = np.nan\n",
    "kmh[kmh > 120] = np.nan\n",
    "kmh[kmh < 1] = 0\n",
    "kmh[kmh > 0].hist(bins=50)\n",
    "plt.show()"
   ]
  },
  {
   "cell_type": "code",
   "execution_count": 20,
   "metadata": {},
   "outputs": [],
   "source": [
    "# geschwindigkeit inseriteren\n",
    "df_clean.loc[gps_differs_index, \"kmh\"] = kmh"
   ]
  },
  {
   "cell_type": "markdown",
   "metadata": {},
   "source": [
    "Nun müssen wir aufgrund des Delays der GPS-Messung die Daten Forward-Fillen auf die Observationen, welche keine Angaben haben."
   ]
  },
  {
   "cell_type": "code",
   "execution_count": 21,
   "metadata": {},
   "outputs": [],
   "source": [
    "# forward fill\n",
    "df_clean[\"kmh\"] = df_clean[\"kmh\"].ffill().fillna(0)"
   ]
  },
  {
   "cell_type": "code",
   "execution_count": 22,
   "metadata": {},
   "outputs": [
    {
     "data": {
      "text/plain": [
       "0.000000     1762355\n",
       "2.798699         383\n",
       "1.068762         151\n",
       "43.381265         59\n",
       "39.553145         44\n",
       "13.314394         23\n",
       "2.287322          23\n",
       "21.725519         23\n",
       "1.016302          22\n",
       "7.408106          22\n",
       "8.579799          22\n",
       "3.924800          22\n",
       "1.705948          22\n",
       "8.337217          22\n",
       "40.160921         22\n",
       "1.340584          22\n",
       "13.154211         22\n",
       "3.413145          22\n",
       "1.946019          21\n",
       "7.227847          21\n",
       "3.564326          21\n",
       "14.012313          5\n",
       "11.119697          2\n",
       "8.659531           1\n",
       "1.701358           1\n",
       "Name: kmh, dtype: int64"
      ]
     },
     "execution_count": 22,
     "metadata": {},
     "output_type": "execute_result"
    }
   ],
   "source": [
    "df_clean.kmh.value_counts()"
   ]
  },
  {
   "cell_type": "markdown",
   "metadata": {},
   "source": [
    "Die GPS Daten haben grösstenteils nicht funktioniert. Die allermeisten Datenpunkte sind 0. Daher sind sie leider nicht zu gebrauchen."
   ]
  },
  {
   "cell_type": "code",
   "execution_count": 23,
   "metadata": {},
   "outputs": [
    {
     "name": "stdout",
     "output_type": "stream",
     "text": [
      "['Raphi']\n",
      "['Bicycling']\n"
     ]
    }
   ],
   "source": [
    "print(df_clean[df_clean[\"kmh\"] > 0].name.unique())\n",
    "print(df_clean[df_clean[\"kmh\"] > 0].activity.unique())"
   ]
  },
  {
   "cell_type": "markdown",
   "metadata": {},
   "source": [
    "Die einzige Aktivität, bei welcher grössere Entfernungen gemessen werden konnten, ist Fahrradfahren, jedoch auch nur bei Raphael."
   ]
  },
  {
   "cell_type": "markdown",
   "metadata": {},
   "source": [
    "# Filter nach 5sec Abschnitte"
   ]
  },
  {
   "cell_type": "markdown",
   "metadata": {},
   "source": [
    "Da wir später im Modell nicht jede Observation vorhersagen wollen, sondern grössere Zeitabschnitte, haben wir die Daten in 5-Sekunden-Abschnitte unterteilt. Ausserdem haben wir einen Shifting-Index gemacht, welcher dann bei den Deep Learning Modellen zum Einsatz kommt."
   ]
  },
  {
   "cell_type": "code",
   "execution_count": 24,
   "metadata": {},
   "outputs": [],
   "source": [
    "old_time = pd.to_datetime(\"01.01.2022 00:00:00\")\n",
    "\n",
    "df_clean[f\"5s_index_\"] = ((df_clean[\"time\"] - old_time).dt.total_seconds() // 5)\n",
    "df_clean[f\"5s_index0\"] = ((df_clean[\"time\"] - old_time).dt.total_seconds() // 5)\n",
    "for i  in range(1, 5):\n",
    "    df_clean[f\"5s_index{i}\"] = df_clean[f\"5s_index0\"].shift(round(i * 90/5))\n",
    "\n",
    "# inplace shifted values at the beginning\n",
    "df_clean.fillna(0, inplace=True)"
   ]
  },
  {
   "cell_type": "code",
   "execution_count": 25,
   "metadata": {},
   "outputs": [
    {
     "name": "stdout",
     "output_type": "stream",
     "text": [
      "18487\n"
     ]
    },
    {
     "data": {
      "image/png": "[encoded data removed]",
      "text/plain": [
       "<Figure size 1584x360 with 1 Axes>"
      ]
     },
     "metadata": {
      "needs_background": "light"
     },
     "output_type": "display_data"
    }
   ],
   "source": [
    "groups = [\"5s_index0\", \"name\", \"activity\"]\n",
    "df_wind = df_clean.groupby(groups)\n",
    "# print group count\n",
    "print(df_wind.size().count())\n",
    "# count elements per group\n",
    "df_wind.size().hist(figsize=(22, 5), bins=50)\n",
    "plt.title(\"Verteilung der Anzahl Observationen in den Abschnitten\")\n",
    "plt.xlabel(\"Anzahl Observationen\")\n",
    "plt.ylabel(\"Vorkommnisse\")\n",
    "plt.show()"
   ]
  },
  {
   "cell_type": "markdown",
   "metadata": {},
   "source": [
    "Man sieht, dass der Peak bei etwas weniger als 100 Observationen pro 5 Sekunden ist. Dies macht Sinn, da wir festgelegt haben, dass die Sensoren ca. alle 50ms messen sollen. Natürlich gibt es auch immer noch ungültige Messungen, daher ein bisschen weniger als 100. \n",
    "\n",
    "Die Abschnitte mit wenigen Observationen sind wahrscheinlich durch schlechtes Internet oder anderen Fehlern entstanden. Wir haben uns dazu entschieden, Observationen mit weniger als 75 Messungen zu entfernen. Bei den Abschnitten mit mehr als 100 Observationen liegt es daran, dass Flavio mit zwei Smartphones gleichzeitig gemessen hat. Dies würde unsere Daten natürlich verfälschen, daher werden wir diese auch entfernen."
   ]
  },
  {
   "cell_type": "markdown",
   "metadata": {},
   "source": [
    "### Anspeichern des CSV's für deep learning Modelle\n",
    "\n",
    "Das Dataframe mit den gruppierten Zeitstempeln nach 5 Sekunden wird als CSV abgespeichert. Dieses dient als Datengrundlage für das Training der deep learning CNN's. Da das CSV schon relativ früh in der Challenge generiert wurde und die Trainingsdaten später noch vereinzelt gefiltert wurden, kann es Unterschied beim erneuten Generieren des CSV geben. Struktur und Inhalt sollten jedoch grösstenteils identisch sein."
   ]
  },
  {
   "cell_type": "code",
   "execution_count": 26,
   "metadata": {},
   "outputs": [],
   "source": [
    "df_deep_models = df_clean[[\"time\",\"name\",\"activity\",\"acc\",\"mag\",\"gyr\",\"ori\",\"kmh\",\"5s_index_\"]]\n",
    "df_deep_models = df_deep_models.rename(columns={\"5s_index_\":\"5s_index\"})\n",
    "df_deep_models\n",
    "\n",
    "# Abspeichern des aktuellen Dataframes als Datengrundlage für die Modellierung des CNN's\n",
    "deep_models = \"./data/deep_models.csv\"\n",
    "if not os.path.exists(deep_models):\n",
    "    df_deep_models.to_csv(deep_models)"
   ]
  },
  {
   "cell_type": "markdown",
   "metadata": {},
   "source": [
    "### Analyse wer doppelt & gleichzeitig gemessen hat (200, 300) Messwerte anstatt 100"
   ]
  },
  {
   "cell_type": "code",
   "execution_count": 27,
   "metadata": {},
   "outputs": [
    {
     "name": "stdout",
     "output_type": "stream",
     "text": [
      "15030\n"
     ]
    },
    {
     "data": {
      "image/png": "[encoded data removed]",
      "text/plain": [
       "<Figure size 1584x360 with 1 Axes>"
      ]
     },
     "metadata": {
      "needs_background": "light"
     },
     "output_type": "display_data"
    }
   ],
   "source": [
    "df_wind2 = df_clean.loc[(df_clean[\"name\"] != \"Flavio\"), :].groupby(groups)\n",
    "# print group count\n",
    "print(df_wind2.size().count())\n",
    "# count elements per group\n",
    "df_wind2.size().hist(figsize=(22, 5), bins=50)\n",
    "plt.title(\"Verteilung der Anzahl Observationen in den Abschnitten ohne Flavio\")\n",
    "plt.xlabel(\"Anzahl Observationen\")\n",
    "plt.ylabel(\"Vorkommnisse\")\n",
    "plt.show()\n",
    "del df_wind2"
   ]
  },
  {
   "cell_type": "markdown",
   "metadata": {},
   "source": [
    "Hier sehen wir, dass es ohne Flavio nicht mehr als 100 Observationen pro Abschnitt hat."
   ]
  },
  {
   "cell_type": "markdown",
   "metadata": {},
   "source": [
    "Als nächstes Entfernen wir also alle Abschnitte mit weniger als 75 und mehr als 110 Observationen."
   ]
  },
  {
   "cell_type": "code",
   "execution_count": 28,
   "metadata": {},
   "outputs": [
    {
     "name": "stdout",
     "output_type": "stream",
     "text": [
      "18487\n",
      "15140\n"
     ]
    }
   ],
   "source": [
    "print(df_wind.size().count())\n",
    "df_wind = df_wind.filter(lambda g: (g.shape[0] > 75) and (g.shape[0] < 110)).groupby(groups)\n",
    "print(df_wind.size().count())"
   ]
  },
  {
   "cell_type": "markdown",
   "metadata": {},
   "source": [
    "Jetzt entfernen wir die Elemente, welche wir den Modellen nicht als Input geben wollen."
   ]
  },
  {
   "cell_type": "code",
   "execution_count": 29,
   "metadata": {},
   "outputs": [],
   "source": [
    "target = df_wind[[\"name\", \"activity\", \"5s_index0\"]].first().reset_index(drop=True)"
   ]
  },
  {
   "cell_type": "markdown",
   "metadata": {},
   "source": [
    "Um die Abschnitte besser vergleichen zu können, fassen wir die Variabeln der verschiedenen im Abschnitt inbegriffen Observationen zusammen, indem wir die Varianz, den Durchschnitt, den Median, das Minimum und das Maximum davon erstellten."
   ]
  },
  {
   "cell_type": "code",
   "execution_count": 30,
   "metadata": {},
   "outputs": [
    {
     "data": {
      "text/plain": [
       "array([('5s_index0', ''), ('name', ''), ('activity', ''), ('acc', 'var'),\n",
       "       ('acc', 'mean'), ('acc', 'median'), ('acc', 'min'), ('acc', 'max'),\n",
       "       ('mag', 'var'), ('mag', 'mean'), ('mag', 'median'), ('mag', 'min'),\n",
       "       ('mag', 'max'), ('gyr', 'var'), ('gyr', 'mean'), ('gyr', 'median'),\n",
       "       ('gyr', 'min'), ('gyr', 'max'), ('ori', 'var'), ('ori', 'mean'),\n",
       "       ('ori', 'median'), ('ori', 'min'), ('ori', 'max'), ('kmh', 'var'),\n",
       "       ('kmh', 'mean'), ('kmh', 'median'), ('kmh', 'min'), ('kmh', 'max')],\n",
       "      dtype=object)"
      ]
     },
     "execution_count": 30,
     "metadata": {},
     "output_type": "execute_result"
    }
   ],
   "source": [
    "cols_for_kmh = df_clean.columns[3:10]\n",
    "df_clean.drop(columns=[\"lat\", \"long\", \"gps_differs\"], inplace=True)\n",
    "df_agg = df_wind[df_clean.columns[3:8]].agg([\"var\", \"mean\", \"median\", \"min\", \"max\"]).reset_index()\n",
    "np.array(df_agg.columns)"
   ]
  },
  {
   "cell_type": "markdown",
   "metadata": {},
   "source": [
    "Um den Multi-Index-Dataframe in den Modellen zu brauchen glätten wir ihn noch."
   ]
  },
  {
   "cell_type": "code",
   "execution_count": 31,
   "metadata": {},
   "outputs": [
    {
     "data": {
      "text/plain": [
       "Index(['5s_index0_', 'name_', 'activity_', 'acc_var', 'acc_mean', 'acc_median',\n",
       "       'acc_min', 'acc_max', 'mag_var', 'mag_mean', 'mag_median', 'mag_min',\n",
       "       'mag_max', 'gyr_var', 'gyr_mean', 'gyr_median', 'gyr_min', 'gyr_max',\n",
       "       'ori_var', 'ori_mean', 'ori_median', 'ori_min', 'ori_max', 'kmh_var',\n",
       "       'kmh_mean', 'kmh_median', 'kmh_min', 'kmh_max'],\n",
       "      dtype='object')"
      ]
     },
     "execution_count": 31,
     "metadata": {},
     "output_type": "execute_result"
    }
   ],
   "source": [
    "# flatten mutli index columns\n",
    "df_agg.columns = ['_'.join(column) for column in df_agg.columns]\n",
    "df_agg.columns"
   ]
  },
  {
   "cell_type": "markdown",
   "metadata": {},
   "source": [
    "Da wir die Zeit nicht als Input für die Modelle wollen, entfernen wir diese noch."
   ]
  },
  {
   "cell_type": "code",
   "execution_count": 32,
   "metadata": {},
   "outputs": [],
   "source": [
    "df_agg = df_agg.drop(columns=[\"5s_index0_\"])"
   ]
  },
  {
   "cell_type": "markdown",
   "metadata": {},
   "source": [
    "### Erstellen der Train-Test-Splits"
   ]
  },
  {
   "cell_type": "markdown",
   "metadata": {},
   "source": [
    "Nun erstellen wir für die Modelle einen Train-Test-Split mit 80% Trainingsdaten. Wir benutzen ausserdem ein Stratify, damit beim Trainings- und Test-Split die Aktivitäten gleichmässig vorkommen, da es sonst zu einer Verzerrung führen könnte."
   ]
  },
  {
   "cell_type": "code",
   "execution_count": 33,
   "metadata": {},
   "outputs": [],
   "source": [
    "X_train, X_test, y_train, y_test = train_test_split(df_agg.iloc[:, 2:], target[\"activity\"], test_size=0.2, random_state=42, stratify=target[\"activity\"])"
   ]
  },
  {
   "cell_type": "code",
   "execution_count": 34,
   "metadata": {},
   "outputs": [
    {
     "data": {
      "text/plain": [
       "Walking        645\n",
       "Transport      563\n",
       "Sitting        472\n",
       "Bicycling      454\n",
       "Jogging        423\n",
       "Stairway       349\n",
       "Elevatoring    122\n",
       "Name: activity, dtype: int64"
      ]
     },
     "execution_count": 34,
     "metadata": {},
     "output_type": "execute_result"
    }
   ],
   "source": [
    "y_test.value_counts()"
   ]
  },
  {
   "cell_type": "markdown",
   "metadata": {},
   "source": [
    "### Test der Geschwindigkeit auf 5-Sekunden-Abschnitten"
   ]
  },
  {
   "cell_type": "markdown",
   "metadata": {},
   "source": [
    "Da das Berechnen der Geschwindigkeit auf den einzelnen Observationen vielleicht aufgrund der zu kleinen Differenzen, Messfehlern und Delays beim Messen der GPS-Daten nicht funktioniert hat, probieren wir die Geschwindigkeit nochmals anhand der Entfernung der GPS-Daten-Mediane zwische zwei folgenden 5-Sekunden-Abschnitten zu berechnen."
   ]
  },
  {
   "cell_type": "code",
   "execution_count": 35,
   "metadata": {},
   "outputs": [],
   "source": [
    "df_agg_kmh_test = df_wind[cols_for_kmh].agg([\"median\"]).reset_index()\n",
    "df_agg_kmh_test.columns = ['_'.join(column) for column in df_agg_kmh_test.columns]"
   ]
  },
  {
   "cell_type": "code",
   "execution_count": 36,
   "metadata": {},
   "outputs": [
    {
     "data": {
      "text/html": [
       "<div>\n",
       "<style scoped>\n",
       "    .dataframe tbody tr th:only-of-type {\n",
       "        vertical-align: middle;\n",
       "    }\n",
       "\n",
       "    .dataframe tbody tr th {\n",
       "        vertical-align: top;\n",
       "    }\n",
       "\n",
       "    .dataframe thead th {\n",
       "        text-align: right;\n",
       "    }\n",
       "</style>\n",
       "<table border=\"1\" class=\"dataframe\">\n",
       "  <thead>\n",
       "    <tr style=\"text-align: right;\">\n",
       "      <th></th>\n",
       "      <th>5s_index0_</th>\n",
       "      <th>name_</th>\n",
       "      <th>activity_</th>\n",
       "      <th>lat_median</th>\n",
       "      <th>long_median</th>\n",
       "      <th>acc_median</th>\n",
       "      <th>mag_median</th>\n",
       "      <th>gyr_median</th>\n",
       "      <th>ori_median</th>\n",
       "      <th>gps_differs_median</th>\n",
       "    </tr>\n",
       "  </thead>\n",
       "  <tbody>\n",
       "    <tr>\n",
       "      <th>0</th>\n",
       "      <td>1063926.0</td>\n",
       "      <td>pascal</td>\n",
       "      <td>Bicycling</td>\n",
       "      <td>47.447733</td>\n",
       "      <td>8.359915</td>\n",
       "      <td>31.404823</td>\n",
       "      <td>5973.942190</td>\n",
       "      <td>90.004429</td>\n",
       "      <td>5.688713</td>\n",
       "      <td>0.0</td>\n",
       "    </tr>\n",
       "    <tr>\n",
       "      <th>1</th>\n",
       "      <td>1063927.0</td>\n",
       "      <td>pascal</td>\n",
       "      <td>Bicycling</td>\n",
       "      <td>47.447733</td>\n",
       "      <td>8.359915</td>\n",
       "      <td>31.426973</td>\n",
       "      <td>5970.562500</td>\n",
       "      <td>90.022754</td>\n",
       "      <td>5.698995</td>\n",
       "      <td>0.0</td>\n",
       "    </tr>\n",
       "    <tr>\n",
       "      <th>2</th>\n",
       "      <td>1063928.0</td>\n",
       "      <td>pascal</td>\n",
       "      <td>Bicycling</td>\n",
       "      <td>47.447733</td>\n",
       "      <td>8.359915</td>\n",
       "      <td>31.374730</td>\n",
       "      <td>5974.959375</td>\n",
       "      <td>89.996335</td>\n",
       "      <td>5.700869</td>\n",
       "      <td>0.0</td>\n",
       "    </tr>\n",
       "    <tr>\n",
       "      <th>3</th>\n",
       "      <td>1063929.0</td>\n",
       "      <td>pascal</td>\n",
       "      <td>Bicycling</td>\n",
       "      <td>47.447733</td>\n",
       "      <td>8.359915</td>\n",
       "      <td>31.421120</td>\n",
       "      <td>5971.518750</td>\n",
       "      <td>90.026114</td>\n",
       "      <td>5.704866</td>\n",
       "      <td>0.0</td>\n",
       "    </tr>\n",
       "    <tr>\n",
       "      <th>4</th>\n",
       "      <td>1063930.0</td>\n",
       "      <td>pascal</td>\n",
       "      <td>Bicycling</td>\n",
       "      <td>47.447733</td>\n",
       "      <td>8.359915</td>\n",
       "      <td>31.405616</td>\n",
       "      <td>5971.153125</td>\n",
       "      <td>89.966862</td>\n",
       "      <td>5.708430</td>\n",
       "      <td>0.0</td>\n",
       "    </tr>\n",
       "    <tr>\n",
       "      <th>...</th>\n",
       "      <td>...</td>\n",
       "      <td>...</td>\n",
       "      <td>...</td>\n",
       "      <td>...</td>\n",
       "      <td>...</td>\n",
       "      <td>...</td>\n",
       "      <td>...</td>\n",
       "      <td>...</td>\n",
       "      <td>...</td>\n",
       "      <td>...</td>\n",
       "    </tr>\n",
       "    <tr>\n",
       "      <th>15135</th>\n",
       "      <td>5819739.0</td>\n",
       "      <td>Raphi</td>\n",
       "      <td>Transport</td>\n",
       "      <td>47.470400</td>\n",
       "      <td>8.302833</td>\n",
       "      <td>31.411180</td>\n",
       "      <td>5945.676450</td>\n",
       "      <td>90.011912</td>\n",
       "      <td>4.441169</td>\n",
       "      <td>0.0</td>\n",
       "    </tr>\n",
       "    <tr>\n",
       "      <th>15136</th>\n",
       "      <td>5819740.0</td>\n",
       "      <td>Raphi</td>\n",
       "      <td>Transport</td>\n",
       "      <td>47.470400</td>\n",
       "      <td>8.302833</td>\n",
       "      <td>31.410997</td>\n",
       "      <td>5954.768499</td>\n",
       "      <td>90.014355</td>\n",
       "      <td>4.555005</td>\n",
       "      <td>0.0</td>\n",
       "    </tr>\n",
       "    <tr>\n",
       "      <th>15137</th>\n",
       "      <td>5819741.0</td>\n",
       "      <td>Raphi</td>\n",
       "      <td>Transport</td>\n",
       "      <td>47.470400</td>\n",
       "      <td>8.302833</td>\n",
       "      <td>31.405631</td>\n",
       "      <td>5954.628200</td>\n",
       "      <td>90.019853</td>\n",
       "      <td>4.560829</td>\n",
       "      <td>0.0</td>\n",
       "    </tr>\n",
       "    <tr>\n",
       "      <th>15138</th>\n",
       "      <td>5819742.0</td>\n",
       "      <td>Raphi</td>\n",
       "      <td>Transport</td>\n",
       "      <td>47.471447</td>\n",
       "      <td>8.305891</td>\n",
       "      <td>31.408314</td>\n",
       "      <td>5954.274400</td>\n",
       "      <td>90.011912</td>\n",
       "      <td>4.649087</td>\n",
       "      <td>0.0</td>\n",
       "    </tr>\n",
       "    <tr>\n",
       "      <th>15139</th>\n",
       "      <td>5819743.0</td>\n",
       "      <td>Raphi</td>\n",
       "      <td>Transport</td>\n",
       "      <td>47.471447</td>\n",
       "      <td>8.305891</td>\n",
       "      <td>31.399594</td>\n",
       "      <td>5964.754200</td>\n",
       "      <td>90.018631</td>\n",
       "      <td>4.591064</td>\n",
       "      <td>0.0</td>\n",
       "    </tr>\n",
       "  </tbody>\n",
       "</table>\n",
       "<p>15140 rows × 10 columns</p>\n",
       "</div>"
      ],
      "text/plain": [
       "       5s_index0_   name_  activity_  lat_median  long_median  acc_median  \\\n",
       "0       1063926.0  pascal  Bicycling   47.447733     8.359915   31.404823   \n",
       "1       1063927.0  pascal  Bicycling   47.447733     8.359915   31.426973   \n",
       "2       1063928.0  pascal  Bicycling   47.447733     8.359915   31.374730   \n",
       "3       1063929.0  pascal  Bicycling   47.447733     8.359915   31.421120   \n",
       "4       1063930.0  pascal  Bicycling   47.447733     8.359915   31.405616   \n",
       "...           ...     ...        ...         ...          ...         ...   \n",
       "15135   5819739.0   Raphi  Transport   47.470400     8.302833   31.411180   \n",
       "15136   5819740.0   Raphi  Transport   47.470400     8.302833   31.410997   \n",
       "15137   5819741.0   Raphi  Transport   47.470400     8.302833   31.405631   \n",
       "15138   5819742.0   Raphi  Transport   47.471447     8.305891   31.408314   \n",
       "15139   5819743.0   Raphi  Transport   47.471447     8.305891   31.399594   \n",
       "\n",
       "        mag_median  gyr_median  ori_median  gps_differs_median  \n",
       "0      5973.942190   90.004429    5.688713                 0.0  \n",
       "1      5970.562500   90.022754    5.698995                 0.0  \n",
       "2      5974.959375   89.996335    5.700869                 0.0  \n",
       "3      5971.518750   90.026114    5.704866                 0.0  \n",
       "4      5971.153125   89.966862    5.708430                 0.0  \n",
       "...            ...         ...         ...                 ...  \n",
       "15135  5945.676450   90.011912    4.441169                 0.0  \n",
       "15136  5954.768499   90.014355    4.555005                 0.0  \n",
       "15137  5954.628200   90.019853    4.560829                 0.0  \n",
       "15138  5954.274400   90.011912    4.649087                 0.0  \n",
       "15139  5964.754200   90.018631    4.591064                 0.0  \n",
       "\n",
       "[15140 rows x 10 columns]"
      ]
     },
     "execution_count": 36,
     "metadata": {},
     "output_type": "execute_result"
    }
   ],
   "source": [
    "df_agg_kmh_test"
   ]
  },
  {
   "cell_type": "code",
   "execution_count": 37,
   "metadata": {},
   "outputs": [
    {
     "name": "stdout",
     "output_type": "stream",
     "text": [
      " |██████████████████████████████████████████████████| 100.000% \n"
     ]
    }
   ],
   "source": [
    "pb = ProgressBar(total=100, decimals=3, length=50)\n",
    "\n",
    "dists = [0]\n",
    "for i in range(df_agg_kmh_test.shape[0] - 1):\n",
    "    dists.append(get_distance(df_agg_kmh_test.loc[i, [\"lat_median\", \"long_median\"]], df_agg_kmh_test.loc[i+1, [\"lat_median\", \"long_median\"]]))\n",
    "\n",
    "    if(i % 100 == 0):\n",
    "        pb.print_progress_bar(i / df_agg_kmh_test.shape[0] * 100)\n",
    "\n",
    "pb.print_progress_bar(100)\n",
    "dists = pd.Series(dists)\n",
    "\n",
    "\n",
    "time_diff_secs = 5\n",
    "\n",
    "kmh = (dists / time_diff_secs * 3.6)\n",
    "kmh[kmh == np.inf] = np.nan\n",
    "kmh[kmh > 120] = np.nan\n",
    "kmh[kmh < 1] = 0\n",
    "\n",
    "df_agg_kmh_test[\"kmh\"] = kmh"
   ]
  },
  {
   "cell_type": "code",
   "execution_count": 38,
   "metadata": {},
   "outputs": [
    {
     "name": "stdout",
     "output_type": "stream",
     "text": [
      "15140\n",
      "690\n",
      "['pascal' 'Raphi' 'Ronny' 'Simon' 'Flavio']\n",
      "['Bicycling' 'Sitting' 'Transport' 'Jogging' 'Walking' 'Stairway'\n",
      " 'Elevatoring']\n"
     ]
    }
   ],
   "source": [
    "print(len(df_agg_kmh_test))\n",
    "print(len(df_agg_kmh_test[df_agg_kmh_test[\"kmh\"] > 0]))\n",
    "print(df_agg_kmh_test[df_agg_kmh_test[\"kmh\"] > 0]['name_'].unique())\n",
    "print(df_agg_kmh_test[df_agg_kmh_test[\"kmh\"] > 0]['activity_'].unique())"
   ]
  },
  {
   "cell_type": "markdown",
   "metadata": {},
   "source": [
    "Leider ist auch hier wieder bei nur ca. 5% der Abschnitte überhaupt eine Geschwindigkeit vorhanden. Da es aber eigentlich bei 5 von 7 Aktivitäten (Laufen, Treppensteigen, Joggen, Fahrzeugfahren und Fahrradfahren) eine Geschwingikeit vorhanden sein sollte, ist davon auszugehen, dass die GPS-Daten wirklich nicht brauchbar sind. Im Gegensatz zu den Geschwindigkeiten ohne 5-Sekunden Abschnitte konnten aber Verbesserungen festgestellt werden, da jetzt verschiedene Aktivitäten von verschiedenen Personen eine Geschwindigkeit haben."
   ]
  },
  {
   "cell_type": "markdown",
   "metadata": {},
   "source": [
    "## Modelle"
   ]
  },
  {
   "cell_type": "markdown",
   "metadata": {},
   "source": [
    "### Decision Tree"
   ]
  },
  {
   "cell_type": "code",
   "execution_count": 39,
   "metadata": {},
   "outputs": [
    {
     "name": "stdout",
     "output_type": "stream",
     "text": [
      "0.8373471725588362\n"
     ]
    }
   ],
   "source": [
    "from sklearn import tree\n",
    "decision_tree_normal = tree.DecisionTreeClassifier(random_state = 27)\n",
    "decision_tree_normal.fit(X_train, y_train)\n",
    "y_predicted_decision_tree_normal = decision_tree_normal.predict(X_test)\n",
    "f1 = f1_score(y_test, y_predicted_decision_tree_normal, average='macro')\n",
    "print(f1)"
   ]
  },
  {
   "cell_type": "markdown",
   "metadata": {},
   "source": [
    "Der Baseline Decision Tree liefert schon sehr gute Ergebnisse mit einem F1-Score von etwas mehr als 0.83. Als nächstes wollen wir probieren, ob der Random Forest bessere Resultate liefert."
   ]
  },
  {
   "cell_type": "markdown",
   "metadata": {},
   "source": [
    "### Random Forest"
   ]
  },
  {
   "cell_type": "code",
   "execution_count": 40,
   "metadata": {},
   "outputs": [
    {
     "name": "stdout",
     "output_type": "stream",
     "text": [
      "0.9222717950400389\n"
     ]
    }
   ],
   "source": [
    "random_forest_normal = RandomForestClassifier(random_state = 27)\n",
    "random_forest_normal.fit(X_train, y_train)\n",
    "y_predicted_random_forest_normal = random_forest_normal.predict(X_test)\n",
    "f1 = f1_score(y_test, y_predicted_random_forest_normal, average='macro')\n",
    "print(f1)"
   ]
  },
  {
   "cell_type": "markdown",
   "metadata": {},
   "source": [
    "Der Random Forest liefert erheblich bessere Resultate als der Decision Tree. Mit einem F1-Score von mehr als 0.92 ist das Baseline Modell bereits bemerkenswert gut. Wir werden später probieren, diesen Score mit dem Optimieren von Hyperparametern noch zu verbessern."
   ]
  },
  {
   "cell_type": "markdown",
   "metadata": {},
   "source": [
    "### SVC"
   ]
  },
  {
   "cell_type": "markdown",
   "metadata": {},
   "source": [
    "Der Random Forest liefert bereits sehr gute Ergebnisse. Trotzdem wollen wir noch ein weiteres Modell zum Vergleich anschauen, da beim Machine Learning das No-Free-Lunch-Theorem gilt."
   ]
  },
  {
   "cell_type": "code",
   "execution_count": 41,
   "metadata": {},
   "outputs": [
    {
     "name": "stdout",
     "output_type": "stream",
     "text": [
      "0.7266454835606658\n"
     ]
    }
   ],
   "source": [
    "clf = make_pipeline(StandardScaler(), SVC(gamma='auto'))\n",
    "clf.fit(X_train, y_train)\n",
    "y_predicted_svc = clf.predict(X_test)\n",
    "f1 = f1_score(y_test, y_predicted_svc, average='macro')\n",
    "print(f1)"
   ]
  },
  {
   "cell_type": "markdown",
   "metadata": {},
   "source": [
    "SVC liefert leider nicht so gute Ergebnisse wie der Random Forest und Decision Tree. Wir werden also mit dem Random Forest weiterfahren."
   ]
  },
  {
   "cell_type": "markdown",
   "metadata": {},
   "source": [
    "### Random Forest Hyperparamteroptimierung"
   ]
  },
  {
   "cell_type": "code",
   "execution_count": 42,
   "metadata": {},
   "outputs": [
    {
     "name": "stdout",
     "output_type": "stream",
     "text": [
      "Fitting 5 folds for each of 10 candidates, totalling 50 fits\n",
      "\n",
      "Random Forest refit weighted f1:        0.9300235294591512\n",
      "Random Forest best cv mean weighted f1: 0.9168462417118768\n",
      "Random Forest best parameters:          RandomForestClassifier(ccp_alpha=1e-05, max_depth=30, n_estimators=200,\n",
      "                       n_jobs=-1, oob_score=True, warm_start=True)\n"
     ]
    }
   ],
   "source": [
    "if(run_mdls):\n",
    "    log_range = np.logspace(0, 3, 10) / 1e+3 / 1\n",
    "    model = RandomForestClassifier(n_jobs = -1, oob_score=True, warm_start=True)\n",
    "    param_grid = {\n",
    "        'n_estimators': [200, 250, 300],\n",
    "        'max_depth': [30, 35, 40],\n",
    "        'ccp_alpha': list(log_range / 100),\n",
    "    }\n",
    "    # scoring definition from https://scikit-learn.org/stable/modules/model_evaluation.html#scoring-parameter\n",
    "    rs = RandomizedSearchCV(estimator=model, param_distributions=param_grid, cv=5, scoring='f1_weighted', n_iter=10, verbose=1, random_state=42)\n",
    "    # fit on all data\n",
    "    rs.fit(X_train, y_train)\n",
    "\n",
    "else:\n",
    "    rs = pickle.load(open('../models/rf_allprop.pkl', 'rb'))\n",
    "\n",
    "print(\"\")\n",
    "print(f'Random Forest refit weighted f1:        {rs.score(X_test, y_test)}')\n",
    "print(f'Random Forest best cv mean weighted f1: {rs.best_score_}')\n",
    "print(f'Random Forest best parameters:          {rs.best_estimator_}')"
   ]
  },
  {
   "cell_type": "markdown",
   "metadata": {},
   "source": [
    "Mit dem Optimieren der Hyperparameter konnte der Random Forest nur minim verbessert werden. Wir speichern das beste Modell mit einem Pickel-Dump ab, damit wir dieses bei unserem App brauchen können."
   ]
  },
  {
   "cell_type": "code",
   "execution_count": 43,
   "metadata": {},
   "outputs": [],
   "source": [
    "pickle.dump(rs.best_estimator_, open(\"./models/rf_allprop.pkl\", \"wb\"))"
   ]
  },
  {
   "cell_type": "code",
   "execution_count": 44,
   "metadata": {},
   "outputs": [
    {
     "data": {
      "image/png": "[encoded data removed]",
      "text/plain": [
       "<Figure size 720x720 with 2 Axes>"
      ]
     },
     "metadata": {
      "needs_background": "light"
     },
     "output_type": "display_data"
    }
   ],
   "source": [
    "def plot_confusion(y_test, y_pred):\n",
    "    conf_matrix = confusion_matrix(y_test, y_pred)\n",
    "\n",
    "    fig, ax = plt.subplots(figsize=(10, 10))\n",
    "    im = ax.matshow(conf_matrix, cmap=plt.cm.Greens, alpha=0.8)\n",
    "    for row in range(conf_matrix.shape[0]):\n",
    "        for col in range(conf_matrix.shape[1]):\n",
    "            ax.text(x=col, y = row, s = conf_matrix[row, col], va='center', ha='center', size='xx-large')\n",
    "\n",
    "    ax.tick_params(axis=\"x\", rotation=30)\n",
    "    classes = np.unique(y_test.unique())\n",
    "    plt.xticks(np.arange(0,len(classes)), classes)\n",
    "    plt.yticks(np.arange(0,len(classes)), classes)\n",
    "    plt.xlabel('Predictions', fontsize=18)\n",
    "    plt.ylabel('Actuals', fontsize=18)\n",
    "    plt.title('Confusion Matrix', fontsize=18)\n",
    "    plt.colorbar(im, shrink=0.825)\n",
    "    plt.show()\n",
    "\n",
    "plot_confusion(y_test, rs.predict(X_test))"
   ]
  },
  {
   "cell_type": "markdown",
   "metadata": {},
   "source": [
    "Lift fahren scheint am wenigsten gut erkannt bzw. am meisten verwechselt zu werden. Dies war auch zu erwarten, da die Aktivität sehr ähnlich zu Stehen bzw. Sitzen oder Transport ist und bei dieser Aktivität am wenigsten Daten vorhanden sind. Anhand der Confusion-Matrix sieht man, dass sich unsere Annahmen bestätigen: Transport wird oft mit Sitzen/Stehen verwechselt, Laufen oft mit Treppensteigen. Ansonsten sind keine generellen Strukturen erkennbar."
   ]
  },
  {
   "cell_type": "code",
   "execution_count": 45,
   "metadata": {},
   "outputs": [
    {
     "data": {
      "image/png": "[encoded data removed]",
      "text/plain": [
       "<Figure size 1584x360 with 1 Axes>"
      ]
     },
     "metadata": {
      "needs_background": "light"
     },
     "output_type": "display_data"
    }
   ],
   "source": [
    "importances = pd.Series(rs.best_estimator_.feature_importances_, index=X_train.columns)\n",
    "importances.sort_values(ascending=False, inplace=True)\n",
    "importances[0:10].plot(kind='bar', figsize=(22, 5))\n",
    "plt.title(\"Feature importance random forest (top 10)\")\n",
    "plt.xlabel(\"Property\")\n",
    "plt.ylabel(\"importance\")\n",
    "plt.show()"
   ]
  },
  {
   "cell_type": "markdown",
   "metadata": {},
   "source": [
    "Hier wird deutlich, dass Varianzen den grössten Einfluss auf den Activity Typ haben. Der Accelometer und der Gyroskopsensor scheinen die Dominanten Sensoren zu sein und den grössten Einfluss zu haben."
   ]
  },
  {
   "cell_type": "markdown",
   "metadata": {},
   "source": [
    "## RFE"
   ]
  },
  {
   "cell_type": "code",
   "execution_count": 46,
   "metadata": {},
   "outputs": [
    {
     "name": "stdout",
     "output_type": "stream",
     "text": [
      "0.8856567456246608\n"
     ]
    }
   ],
   "source": [
    "from sklearn.feature_selection import RFE\n",
    "\n",
    "y = target[\"activity\"]\n",
    "X = df_agg.iloc[:, 2:]\n",
    "\n",
    "rfe = RFE(estimator=RandomForestClassifier(), n_features_to_select=8)\n",
    "rfe.fit(X, y)\n",
    "X = rfe.transform(X)\n",
    "X_train_rfe, X_test_rfe, y_train_rfe, y_test_rfe = train_test_split(X, y, stratify=y, test_size=0.2, random_state=27)\n",
    "\n",
    "decision_tree_rfe = RandomForestClassifier(random_state = 27)\n",
    "decision_tree_rfe.fit(X_train_rfe, y_train_rfe)\n",
    "y_predicted_decision_tree_rfe = decision_tree_rfe.predict(X_test_rfe)\n",
    "f1 = f1_score(y_test_rfe, y_predicted_decision_tree_rfe, average='macro')\n",
    "print(f1)"
   ]
  },
  {
   "cell_type": "markdown",
   "metadata": {},
   "source": [
    "Da einige Sensoren vielleicht eher falsche Messungen machen oder anders das Modell negativ beeinflussen, haben wir verschiedene Tests mit Recursive Feature Elimination gemacht. Leider konnte auch dies unseren Score nicht verbessern."
   ]
  },
  {
   "cell_type": "markdown",
   "metadata": {},
   "source": [
    "## Random Forest nur mit den vier Hauptaktivitäten"
   ]
  },
  {
   "cell_type": "markdown",
   "metadata": {},
   "source": [
    "Da wir in der Challenge vier Hauptaktiväten definiert haben (Laufen, Joggen, Sitzen, Fahrradfahren) möchten wir auch noch ein Modell nur auf diese trainieren. Dieses wird wahrscheinlich besser abschneiden, da die Ähnlichkeiten Sitzen - Fahrzeug und Laufen - Treppensteigen nicht mehr vorhanden sind."
   ]
  },
  {
   "cell_type": "markdown",
   "metadata": {},
   "source": [
    "Datensatz nach den vier Hauptaktivitäten filtern"
   ]
  },
  {
   "cell_type": "code",
   "execution_count": 47,
   "metadata": {},
   "outputs": [],
   "source": [
    "reduced_activities = [\"Walking\", \"Jogging\", \"Sitting\", \"Bicycling\"]\n",
    "reduced_df_clean = df_clean[df_clean['activity'].isin(reduced_activities)]"
   ]
  },
  {
   "cell_type": "markdown",
   "metadata": {},
   "source": [
    "Gleiches Vorgehen der Datenvorbereitung wie bei dem vorherigen Modell"
   ]
  },
  {
   "cell_type": "code",
   "execution_count": 48,
   "metadata": {},
   "outputs": [
    {
     "data": {
      "text/plain": [
       "array(['Bicycling', 'Walking', 'Sitting', 'Jogging'], dtype=object)"
      ]
     },
     "execution_count": 48,
     "metadata": {},
     "output_type": "execute_result"
    }
   ],
   "source": [
    "df_wind = reduced_df_clean.groupby(groups)\n",
    "df_wind = df_wind.filter(lambda g: g.shape[0] > 50).groupby(groups)\n",
    "target = df_wind[[\"name\", \"activity\", \"5s_index1\"]].first().reset_index(drop=True)\n",
    "df_agg = df_wind[df_clean.columns[3:8]].agg([\"var\", \"mean\", \"median\", \"min\", \"max\"]).reset_index()\n",
    "np.array(df_agg.columns)\n",
    "df_agg.columns = ['_'.join(column) for column in df_agg.columns]\n",
    "df_agg = df_agg.drop(columns=[\"5s_index0_\"])\n",
    "X_train, X_test, y_train, y_test = train_test_split(df_agg.iloc[:, 2:], target[\"activity\"], test_size=0.2, random_state=42)\n",
    "target.activity.unique()"
   ]
  },
  {
   "cell_type": "code",
   "execution_count": 49,
   "metadata": {},
   "outputs": [
    {
     "name": "stdout",
     "output_type": "stream",
     "text": [
      "Fitting 5 folds for each of 90 candidates, totalling 450 fits\n",
      "\n",
      "Random Forest refit weighted f1:        0.954139411618941\n",
      "Random Forest best cv mean weighted f1: 0.9506859755169362\n",
      "Random Forest best parameters:          RandomForestClassifier(ccp_alpha=2.1544346900318837e-05, max_depth=35,\n",
      "                       n_estimators=200, n_jobs=-1, oob_score=True,\n",
      "                       warm_start=True)\n"
     ]
    }
   ],
   "source": [
    "if(run_mdls):\n",
    "    log_range = np.logspace(0, 3, 10) / 1e+3 / 1\n",
    "    model = RandomForestClassifier(n_jobs = -1, oob_score=True, warm_start=True)\n",
    "    param_grid = {\n",
    "        'n_estimators': [200, 250, 300],\n",
    "        'max_depth': [30, 35, 40],\n",
    "        'ccp_alpha': list(log_range / 100),\n",
    "    }\n",
    "    # scoring definition from https://scikit-learn.org/stable/modules/model_evaluation.html#scoring-parameter\n",
    "    rs = RandomizedSearchCV(estimator=model, param_distributions=param_grid, cv=5, scoring='f1_weighted', n_iter=90, verbose=1, random_state=42)\n",
    "    # fit on all data\n",
    "    rs.fit(X_train, y_train)\n",
    "\n",
    "else:\n",
    "    rs = pickle.load(open('../models/rf_allprop.pkl', 'rb'))\n",
    "\n",
    "print(\"\")\n",
    "print(f'Random Forest refit weighted f1:        {rs.score(X_test, y_test)}')\n",
    "print(f'Random Forest best cv mean weighted f1: {rs.best_score_}')\n",
    "print(f'Random Forest best parameters:          {rs.best_estimator_}')"
   ]
  },
  {
   "cell_type": "markdown",
   "metadata": {},
   "source": [
    "Wie erwartet ist der F1-Score hier nochmals höher als mit allen Aktivitäten."
   ]
  },
  {
   "cell_type": "code",
   "execution_count": 50,
   "metadata": {},
   "outputs": [
    {
     "data": {
      "image/png": "[encoded data removed]",
      "text/plain": [
       "<Figure size 720x720 with 2 Axes>"
      ]
     },
     "metadata": {
      "needs_background": "light"
     },
     "output_type": "display_data"
    }
   ],
   "source": [
    "plot_confusion(y_test, rs.predict(X_test))"
   ]
  },
  {
   "cell_type": "markdown",
   "metadata": {},
   "source": [
    "Es sind auch keine Strukturen in der Confusion-Matrix mehr zu sehen."
   ]
  },
  {
   "cell_type": "markdown",
   "metadata": {},
   "source": [
    "## Fazit"
   ]
  },
  {
   "cell_type": "markdown",
   "metadata": {},
   "source": [
    "Die Modelle erreichen mit einem F1-Score von ca. 0.92 bei allen und ca. 0.95 bei den vier Hauptaktivtäten sehr hohe Werte. Noch höhere würden einen Overfit auf den Daten bedeuten, da einige Aktivitäten sehr ähnlich sind (wie zum Beispiel Zugfahren wenn der Zug steht und Sitzen oder Plateaus beim Treppensteigen) und wir während dem Erfassen der Daten wahrscheinlich auch ab und zu Fehler gemacht haben. So bleibt unser Modell noch gut anwendbar in der Praxis."
   ]
  }
 ],
 "metadata": {
  "interpreter": {
   "hash": "ff585b9615a7bbd98876819b01644a7bfaeb98b600a7d48a90f8382cb631c688"
  },
  "kernelspec": {
   "display_name": "Python 3 (ipykernel)",
   "language": "python",
   "name": "python3"
  },
  "language_info": {
   "codemirror_mode": {
    "name": "ipython",
    "version": 3
   },
   "file_extension": ".py",
   "mimetype": "text/x-python",
   "name": "python",
   "nbconvert_exporter": "python",
   "pygments_lexer": "ipython3",
   "version": "3.9.7"
  }
 },
 "nbformat": 4,
 "nbformat_minor": 2
}
