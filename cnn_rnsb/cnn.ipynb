{
 "cells": [
  {
   "cell_type": "markdown",
   "metadata": {},
   "source": [
    "# Imports"
   ]
  },
  {
   "cell_type": "code",
   "execution_count": 382,
   "metadata": {},
   "outputs": [],
   "source": [
    "import torch\n",
    "import torchvision\n",
    "import torch.nn as nn\n",
    "import pandas as pd\n",
    "import numpy as np\n",
    "import matplotlib.pyplot as plt\n",
    "import seaborn as sns\n",
    "from sklearn.model_selection import StratifiedShuffleSplit"
   ]
  },
  {
   "cell_type": "markdown",
   "metadata": {},
   "source": [
    "# Importing data"
   ]
  },
  {
   "cell_type": "code",
   "execution_count": 383,
   "metadata": {},
   "outputs": [
    {
     "data": {
      "text/html": [
       "<div>\n",
       "<style scoped>\n",
       "    .dataframe tbody tr th:only-of-type {\n",
       "        vertical-align: middle;\n",
       "    }\n",
       "\n",
       "    .dataframe tbody tr th {\n",
       "        vertical-align: top;\n",
       "    }\n",
       "\n",
       "    .dataframe thead th {\n",
       "        text-align: right;\n",
       "    }\n",
       "</style>\n",
       "<table border=\"1\" class=\"dataframe\">\n",
       "  <thead>\n",
       "    <tr style=\"text-align: right;\">\n",
       "      <th></th>\n",
       "      <th>time</th>\n",
       "      <th>name</th>\n",
       "      <th>activity</th>\n",
       "      <th>acc_x</th>\n",
       "      <th>acc_y</th>\n",
       "      <th>acc_z</th>\n",
       "      <th>mag_x</th>\n",
       "      <th>mag_y</th>\n",
       "      <th>mag_z</th>\n",
       "      <th>gyr_x</th>\n",
       "      <th>gyr_y</th>\n",
       "      <th>gyr_z</th>\n",
       "      <th>ori_x</th>\n",
       "      <th>ori_y</th>\n",
       "      <th>ori_z</th>\n",
       "      <th>ori_w</th>\n",
       "      <th>lat</th>\n",
       "      <th>long</th>\n",
       "    </tr>\n",
       "  </thead>\n",
       "  <tbody>\n",
       "    <tr>\n",
       "      <th>0</th>\n",
       "      <td>2022-04-03 11:47:11.212</td>\n",
       "      <td>Raphi</td>\n",
       "      <td>Sitting</td>\n",
       "      <td>-0.091133</td>\n",
       "      <td>0.351148</td>\n",
       "      <td>0.945756</td>\n",
       "      <td>-23.0153</td>\n",
       "      <td>-26.7241</td>\n",
       "      <td>-33.4097</td>\n",
       "      <td>0.047035</td>\n",
       "      <td>-0.022907</td>\n",
       "      <td>0.008399</td>\n",
       "      <td>0.136017</td>\n",
       "      <td>-0.125171</td>\n",
       "      <td>-0.839552</td>\n",
       "      <td>0.510817</td>\n",
       "      <td>47.500155</td>\n",
       "      <td>8.324881</td>\n",
       "    </tr>\n",
       "    <tr>\n",
       "      <th>1</th>\n",
       "      <td>2022-04-03 11:47:11.268</td>\n",
       "      <td>Raphi</td>\n",
       "      <td>Sitting</td>\n",
       "      <td>-0.097963</td>\n",
       "      <td>0.366881</td>\n",
       "      <td>0.898528</td>\n",
       "      <td>-22.9726</td>\n",
       "      <td>-26.5960</td>\n",
       "      <td>-33.2694</td>\n",
       "      <td>-0.050089</td>\n",
       "      <td>-0.041232</td>\n",
       "      <td>-0.025808</td>\n",
       "      <td>0.135422</td>\n",
       "      <td>-0.126965</td>\n",
       "      <td>-0.839437</td>\n",
       "      <td>0.510728</td>\n",
       "      <td>47.500155</td>\n",
       "      <td>8.324881</td>\n",
       "    </tr>\n",
       "    <tr>\n",
       "      <th>2</th>\n",
       "      <td>2022-04-03 11:47:11.326</td>\n",
       "      <td>Raphi</td>\n",
       "      <td>Sitting</td>\n",
       "      <td>-0.114793</td>\n",
       "      <td>0.334654</td>\n",
       "      <td>0.998473</td>\n",
       "      <td>-22.7774</td>\n",
       "      <td>-26.5106</td>\n",
       "      <td>-33.0925</td>\n",
       "      <td>0.150879</td>\n",
       "      <td>-0.098041</td>\n",
       "      <td>0.096972</td>\n",
       "      <td>0.134209</td>\n",
       "      <td>-0.126197</td>\n",
       "      <td>-0.839677</td>\n",
       "      <td>0.510821</td>\n",
       "      <td>47.500155</td>\n",
       "      <td>8.324881</td>\n",
       "    </tr>\n",
       "    <tr>\n",
       "      <th>3</th>\n",
       "      <td>2022-04-03 11:47:11.388</td>\n",
       "      <td>Raphi</td>\n",
       "      <td>Sitting</td>\n",
       "      <td>-0.075767</td>\n",
       "      <td>0.364564</td>\n",
       "      <td>0.886332</td>\n",
       "      <td>-22.9421</td>\n",
       "      <td>-26.7790</td>\n",
       "      <td>-32.9461</td>\n",
       "      <td>0.196082</td>\n",
       "      <td>0.096208</td>\n",
       "      <td>-0.009926</td>\n",
       "      <td>0.134518</td>\n",
       "      <td>-0.133009</td>\n",
       "      <td>-0.839076</td>\n",
       "      <td>0.510125</td>\n",
       "      <td>47.500155</td>\n",
       "      <td>8.324881</td>\n",
       "    </tr>\n",
       "    <tr>\n",
       "      <th>4</th>\n",
       "      <td>2022-04-03 11:47:11.445</td>\n",
       "      <td>Raphi</td>\n",
       "      <td>Sitting</td>\n",
       "      <td>-0.125556</td>\n",
       "      <td>0.378345</td>\n",
       "      <td>0.905358</td>\n",
       "      <td>-23.3264</td>\n",
       "      <td>-27.3524</td>\n",
       "      <td>-32.9705</td>\n",
       "      <td>0.027488</td>\n",
       "      <td>0.019242</td>\n",
       "      <td>0.138510</td>\n",
       "      <td>0.139961</td>\n",
       "      <td>-0.133803</td>\n",
       "      <td>-0.836808</td>\n",
       "      <td>0.512193</td>\n",
       "      <td>47.500155</td>\n",
       "      <td>8.324881</td>\n",
       "    </tr>\n",
       "  </tbody>\n",
       "</table>\n",
       "</div>"
      ],
      "text/plain": [
       "                      time   name activity     acc_x     acc_y     acc_z  \\\n",
       "0  2022-04-03 11:47:11.212  Raphi  Sitting -0.091133  0.351148  0.945756   \n",
       "1  2022-04-03 11:47:11.268  Raphi  Sitting -0.097963  0.366881  0.898528   \n",
       "2  2022-04-03 11:47:11.326  Raphi  Sitting -0.114793  0.334654  0.998473   \n",
       "3  2022-04-03 11:47:11.388  Raphi  Sitting -0.075767  0.364564  0.886332   \n",
       "4  2022-04-03 11:47:11.445  Raphi  Sitting -0.125556  0.378345  0.905358   \n",
       "\n",
       "     mag_x    mag_y    mag_z     gyr_x     gyr_y     gyr_z     ori_x  \\\n",
       "0 -23.0153 -26.7241 -33.4097  0.047035 -0.022907  0.008399  0.136017   \n",
       "1 -22.9726 -26.5960 -33.2694 -0.050089 -0.041232 -0.025808  0.135422   \n",
       "2 -22.7774 -26.5106 -33.0925  0.150879 -0.098041  0.096972  0.134209   \n",
       "3 -22.9421 -26.7790 -32.9461  0.196082  0.096208 -0.009926  0.134518   \n",
       "4 -23.3264 -27.3524 -32.9705  0.027488  0.019242  0.138510  0.139961   \n",
       "\n",
       "      ori_y     ori_z     ori_w        lat      long  \n",
       "0 -0.125171 -0.839552  0.510817  47.500155  8.324881  \n",
       "1 -0.126965 -0.839437  0.510728  47.500155  8.324881  \n",
       "2 -0.126197 -0.839677  0.510821  47.500155  8.324881  \n",
       "3 -0.133009 -0.839076  0.510125  47.500155  8.324881  \n",
       "4 -0.133803 -0.836808  0.512193  47.500155  8.324881  "
      ]
     },
     "execution_count": 383,
     "metadata": {},
     "output_type": "execute_result"
    }
   ],
   "source": [
    "df = pd.read_csv(\"../Analyse/df_clean.csv\", index_col=0)\n",
    "df.head()"
   ]
  },
  {
   "cell_type": "code",
   "execution_count": 384,
   "metadata": {},
   "outputs": [
    {
     "name": "stderr",
     "output_type": "stream",
     "text": [
      "/Users/ronnyschneeberger/Documents/FHNW/FS22/cdl1/activity_tracker/venv/lib/python3.8/site-packages/seaborn/_decorators.py:36: FutureWarning: Pass the following variable as a keyword arg: x. From version 0.12, the only valid positional argument will be `data`, and passing other arguments without an explicit keyword will result in an error or misinterpretation.\n",
      "  warnings.warn(\n"
     ]
    },
    {
     "data": {
      "image/png": "[encoded data removed]",
      "text/plain": [
       "<Figure size 1512x720 with 1 Axes>"
      ]
     },
     "metadata": {},
     "output_type": "display_data"
    }
   ],
   "source": [
    "# set sns plot size to (21, 10)\n",
    "sns.set(rc={'figure.figsize': (21, 10)})\n",
    "# plot amount of samples in df.activity\n",
    "sns.countplot(df.activity)\n",
    "plt.xlabel(\"Activity\")\n",
    "plt.ylabel(\"n samples\")\n",
    "plt.title(\"Amount of samples in each activity\")\n",
    "plt.show()"
   ]
  },
  {
   "cell_type": "markdown",
   "metadata": {},
   "source": [
    "Elevatoring is undersampled. The recognition of elevatoring is not mandatory in the challenge. Therefore not many samples were collected. "
   ]
  },
  {
   "cell_type": "markdown",
   "metadata": {},
   "source": [
    "## Encoding activity"
   ]
  },
  {
   "cell_type": "code",
   "execution_count": 385,
   "metadata": {},
   "outputs": [
    {
     "data": {
      "text/plain": [
       "array(['Sitting', 'Transport', 'Bicycling', 'Walking', 'Elevatoring',\n",
       "       'Jogging', 'Stairway'], dtype=object)"
      ]
     },
     "execution_count": 385,
     "metadata": {},
     "output_type": "execute_result"
    }
   ],
   "source": [
    "df.activity.unique()"
   ]
  },
  {
   "cell_type": "code",
   "execution_count": 386,
   "metadata": {},
   "outputs": [],
   "source": [
    "# encode activities to numbers\n",
    "df.activity = df.activity.map({'Sitting': 0, 'Transport': 1, 'Bicycling':2, 'Walking':3, 'Elevatoring':4, 'Jogging':5, 'Stairway':6})"
   ]
  },
  {
   "cell_type": "code",
   "execution_count": 387,
   "metadata": {},
   "outputs": [
    {
     "data": {
      "text/plain": [
       "array([0, 1, 2, 3, 4, 5, 6])"
      ]
     },
     "execution_count": 387,
     "metadata": {},
     "output_type": "execute_result"
    }
   ],
   "source": [
    "df.activity.unique()"
   ]
  },
  {
   "cell_type": "markdown",
   "metadata": {},
   "source": [
    "# Turning raw data into samples\n",
    "\n",
    "To train a model that recognizes activity, the input data is a timeseries which contains datapoints over a period of time. With a single recorded datapoint the model won't be able to recognize the activity. \n",
    "\n",
    "Therefore the data was split into recording samples. With recording samples are all the datapoints meant which were created during a recording session. \n",
    "\n",
    "The recording are further split into model samples which can be served to a model. The model samples are smaples over a timespan of 2.56 seconds and can have around 50% overlap. This seems to be a standart procedure in activity recognition. (https://machinelearningmastery.com/cnn-models-for-human-activity-recognition-time-series-classification/) (https://github.com/guillaume-chevalier/LSTM-Human-Activity-Recognition)"
   ]
  },
  {
   "cell_type": "markdown",
   "metadata": {},
   "source": [
    "## Creating test dataset for testing splitting"
   ]
  },
  {
   "cell_type": "code",
   "execution_count": 388,
   "metadata": {},
   "outputs": [],
   "source": [
    "test = df.iloc[:1000,:]"
   ]
  },
  {
   "cell_type": "markdown",
   "metadata": {},
   "source": [
    "## Check for amount of different activities"
   ]
  },
  {
   "cell_type": "code",
   "execution_count": 389,
   "metadata": {},
   "outputs": [
    {
     "name": "stdout",
     "output_type": "stream",
     "text": [
      "[0 1 2]\n",
      "['Raphi' 'pascal']\n"
     ]
    }
   ],
   "source": [
    "# check how many recording samples are in test\n",
    "print(test.activity.unique())\n",
    "print(test.name.unique())"
   ]
  },
  {
   "cell_type": "markdown",
   "metadata": {},
   "source": [
    "## Create columns for distinguishing samples"
   ]
  },
  {
   "cell_type": "code",
   "execution_count": 390,
   "metadata": {},
   "outputs": [
    {
     "name": "stderr",
     "output_type": "stream",
     "text": [
      "/var/folders/w3/qczdk1p16437g5rs9gnqc6_c0000gn/T/ipykernel_56694/1611528737.py:2: SettingWithCopyWarning: \n",
      "A value is trying to be set on a copy of a slice from a DataFrame.\n",
      "Try using .loc[row_indexer,col_indexer] = value instead\n",
      "\n",
      "See the caveats in the documentation: https://pandas.pydata.org/pandas-docs/stable/user_guide/indexing.html#returning-a-view-versus-a-copy\n",
      "  test['time_copy'] = test.time\n"
     ]
    }
   ],
   "source": [
    "# copy time to new column and move it one row down\n",
    "test['time_copy'] = test.time\n",
    "\n",
    "# move time_copy next to the front\n",
    "columns = list(test.columns)\n",
    "columns = columns[-1:] + columns[:-1]\n",
    "test = test[columns]\n",
    "\n",
    "# shift time copy\n",
    "test.time_copy = test.time_copy.shift(-1)\n",
    "\n",
    "# calc diff\n",
    "test['time_diff'] = (pd.to_datetime(test.time_copy) - pd.to_datetime(test.time))\n",
    "test['time_diff'] = test['time_diff'].abs()\n",
    "\n",
    "# apply total seconds\n",
    "test.time_diff = test.time_diff.apply(lambda x: x.total_seconds())\n",
    "\n",
    "# set sampleid to 0\n",
    "test['sampleid'] = 0\n",
    "\n",
    "# copy activity to new column and move it one row down\n",
    "test['activity_copy'] = test.activity\n",
    "test.activity_copy = test.activity_copy.shift(-1)\n",
    "\n",
    "# check if activity is the same\n",
    "test['activity_diff'] = test.activity == test.activity_copy\n",
    "\n",
    "sampleid = 0"
   ]
  },
  {
   "cell_type": "markdown",
   "metadata": {},
   "source": [
    "## Check where splitting should occur"
   ]
  },
  {
   "cell_type": "code",
   "execution_count": 368,
   "metadata": {},
   "outputs": [
    {
     "data": {
      "text/html": [
       "<div>\n",
       "<style scoped>\n",
       "    .dataframe tbody tr th:only-of-type {\n",
       "        vertical-align: middle;\n",
       "    }\n",
       "\n",
       "    .dataframe tbody tr th {\n",
       "        vertical-align: top;\n",
       "    }\n",
       "\n",
       "    .dataframe thead th {\n",
       "        text-align: right;\n",
       "    }\n",
       "</style>\n",
       "<table border=\"1\" class=\"dataframe\">\n",
       "  <thead>\n",
       "    <tr style=\"text-align: right;\">\n",
       "      <th></th>\n",
       "      <th>time_copy</th>\n",
       "      <th>time</th>\n",
       "      <th>name</th>\n",
       "      <th>activity</th>\n",
       "      <th>acc_x</th>\n",
       "      <th>acc_y</th>\n",
       "      <th>acc_z</th>\n",
       "      <th>mag_x</th>\n",
       "      <th>mag_y</th>\n",
       "      <th>mag_z</th>\n",
       "      <th>...</th>\n",
       "      <th>ori_x</th>\n",
       "      <th>ori_y</th>\n",
       "      <th>ori_z</th>\n",
       "      <th>ori_w</th>\n",
       "      <th>lat</th>\n",
       "      <th>long</th>\n",
       "      <th>time_diff</th>\n",
       "      <th>sampleid</th>\n",
       "      <th>activity_copy</th>\n",
       "      <th>activity_diff</th>\n",
       "    </tr>\n",
       "  </thead>\n",
       "  <tbody>\n",
       "    <tr>\n",
       "      <th>200</th>\n",
       "      <td>2022-04-03 07:45:01.017</td>\n",
       "      <td>2022-04-03 11:47:22.835</td>\n",
       "      <td>Raphi</td>\n",
       "      <td>0</td>\n",
       "      <td>-0.121379</td>\n",
       "      <td>0.333922</td>\n",
       "      <td>0.940268</td>\n",
       "      <td>-21.4354</td>\n",
       "      <td>-26.75460</td>\n",
       "      <td>-32.07380</td>\n",
       "      <td>...</td>\n",
       "      <td>0.141825</td>\n",
       "      <td>-0.114015</td>\n",
       "      <td>-0.850270</td>\n",
       "      <td>0.493864</td>\n",
       "      <td>47.500155</td>\n",
       "      <td>8.324881</td>\n",
       "      <td>14541.818</td>\n",
       "      <td>0</td>\n",
       "      <td>1.0</td>\n",
       "      <td>False</td>\n",
       "    </tr>\n",
       "    <tr>\n",
       "      <th>803</th>\n",
       "      <td>2022-03-03 17:15:40.471</td>\n",
       "      <td>2022-04-03 07:49:28.105</td>\n",
       "      <td>pascal</td>\n",
       "      <td>1</td>\n",
       "      <td>-0.089975</td>\n",
       "      <td>0.397401</td>\n",
       "      <td>0.926030</td>\n",
       "      <td>-1.5375</td>\n",
       "      <td>-16.53750</td>\n",
       "      <td>6.43125</td>\n",
       "      <td>...</td>\n",
       "      <td>0.184056</td>\n",
       "      <td>0.099057</td>\n",
       "      <td>0.249243</td>\n",
       "      <td>0.945597</td>\n",
       "      <td>47.469938</td>\n",
       "      <td>8.317365</td>\n",
       "      <td>2644427.634</td>\n",
       "      <td>0</td>\n",
       "      <td>2.0</td>\n",
       "      <td>False</td>\n",
       "    </tr>\n",
       "    <tr>\n",
       "      <th>999</th>\n",
       "      <td>NaN</td>\n",
       "      <td>2022-03-03 17:15:51.148</td>\n",
       "      <td>pascal</td>\n",
       "      <td>2</td>\n",
       "      <td>0.670832</td>\n",
       "      <td>-0.326787</td>\n",
       "      <td>-0.508627</td>\n",
       "      <td>-23.9250</td>\n",
       "      <td>29.76563</td>\n",
       "      <td>40.23750</td>\n",
       "      <td>...</td>\n",
       "      <td>-0.081741</td>\n",
       "      <td>-0.893293</td>\n",
       "      <td>-0.197210</td>\n",
       "      <td>0.395543</td>\n",
       "      <td>47.455777</td>\n",
       "      <td>8.324452</td>\n",
       "      <td>NaN</td>\n",
       "      <td>0</td>\n",
       "      <td>NaN</td>\n",
       "      <td>False</td>\n",
       "    </tr>\n",
       "  </tbody>\n",
       "</table>\n",
       "<p>3 rows × 23 columns</p>\n",
       "</div>"
      ],
      "text/plain": [
       "                   time_copy                     time    name  activity  \\\n",
       "200  2022-04-03 07:45:01.017  2022-04-03 11:47:22.835   Raphi         0   \n",
       "803  2022-03-03 17:15:40.471  2022-04-03 07:49:28.105  pascal         1   \n",
       "999                      NaN  2022-03-03 17:15:51.148  pascal         2   \n",
       "\n",
       "        acc_x     acc_y     acc_z    mag_x     mag_y     mag_z  ...     ori_x  \\\n",
       "200 -0.121379  0.333922  0.940268 -21.4354 -26.75460 -32.07380  ...  0.141825   \n",
       "803 -0.089975  0.397401  0.926030  -1.5375 -16.53750   6.43125  ...  0.184056   \n",
       "999  0.670832 -0.326787 -0.508627 -23.9250  29.76563  40.23750  ... -0.081741   \n",
       "\n",
       "        ori_y     ori_z     ori_w        lat      long    time_diff  sampleid  \\\n",
       "200 -0.114015 -0.850270  0.493864  47.500155  8.324881    14541.818         0   \n",
       "803  0.099057  0.249243  0.945597  47.469938  8.317365  2644427.634         0   \n",
       "999 -0.893293 -0.197210  0.395543  47.455777  8.324452          NaN         0   \n",
       "\n",
       "     activity_copy  activity_diff  \n",
       "200            1.0          False  \n",
       "803            2.0          False  \n",
       "999            NaN          False  \n",
       "\n",
       "[3 rows x 23 columns]"
      ]
     },
     "execution_count": 368,
     "metadata": {},
     "output_type": "execute_result"
    }
   ],
   "source": [
    "test[test.activity_diff != True]"
   ]
  },
  {
   "cell_type": "markdown",
   "metadata": {},
   "source": [
    "## set sampleid"
   ]
  },
  {
   "cell_type": "code",
   "execution_count": 391,
   "metadata": {},
   "outputs": [
    {
     "name": "stdout",
     "output_type": "stream",
     "text": [
      "-1 200\n",
      "200 803\n"
     ]
    }
   ],
   "source": [
    "# create sampleids\n",
    "prev_index = -1\n",
    "id = 0\n",
    "\n",
    "# create indexes where activity is not the same and time diff is greater than 1\n",
    "indexes = test[(test.activity_diff == False) & (test.time_diff > 1)].index.tolist()\n",
    "\n",
    "for index in indexes:\n",
    "    print(prev_index, index)\n",
    "    test.loc[prev_index+1:index, 'sampleid'] = id\n",
    "    prev_index = index\n",
    "    id += 1\n",
    "test.loc[prev_index:, 'sampleid'] = id"
   ]
  },
  {
   "cell_type": "markdown",
   "metadata": {},
   "source": [
    "## Split a single sample into model samples"
   ]
  },
  {
   "cell_type": "code",
   "execution_count": 392,
   "metadata": {},
   "outputs": [
    {
     "name": "stdout",
     "output_type": "stream",
     "text": [
      "2.502 43\n",
      "2.538 43\n"
     ]
    }
   ],
   "source": [
    "test_model = test[test.sampleid == 0].drop(columns=['time_copy', 'activity_copy', 'activity_diff'])\n",
    "print(test_model.iloc[:43,:].sum().time_diff, test_model.iloc[:43,:].count().activity)\n",
    "print(test_model.iloc[44:44+43,:].sum().time_diff, test_model.iloc[43:44+42,:].count().activity)"
   ]
  },
  {
   "cell_type": "code",
   "execution_count": 393,
   "metadata": {},
   "outputs": [
    {
     "data": {
      "text/plain": [
       "[2.502, 2.5360000000000005, 2.4650000000000003, 2.4489999999999994]"
      ]
     },
     "execution_count": 393,
     "metadata": {},
     "output_type": "execute_result"
    }
   ],
   "source": [
    "splits = np.array_split(test_model.iloc[:int(np.floor(test_model.shape[0] / 43)) * 43, :], 4)\n",
    "[split.time_diff.sum() for split in splits]"
   ]
  },
  {
   "cell_type": "markdown",
   "metadata": {},
   "source": [
    "43 samples seem to amount to a timerange around 2.56 seconds. "
   ]
  },
  {
   "cell_type": "code",
   "execution_count": 394,
   "metadata": {},
   "outputs": [],
   "source": [
    "def create_modelsampleids(df:pd.DataFrame, samplesize:int) -> (pd.DataFrame, np.array):\n",
    "    X = np.array([])\n",
    "    y = np.array([])\n",
    "    df['modelsampleid'] = 0\n",
    "    columns = list(df.columns)\n",
    "    columns.remove('activity')\n",
    "    count = 0\n",
    "    df_ids = pd.DataFrame(columns=columns)\n",
    "\n",
    "    for id in list(df.sampleid.unique()):\n",
    "        # filter by id\n",
    "        temp = df[df.sampleid == id]\n",
    "        # drop activity\n",
    "        temp_y = temp.activity.iloc[0]\n",
    "        print(temp_y)\n",
    "        temp = temp.drop(columns=['activity'])\n",
    "        n = int(np.floor(temp.shape[0] / samplesize))\n",
    "        temp = temp.iloc[:n*samplesize,:]\n",
    "        splits = np.array_split(temp, n)\n",
    "\n",
    "        for split in splits:\n",
    "            split['modelsampleid'] = count\n",
    "            count += 1\n",
    "\n",
    "        temp = np.vstack(splits)\n",
    "        # np array to df_ids\n",
    "        temp = pd.DataFrame(temp, columns=columns)\n",
    "\n",
    "        df_ids = pd.concat([df_ids, temp])\n",
    "\n",
    "    df_ids = df_ids.reset_index()\n",
    "    df_ids = df_ids.drop(columns=['index', 'time_copy', 'time_diff', 'activity_copy', 'activity_diff', 'sampleid'])\n",
    "    assert df_ids.shape[0] / samplesize == df_ids['modelsampleid'].nunique()\n",
    "\n",
    "    data = np.array([X, y])\n",
    "\n",
    "    return df_ids, data"
   ]
  },
  {
   "cell_type": "code",
   "execution_count": 395,
   "metadata": {},
   "outputs": [
    {
     "name": "stdout",
     "output_type": "stream",
     "text": [
      "0\n",
      "1\n",
      "1\n"
     ]
    }
   ],
   "source": [
    "df, data = create_modelsampleids(test, 43)"
   ]
  },
  {
   "cell_type": "code",
   "execution_count": 396,
   "metadata": {},
   "outputs": [
    {
     "data": {
      "text/plain": [
       "Index(['time', 'name', 'acc_x', 'acc_y', 'acc_z', 'mag_x', 'mag_y', 'mag_z',\n",
       "       'gyr_x', 'gyr_y', 'gyr_z', 'ori_x', 'ori_y', 'ori_z', 'ori_w', 'lat',\n",
       "       'long', 'modelsampleid'],\n",
       "      dtype='object')"
      ]
     },
     "execution_count": 396,
     "metadata": {},
     "output_type": "execute_result"
    }
   ],
   "source": [
    "df.columns"
   ]
  },
  {
   "cell_type": "markdown",
   "metadata": {},
   "source": [
    "## Splitting data\n",
    "The data is split with StratifiedShuffleSplit to keep the proportions of the different classes intact."
   ]
  },
  {
   "cell_type": "code",
   "execution_count": 21,
   "metadata": {},
   "outputs": [
    {
     "data": {
      "image/png": "[encoded data removed]",
      "text/plain": [
       "<Figure size 1512x720 with 1 Axes>"
      ]
     },
     "metadata": {},
     "output_type": "display_data"
    },
    {
     "data": {
      "image/png": "[encoded data removed]",
      "text/plain": [
       "<Figure size 1512x720 with 1 Axes>"
      ]
     },
     "metadata": {},
     "output_type": "display_data"
    }
   ],
   "source": [
    "# split df into train and test StratifiedShuffleSplit by activity\n",
    "split = StratifiedShuffleSplit(n_splits=1, test_size=0.2, random_state=42)\n",
    "\n",
    "train_index, test_index = next(split.split(df, df.activity))\n",
    "train_df = df.iloc[train_index]\n",
    "test_df = df.iloc[test_index]\n",
    "\n",
    "# show amount of samples in train and test in two plots matplotlib\n",
    "train_df.activity.value_counts().plot.bar()\n",
    "plt.xlabel(\"Activity\")\n",
    "plt.ylabel(\"n samples\")\n",
    "plt.title(\"Training dataset\")\n",
    "plt.show()\n",
    "test_df.activity.value_counts().plot.bar()\n",
    "plt.title(\"Test dataset\")\n",
    "plt.xlabel(\"Activity\")\n",
    "plt.ylabel(\"n samples\")\n",
    "plt.show()"
   ]
  },
  {
   "cell_type": "code",
   "execution_count": null,
   "metadata": {},
   "outputs": [],
   "source": []
  }
 ],
 "metadata": {
  "interpreter": {
   "hash": "0c9bc48c21beab2b0f32e8d101c9520d36e79f2e4cdd41fe4d46a0083fb82e6b"
  },
  "kernelspec": {
   "display_name": "Python 3.8.5 ('venv': venv)",
   "language": "python",
   "name": "python3"
  },
  "language_info": {
   "codemirror_mode": {
    "name": "ipython",
    "version": 3
   },
   "file_extension": ".py",
   "mimetype": "text/x-python",
   "name": "python",
   "nbconvert_exporter": "python",
   "pygments_lexer": "ipython3",
   "version": "3.8.5"
  },
  "orig_nbformat": 4
 },
 "nbformat": 4,
 "nbformat_minor": 2
}
