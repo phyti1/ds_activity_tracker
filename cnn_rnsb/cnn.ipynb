{
 "cells": [
  {
   "cell_type": "code",
   "execution_count": 162,
   "metadata": {},
   "outputs": [],
   "source": [
    "import pandas as pd\n",
    "import numpy as np\n",
    "import matplotlib.pyplot as plt\n",
    "import seaborn as sns\n",
    "from sklearn.model_selection import StratifiedShuffleSplit\n",
    "import torch\n",
    "import torchvision"
   ]
  },
  {
   "cell_type": "code",
   "execution_count": 163,
   "metadata": {},
   "outputs": [
    {
     "name": "stdout",
     "output_type": "stream",
     "text": [
      "cpu\n"
     ]
    }
   ],
   "source": [
    "# set cuda\n",
    "device = torch.device('cuda' if torch.cuda.is_available() else 'cpu')\n",
    "print(device)"
   ]
  },
  {
   "cell_type": "markdown",
   "metadata": {},
   "source": [
    "# Dataloader"
   ]
  },
  {
   "cell_type": "code",
   "execution_count": 164,
   "metadata": {},
   "outputs": [],
   "source": [
    "class activityData(torch.utils.data.Dataset):\n",
    "    '''\n",
    "    Class for activity data.\n",
    "    '''\n",
    "    def __init__(self, url:str):\n",
    "        data = np.load(url)\n",
    "        self.x = torch.from_numpy(data['X'])\n",
    "        self.y = torch.from_numpy(data['y'])\n",
    "        self.n_samples = self.x.shape[0]\n",
    "        \n",
    "    def __getitem__(self, index):\n",
    "        return self.x[index], self.y[index]\n",
    "\n",
    "    def __len__(self):\n",
    "        return self.n_samples"
   ]
  },
  {
   "cell_type": "code",
   "execution_count": 165,
   "metadata": {},
   "outputs": [],
   "source": [
    "batchsize = 128\n",
    "\n",
    "# create datasets and dataloaders\n",
    "dataTrain = activityData(url='train.npz')\n",
    "dataTest = activityData(url=\"test.npz\")\n",
    "loaderTrain = torch.utils.data.DataLoader(dataset=dataTrain, batch_size=batchsize, shuffle=True)\n",
    "loaderTest = torch.utils.data.DataLoader(dataset=dataTest, batch_size=batchsize, shuffle=False)"
   ]
  },
  {
   "cell_type": "markdown",
   "metadata": {},
   "source": [
    "# Define model of CNN"
   ]
  },
  {
   "cell_type": "code",
   "execution_count": 166,
   "metadata": {},
   "outputs": [
    {
     "data": {
      "text/plain": [
       "(torch.Size([43, 13]), torch.Size([]))"
      ]
     },
     "execution_count": 166,
     "metadata": {},
     "output_type": "execute_result"
    }
   ],
   "source": [
    "loaderTrain.dataset.x[0].shape, loaderTrain.dataset.y[0].shape"
   ]
  },
  {
   "cell_type": "markdown",
   "metadata": {},
   "source": [
    "# Functions for training model"
   ]
  },
  {
   "cell_type": "code",
   "execution_count": 167,
   "metadata": {},
   "outputs": [],
   "source": [
    "def calcOutputDim(Input:int, kernel:int, padding:int, stride:int):\n",
    "    '''\n",
    "    Calculates output width of a convolutional layer.\n",
    "    '''\n",
    "    return int((Input - kernel + 2*padding)/stride + 1)"
   ]
  },
  {
   "cell_type": "code",
   "execution_count": 159,
   "metadata": {},
   "outputs": [],
   "source": [
    "def train(model, epochs:int, loader, optimizer, criterion):\n",
    "    model.train()\n",
    "    loss_hist = []\n",
    "    loss = 0\n",
    "    lossepoch = 0\n",
    "\n",
    "    for epoch in range(epochs):\n",
    "        for batch_idx, (data, target) in enumerate(loader):\n",
    "            data = data.unsqueeze(1).float()\n",
    "            data, target = data.to(device), target.to(device)\n",
    "            optimizer.zero_grad()\n",
    "            output = model(data)\n",
    "            loss = criterion(output, target)\n",
    "            loss.backward()\n",
    "            optimizer.step()\n",
    "            loss_hist.append(loss.item())\n",
    "            lossepoch += loss.item()\n",
    "\n",
    "            if epoch + 1 == epochs and loss_hist[-2] > loss_hist[-1]:\n",
    "                best_model = model.state_dict()\n",
    "\n",
    "        print(\"loss\", lossepoch)\n",
    "        lossepoch = 0\n",
    "    \n",
    "    model = model.load_state_dict(best_model)\n",
    "\n",
    "    return loss_hist, model"
   ]
  },
  {
   "cell_type": "code",
   "execution_count": 181,
   "metadata": {},
   "outputs": [],
   "source": [
    "def evalTest(model, testLoader, criterion):\n",
    "    model.eval()\n",
    "    test_loss = 0\n",
    "    correct = 0\n",
    "    with torch.no_grad():\n",
    "        for data, target in testLoader:\n",
    "            data = data.unsqueeze(1).float()\n",
    "            data, target = data.to(device), target.to(device)\n",
    "            output = model(data)\n",
    "            test_loss += criterion(output, target).item()\n",
    "            pred = output.argmax(dim=1, keepdim=True)\n",
    "            correct += pred.eq(target.view_as(pred)).sum().item()\n",
    "\n",
    "    test_loss /= len(testLoader.dataset)\n",
    "    print('\\nTest set: Average loss: {:.4f}, Accuracy: {}/{} ({:.0f}%)\\n'.format(\n",
    "        test_loss, correct, len(testLoader.dataset),\n",
    "        100. * correct / len(testLoader.dataset)))"
   ]
  },
  {
   "cell_type": "markdown",
   "metadata": {},
   "source": [
    "# Model with 1 convolutional layer"
   ]
  },
  {
   "cell_type": "code",
   "execution_count": 160,
   "metadata": {},
   "outputs": [],
   "source": [
    "# define model\n",
    "class CNN(torch.nn.Module):\n",
    "    def __init__(self, poolingFunction, bnFunction, activationFunction, kernel=None, stride=None, padding=None):\n",
    "        super(CNN, self).__init__()\n",
    "        \n",
    "        # building network with specified number of layers, poolingFunction and bnFunction\n",
    "        self.network = torch.nn.Sequential(\n",
    "            torch.nn.Conv2d(in_channels=1, out_channels=16, kernel_size=3, stride=1, padding=2),\n",
    "            poolingFunction(kernel_size=2, stride=2, padding=1),\n",
    "            bnFunction(num_features=16),\n",
    "            activationFunction(),\n",
    "        \n",
    "            # torch.nn.Conv2d(in_channels=16, out_channels=32, kernel_size=3, stride=1, padding=1),\n",
    "            # poolingFunction(kernel_size=2, stride=2, padding=1),\n",
    "            # bnFunction(num_features=32),\n",
    "            # activationFunction(),\n",
    "\n",
    "            # torch.nn.Conv2d(in_channels=32, out_channels=64, kernel_size=3, stride=1, padding=1),\n",
    "            # poolingFunction(kernel_size=2, stride=2, padding=1),\n",
    "            # bnFunction(num_features=64),\n",
    "            # activationFunction(),\n",
    "        )\n",
    "\n",
    "        self.linStack = torch.nn.Sequential(\n",
    "            torch.nn.Linear(in_features=2944, out_features=1500),\n",
    "            torch.nn.ReLU(),\n",
    "            torch.nn.BatchNorm1d(num_features=1500),\n",
    "            torch.nn.Linear(in_features=1500, out_features=7),\n",
    "        )\n",
    "\n",
    "    def forward(self, x):\n",
    "        x = self.network(x)\n",
    "        x = torch.nn.Flatten(1)(x)\n",
    "        x = self.linStack(x)\n",
    "        return x\n"
   ]
  },
  {
   "cell_type": "code",
   "execution_count": 161,
   "metadata": {},
   "outputs": [
    {
     "ename": "KeyboardInterrupt",
     "evalue": "",
     "output_type": "error",
     "traceback": [
      "\u001b[0;31m---------------------------------------------------------------------------\u001b[0m",
      "\u001b[0;31mKeyboardInterrupt\u001b[0m                         Traceback (most recent call last)",
      "\u001b[1;32m/Users/ronnyschneeberger/Documents/FHNW/FS22/cdl1/activity_tracker/cnn_rnsb/cnn.ipynb Cell 13'\u001b[0m in \u001b[0;36m<cell line: 2>\u001b[0;34m()\u001b[0m\n\u001b[1;32m      <a href='vscode-notebook-cell:/Users/ronnyschneeberger/Documents/FHNW/FS22/cdl1/activity_tracker/cnn_rnsb/cnn.ipynb#ch0000012?line=0'>1</a>\u001b[0m model \u001b[39m=\u001b[39m CNN(poolingFunction\u001b[39m=\u001b[39mtorch\u001b[39m.\u001b[39mnn\u001b[39m.\u001b[39mMaxPool2d, bnFunction\u001b[39m=\u001b[39mtorch\u001b[39m.\u001b[39mnn\u001b[39m.\u001b[39mBatchNorm2d, activationFunction\u001b[39m=\u001b[39mtorch\u001b[39m.\u001b[39mnn\u001b[39m.\u001b[39mReLU)\n\u001b[0;32m----> <a href='vscode-notebook-cell:/Users/ronnyschneeberger/Documents/FHNW/FS22/cdl1/activity_tracker/cnn_rnsb/cnn.ipynb#ch0000012?line=1'>2</a>\u001b[0m loss_hist \u001b[39m=\u001b[39m train(model\u001b[39m=\u001b[39;49mmodel, epochs\u001b[39m=\u001b[39;49m\u001b[39m20\u001b[39;49m, loader\u001b[39m=\u001b[39;49mloaderTrain, optimizer\u001b[39m=\u001b[39;49mtorch\u001b[39m.\u001b[39;49moptim\u001b[39m.\u001b[39;49mAdam(model\u001b[39m.\u001b[39;49mparameters(), lr\u001b[39m=\u001b[39;49m\u001b[39m1e-3\u001b[39;49m), criterion\u001b[39m=\u001b[39;49mtorch\u001b[39m.\u001b[39;49mnn\u001b[39m.\u001b[39;49mCrossEntropyLoss())\n\u001b[1;32m      <a href='vscode-notebook-cell:/Users/ronnyschneeberger/Documents/FHNW/FS22/cdl1/activity_tracker/cnn_rnsb/cnn.ipynb#ch0000012?line=2'>3</a>\u001b[0m torch\u001b[39m.\u001b[39msave(model\u001b[39m.\u001b[39mstate_dict(), \u001b[39m\"\u001b[39m\u001b[39mmodel1.pt\u001b[39m\u001b[39m\"\u001b[39m)\n",
      "\u001b[1;32m/Users/ronnyschneeberger/Documents/FHNW/FS22/cdl1/activity_tracker/cnn_rnsb/cnn.ipynb Cell 10'\u001b[0m in \u001b[0;36mtrain\u001b[0;34m(model, epochs, loader, optimizer, criterion)\u001b[0m\n\u001b[1;32m      <a href='vscode-notebook-cell:/Users/ronnyschneeberger/Documents/FHNW/FS22/cdl1/activity_tracker/cnn_rnsb/cnn.ipynb#ch0000010?line=4'>5</a>\u001b[0m lossepoch \u001b[39m=\u001b[39m \u001b[39m0\u001b[39m\n\u001b[1;32m      <a href='vscode-notebook-cell:/Users/ronnyschneeberger/Documents/FHNW/FS22/cdl1/activity_tracker/cnn_rnsb/cnn.ipynb#ch0000010?line=5'>6</a>\u001b[0m \u001b[39mfor\u001b[39;00m epoch \u001b[39min\u001b[39;00m \u001b[39mrange\u001b[39m(epochs):\n\u001b[0;32m----> <a href='vscode-notebook-cell:/Users/ronnyschneeberger/Documents/FHNW/FS22/cdl1/activity_tracker/cnn_rnsb/cnn.ipynb#ch0000010?line=6'>7</a>\u001b[0m     \u001b[39mfor\u001b[39;00m batch_idx, (data, target) \u001b[39min\u001b[39;00m \u001b[39menumerate\u001b[39m(loader):\n\u001b[1;32m      <a href='vscode-notebook-cell:/Users/ronnyschneeberger/Documents/FHNW/FS22/cdl1/activity_tracker/cnn_rnsb/cnn.ipynb#ch0000010?line=7'>8</a>\u001b[0m         data \u001b[39m=\u001b[39m data\u001b[39m.\u001b[39munsqueeze(\u001b[39m1\u001b[39m)\u001b[39m.\u001b[39mfloat()\n\u001b[1;32m      <a href='vscode-notebook-cell:/Users/ronnyschneeberger/Documents/FHNW/FS22/cdl1/activity_tracker/cnn_rnsb/cnn.ipynb#ch0000010?line=8'>9</a>\u001b[0m         data, target \u001b[39m=\u001b[39m data\u001b[39m.\u001b[39mto(device), target\u001b[39m.\u001b[39mto(device)\n",
      "File \u001b[0;32m~/Documents/FHNW/FS22/cdl1/activity_tracker/venv/lib/python3.8/site-packages/torch/utils/data/dataloader.py:530\u001b[0m, in \u001b[0;36m_BaseDataLoaderIter.__next__\u001b[0;34m(self)\u001b[0m\n\u001b[1;32m    <a href='file:///Users/ronnyschneeberger/Documents/FHNW/FS22/cdl1/activity_tracker/venv/lib/python3.8/site-packages/torch/utils/data/dataloader.py?line=527'>528</a>\u001b[0m \u001b[39mif\u001b[39;00m \u001b[39mself\u001b[39m\u001b[39m.\u001b[39m_sampler_iter \u001b[39mis\u001b[39;00m \u001b[39mNone\u001b[39;00m:\n\u001b[1;32m    <a href='file:///Users/ronnyschneeberger/Documents/FHNW/FS22/cdl1/activity_tracker/venv/lib/python3.8/site-packages/torch/utils/data/dataloader.py?line=528'>529</a>\u001b[0m     \u001b[39mself\u001b[39m\u001b[39m.\u001b[39m_reset()\n\u001b[0;32m--> <a href='file:///Users/ronnyschneeberger/Documents/FHNW/FS22/cdl1/activity_tracker/venv/lib/python3.8/site-packages/torch/utils/data/dataloader.py?line=529'>530</a>\u001b[0m data \u001b[39m=\u001b[39m \u001b[39mself\u001b[39;49m\u001b[39m.\u001b[39;49m_next_data()\n\u001b[1;32m    <a href='file:///Users/ronnyschneeberger/Documents/FHNW/FS22/cdl1/activity_tracker/venv/lib/python3.8/site-packages/torch/utils/data/dataloader.py?line=530'>531</a>\u001b[0m \u001b[39mself\u001b[39m\u001b[39m.\u001b[39m_num_yielded \u001b[39m+\u001b[39m\u001b[39m=\u001b[39m \u001b[39m1\u001b[39m\n\u001b[1;32m    <a href='file:///Users/ronnyschneeberger/Documents/FHNW/FS22/cdl1/activity_tracker/venv/lib/python3.8/site-packages/torch/utils/data/dataloader.py?line=531'>532</a>\u001b[0m \u001b[39mif\u001b[39;00m \u001b[39mself\u001b[39m\u001b[39m.\u001b[39m_dataset_kind \u001b[39m==\u001b[39m _DatasetKind\u001b[39m.\u001b[39mIterable \u001b[39mand\u001b[39;00m \\\n\u001b[1;32m    <a href='file:///Users/ronnyschneeberger/Documents/FHNW/FS22/cdl1/activity_tracker/venv/lib/python3.8/site-packages/torch/utils/data/dataloader.py?line=532'>533</a>\u001b[0m         \u001b[39mself\u001b[39m\u001b[39m.\u001b[39m_IterableDataset_len_called \u001b[39mis\u001b[39;00m \u001b[39mnot\u001b[39;00m \u001b[39mNone\u001b[39;00m \u001b[39mand\u001b[39;00m \\\n\u001b[1;32m    <a href='file:///Users/ronnyschneeberger/Documents/FHNW/FS22/cdl1/activity_tracker/venv/lib/python3.8/site-packages/torch/utils/data/dataloader.py?line=533'>534</a>\u001b[0m         \u001b[39mself\u001b[39m\u001b[39m.\u001b[39m_num_yielded \u001b[39m>\u001b[39m \u001b[39mself\u001b[39m\u001b[39m.\u001b[39m_IterableDataset_len_called:\n",
      "File \u001b[0;32m~/Documents/FHNW/FS22/cdl1/activity_tracker/venv/lib/python3.8/site-packages/torch/utils/data/dataloader.py:570\u001b[0m, in \u001b[0;36m_SingleProcessDataLoaderIter._next_data\u001b[0;34m(self)\u001b[0m\n\u001b[1;32m    <a href='file:///Users/ronnyschneeberger/Documents/FHNW/FS22/cdl1/activity_tracker/venv/lib/python3.8/site-packages/torch/utils/data/dataloader.py?line=567'>568</a>\u001b[0m \u001b[39mdef\u001b[39;00m \u001b[39m_next_data\u001b[39m(\u001b[39mself\u001b[39m):\n\u001b[1;32m    <a href='file:///Users/ronnyschneeberger/Documents/FHNW/FS22/cdl1/activity_tracker/venv/lib/python3.8/site-packages/torch/utils/data/dataloader.py?line=568'>569</a>\u001b[0m     index \u001b[39m=\u001b[39m \u001b[39mself\u001b[39m\u001b[39m.\u001b[39m_next_index()  \u001b[39m# may raise StopIteration\u001b[39;00m\n\u001b[0;32m--> <a href='file:///Users/ronnyschneeberger/Documents/FHNW/FS22/cdl1/activity_tracker/venv/lib/python3.8/site-packages/torch/utils/data/dataloader.py?line=569'>570</a>\u001b[0m     data \u001b[39m=\u001b[39m \u001b[39mself\u001b[39;49m\u001b[39m.\u001b[39;49m_dataset_fetcher\u001b[39m.\u001b[39;49mfetch(index)  \u001b[39m# may raise StopIteration\u001b[39;00m\n\u001b[1;32m    <a href='file:///Users/ronnyschneeberger/Documents/FHNW/FS22/cdl1/activity_tracker/venv/lib/python3.8/site-packages/torch/utils/data/dataloader.py?line=570'>571</a>\u001b[0m     \u001b[39mif\u001b[39;00m \u001b[39mself\u001b[39m\u001b[39m.\u001b[39m_pin_memory:\n\u001b[1;32m    <a href='file:///Users/ronnyschneeberger/Documents/FHNW/FS22/cdl1/activity_tracker/venv/lib/python3.8/site-packages/torch/utils/data/dataloader.py?line=571'>572</a>\u001b[0m         data \u001b[39m=\u001b[39m _utils\u001b[39m.\u001b[39mpin_memory\u001b[39m.\u001b[39mpin_memory(data)\n",
      "File \u001b[0;32m~/Documents/FHNW/FS22/cdl1/activity_tracker/venv/lib/python3.8/site-packages/torch/utils/data/_utils/fetch.py:52\u001b[0m, in \u001b[0;36m_MapDatasetFetcher.fetch\u001b[0;34m(self, possibly_batched_index)\u001b[0m\n\u001b[1;32m     <a href='file:///Users/ronnyschneeberger/Documents/FHNW/FS22/cdl1/activity_tracker/venv/lib/python3.8/site-packages/torch/utils/data/_utils/fetch.py?line=49'>50</a>\u001b[0m \u001b[39melse\u001b[39;00m:\n\u001b[1;32m     <a href='file:///Users/ronnyschneeberger/Documents/FHNW/FS22/cdl1/activity_tracker/venv/lib/python3.8/site-packages/torch/utils/data/_utils/fetch.py?line=50'>51</a>\u001b[0m     data \u001b[39m=\u001b[39m \u001b[39mself\u001b[39m\u001b[39m.\u001b[39mdataset[possibly_batched_index]\n\u001b[0;32m---> <a href='file:///Users/ronnyschneeberger/Documents/FHNW/FS22/cdl1/activity_tracker/venv/lib/python3.8/site-packages/torch/utils/data/_utils/fetch.py?line=51'>52</a>\u001b[0m \u001b[39mreturn\u001b[39;00m \u001b[39mself\u001b[39;49m\u001b[39m.\u001b[39;49mcollate_fn(data)\n",
      "File \u001b[0;32m~/Documents/FHNW/FS22/cdl1/activity_tracker/venv/lib/python3.8/site-packages/torch/utils/data/_utils/collate.py:172\u001b[0m, in \u001b[0;36mdefault_collate\u001b[0;34m(batch)\u001b[0m\n\u001b[1;32m    <a href='file:///Users/ronnyschneeberger/Documents/FHNW/FS22/cdl1/activity_tracker/venv/lib/python3.8/site-packages/torch/utils/data/_utils/collate.py?line=168'>169</a>\u001b[0m transposed \u001b[39m=\u001b[39m \u001b[39mlist\u001b[39m(\u001b[39mzip\u001b[39m(\u001b[39m*\u001b[39mbatch))  \u001b[39m# It may be accessed twice, so we use a list.\u001b[39;00m\n\u001b[1;32m    <a href='file:///Users/ronnyschneeberger/Documents/FHNW/FS22/cdl1/activity_tracker/venv/lib/python3.8/site-packages/torch/utils/data/_utils/collate.py?line=170'>171</a>\u001b[0m \u001b[39mif\u001b[39;00m \u001b[39misinstance\u001b[39m(elem, \u001b[39mtuple\u001b[39m):\n\u001b[0;32m--> <a href='file:///Users/ronnyschneeberger/Documents/FHNW/FS22/cdl1/activity_tracker/venv/lib/python3.8/site-packages/torch/utils/data/_utils/collate.py?line=171'>172</a>\u001b[0m     \u001b[39mreturn\u001b[39;00m [default_collate(samples) \u001b[39mfor\u001b[39;00m samples \u001b[39min\u001b[39;00m transposed]  \u001b[39m# Backwards compatibility.\u001b[39;00m\n\u001b[1;32m    <a href='file:///Users/ronnyschneeberger/Documents/FHNW/FS22/cdl1/activity_tracker/venv/lib/python3.8/site-packages/torch/utils/data/_utils/collate.py?line=172'>173</a>\u001b[0m \u001b[39melse\u001b[39;00m:\n\u001b[1;32m    <a href='file:///Users/ronnyschneeberger/Documents/FHNW/FS22/cdl1/activity_tracker/venv/lib/python3.8/site-packages/torch/utils/data/_utils/collate.py?line=173'>174</a>\u001b[0m     \u001b[39mtry\u001b[39;00m:\n",
      "File \u001b[0;32m~/Documents/FHNW/FS22/cdl1/activity_tracker/venv/lib/python3.8/site-packages/torch/utils/data/_utils/collate.py:172\u001b[0m, in \u001b[0;36m<listcomp>\u001b[0;34m(.0)\u001b[0m\n\u001b[1;32m    <a href='file:///Users/ronnyschneeberger/Documents/FHNW/FS22/cdl1/activity_tracker/venv/lib/python3.8/site-packages/torch/utils/data/_utils/collate.py?line=168'>169</a>\u001b[0m transposed \u001b[39m=\u001b[39m \u001b[39mlist\u001b[39m(\u001b[39mzip\u001b[39m(\u001b[39m*\u001b[39mbatch))  \u001b[39m# It may be accessed twice, so we use a list.\u001b[39;00m\n\u001b[1;32m    <a href='file:///Users/ronnyschneeberger/Documents/FHNW/FS22/cdl1/activity_tracker/venv/lib/python3.8/site-packages/torch/utils/data/_utils/collate.py?line=170'>171</a>\u001b[0m \u001b[39mif\u001b[39;00m \u001b[39misinstance\u001b[39m(elem, \u001b[39mtuple\u001b[39m):\n\u001b[0;32m--> <a href='file:///Users/ronnyschneeberger/Documents/FHNW/FS22/cdl1/activity_tracker/venv/lib/python3.8/site-packages/torch/utils/data/_utils/collate.py?line=171'>172</a>\u001b[0m     \u001b[39mreturn\u001b[39;00m [default_collate(samples) \u001b[39mfor\u001b[39;00m samples \u001b[39min\u001b[39;00m transposed]  \u001b[39m# Backwards compatibility.\u001b[39;00m\n\u001b[1;32m    <a href='file:///Users/ronnyschneeberger/Documents/FHNW/FS22/cdl1/activity_tracker/venv/lib/python3.8/site-packages/torch/utils/data/_utils/collate.py?line=172'>173</a>\u001b[0m \u001b[39melse\u001b[39;00m:\n\u001b[1;32m    <a href='file:///Users/ronnyschneeberger/Documents/FHNW/FS22/cdl1/activity_tracker/venv/lib/python3.8/site-packages/torch/utils/data/_utils/collate.py?line=173'>174</a>\u001b[0m     \u001b[39mtry\u001b[39;00m:\n",
      "File \u001b[0;32m~/Documents/FHNW/FS22/cdl1/activity_tracker/venv/lib/python3.8/site-packages/torch/utils/data/_utils/collate.py:138\u001b[0m, in \u001b[0;36mdefault_collate\u001b[0;34m(batch)\u001b[0m\n\u001b[1;32m    <a href='file:///Users/ronnyschneeberger/Documents/FHNW/FS22/cdl1/activity_tracker/venv/lib/python3.8/site-packages/torch/utils/data/_utils/collate.py?line=135'>136</a>\u001b[0m         storage \u001b[39m=\u001b[39m elem\u001b[39m.\u001b[39mstorage()\u001b[39m.\u001b[39m_new_shared(numel)\n\u001b[1;32m    <a href='file:///Users/ronnyschneeberger/Documents/FHNW/FS22/cdl1/activity_tracker/venv/lib/python3.8/site-packages/torch/utils/data/_utils/collate.py?line=136'>137</a>\u001b[0m         out \u001b[39m=\u001b[39m elem\u001b[39m.\u001b[39mnew(storage)\u001b[39m.\u001b[39mresize_(\u001b[39mlen\u001b[39m(batch), \u001b[39m*\u001b[39m\u001b[39mlist\u001b[39m(elem\u001b[39m.\u001b[39msize()))\n\u001b[0;32m--> <a href='file:///Users/ronnyschneeberger/Documents/FHNW/FS22/cdl1/activity_tracker/venv/lib/python3.8/site-packages/torch/utils/data/_utils/collate.py?line=137'>138</a>\u001b[0m     \u001b[39mreturn\u001b[39;00m torch\u001b[39m.\u001b[39;49mstack(batch, \u001b[39m0\u001b[39;49m, out\u001b[39m=\u001b[39;49mout)\n\u001b[1;32m    <a href='file:///Users/ronnyschneeberger/Documents/FHNW/FS22/cdl1/activity_tracker/venv/lib/python3.8/site-packages/torch/utils/data/_utils/collate.py?line=138'>139</a>\u001b[0m \u001b[39melif\u001b[39;00m elem_type\u001b[39m.\u001b[39m\u001b[39m__module__\u001b[39m \u001b[39m==\u001b[39m \u001b[39m'\u001b[39m\u001b[39mnumpy\u001b[39m\u001b[39m'\u001b[39m \u001b[39mand\u001b[39;00m elem_type\u001b[39m.\u001b[39m\u001b[39m__name__\u001b[39m \u001b[39m!=\u001b[39m \u001b[39m'\u001b[39m\u001b[39mstr_\u001b[39m\u001b[39m'\u001b[39m \\\n\u001b[1;32m    <a href='file:///Users/ronnyschneeberger/Documents/FHNW/FS22/cdl1/activity_tracker/venv/lib/python3.8/site-packages/torch/utils/data/_utils/collate.py?line=139'>140</a>\u001b[0m         \u001b[39mand\u001b[39;00m elem_type\u001b[39m.\u001b[39m\u001b[39m__name__\u001b[39m \u001b[39m!=\u001b[39m \u001b[39m'\u001b[39m\u001b[39mstring_\u001b[39m\u001b[39m'\u001b[39m:\n\u001b[1;32m    <a href='file:///Users/ronnyschneeberger/Documents/FHNW/FS22/cdl1/activity_tracker/venv/lib/python3.8/site-packages/torch/utils/data/_utils/collate.py?line=140'>141</a>\u001b[0m     \u001b[39mif\u001b[39;00m elem_type\u001b[39m.\u001b[39m\u001b[39m__name__\u001b[39m \u001b[39m==\u001b[39m \u001b[39m'\u001b[39m\u001b[39mndarray\u001b[39m\u001b[39m'\u001b[39m \u001b[39mor\u001b[39;00m elem_type\u001b[39m.\u001b[39m\u001b[39m__name__\u001b[39m \u001b[39m==\u001b[39m \u001b[39m'\u001b[39m\u001b[39mmemmap\u001b[39m\u001b[39m'\u001b[39m:\n\u001b[1;32m    <a href='file:///Users/ronnyschneeberger/Documents/FHNW/FS22/cdl1/activity_tracker/venv/lib/python3.8/site-packages/torch/utils/data/_utils/collate.py?line=141'>142</a>\u001b[0m         \u001b[39m# array of string classes and object\u001b[39;00m\n",
      "\u001b[0;31mKeyboardInterrupt\u001b[0m: "
     ]
    }
   ],
   "source": [
    "model = CNN(poolingFunction=torch.nn.MaxPool2d, bnFunction=torch.nn.BatchNorm2d, activationFunction=torch.nn.ReLU)\n",
    "loss_hist, model = train(model=model, epochs=20, loader=loaderTrain, optimizer=torch.optim.Adam(model.parameters(), lr=1e-3), criterion=torch.nn.CrossEntropyLoss())\n",
    "evalTest(model=model, testLoader=loaderTest, criterion=torch.nn.CrossEntropyLoss())\n",
    "torch.save(model.state_dict(), \"model1.pt\")\n",
    "plt.plot(loss_hist)"
   ]
  },
  {
   "cell_type": "markdown",
   "metadata": {},
   "source": [
    "# Model with 2 convolutional layer"
   ]
  },
  {
   "cell_type": "code",
   "execution_count": 147,
   "metadata": {},
   "outputs": [],
   "source": [
    "# define model\n",
    "class CNN(torch.nn.Module):\n",
    "    def __init__(self, poolingFunction, bnFunction, activationFunction, kernel=None, stride=None, padding=None):\n",
    "        super(CNN, self).__init__()\n",
    "\n",
    "        # building network with specified number of layers, poolingFunction and bnFunction\n",
    "        self.network = torch.nn.Sequential(\n",
    "            torch.nn.Conv2d(in_channels=1, out_channels=16, kernel_size=3, stride=1, padding=2),\n",
    "            poolingFunction(kernel_size=2, stride=2, padding=1),\n",
    "            bnFunction(num_features=16),\n",
    "            activationFunction(),\n",
    "        \n",
    "            torch.nn.Conv2d(in_channels=16, out_channels=32, kernel_size=3, stride=1, padding=1),\n",
    "            poolingFunction(kernel_size=2, stride=2, padding=1),\n",
    "            bnFunction(num_features=32),\n",
    "            activationFunction(),\n",
    "\n",
    "            # torch.nn.Conv2d(in_channels=32, out_channels=64, kernel_size=3, stride=1, padding=1),\n",
    "            # poolingFunction(kernel_size=2, stride=2, padding=1),\n",
    "            # bnFunction(num_features=64),\n",
    "            # activationFunction(),\n",
    "        )\n",
    "\n",
    "        self.linStack = torch.nn.Sequential(\n",
    "            torch.nn.Linear(in_features=1920, out_features=1000),\n",
    "            torch.nn.ReLU(),\n",
    "            torch.nn.BatchNorm1d(num_features=1000),\n",
    "            torch.nn.Linear(in_features=1000, out_features=7),\n",
    "        )\n",
    "\n",
    "    def forward(self, x):\n",
    "        x = self.network(x)\n",
    "        x = torch.nn.Flatten(1)(x)\n",
    "        x = self.linStack(x)\n",
    "        return x\n"
   ]
  },
  {
   "cell_type": "code",
   "execution_count": 148,
   "metadata": {},
   "outputs": [
    {
     "ename": "KeyboardInterrupt",
     "evalue": "",
     "output_type": "error",
     "traceback": [
      "\u001b[0;31m---------------------------------------------------------------------------\u001b[0m",
      "\u001b[0;31mKeyboardInterrupt\u001b[0m                         Traceback (most recent call last)",
      "\u001b[1;32m/Users/ronnyschneeberger/Documents/FHNW/FS22/cdl1/activity_tracker/cnn_rnsb/cnn.ipynb Cell 16'\u001b[0m in \u001b[0;36m<cell line: 2>\u001b[0;34m()\u001b[0m\n\u001b[1;32m      <a href='vscode-notebook-cell:/Users/ronnyschneeberger/Documents/FHNW/FS22/cdl1/activity_tracker/cnn_rnsb/cnn.ipynb#ch0000061?line=0'>1</a>\u001b[0m model \u001b[39m=\u001b[39m CNN(poolingFunction\u001b[39m=\u001b[39mtorch\u001b[39m.\u001b[39mnn\u001b[39m.\u001b[39mMaxPool2d, bnFunction\u001b[39m=\u001b[39mtorch\u001b[39m.\u001b[39mnn\u001b[39m.\u001b[39mBatchNorm2d, activationFunction\u001b[39m=\u001b[39mtorch\u001b[39m.\u001b[39mnn\u001b[39m.\u001b[39mReLU)\n\u001b[0;32m----> <a href='vscode-notebook-cell:/Users/ronnyschneeberger/Documents/FHNW/FS22/cdl1/activity_tracker/cnn_rnsb/cnn.ipynb#ch0000061?line=1'>2</a>\u001b[0m loss_hist \u001b[39m=\u001b[39m train(model\u001b[39m=\u001b[39;49mmodel, epochs\u001b[39m=\u001b[39;49m\u001b[39m20\u001b[39;49m, loader\u001b[39m=\u001b[39;49mloaderTrain, optimizer\u001b[39m=\u001b[39;49mtorch\u001b[39m.\u001b[39;49moptim\u001b[39m.\u001b[39;49mAdam(model\u001b[39m.\u001b[39;49mparameters(), lr\u001b[39m=\u001b[39;49m\u001b[39m1e-3\u001b[39;49m), criterion\u001b[39m=\u001b[39;49mtorch\u001b[39m.\u001b[39;49mnn\u001b[39m.\u001b[39;49mCrossEntropyLoss())\n",
      "\u001b[1;32m/Users/ronnyschneeberger/Documents/FHNW/FS22/cdl1/activity_tracker/cnn_rnsb/cnn.ipynb Cell 10'\u001b[0m in \u001b[0;36mtrain\u001b[0;34m(model, epochs, loader, optimizer, criterion)\u001b[0m\n\u001b[1;32m     <a href='vscode-notebook-cell:/Users/ronnyschneeberger/Documents/FHNW/FS22/cdl1/activity_tracker/cnn_rnsb/cnn.ipynb#ch0000010?line=10'>11</a>\u001b[0m output \u001b[39m=\u001b[39m model(data)\n\u001b[1;32m     <a href='vscode-notebook-cell:/Users/ronnyschneeberger/Documents/FHNW/FS22/cdl1/activity_tracker/cnn_rnsb/cnn.ipynb#ch0000010?line=11'>12</a>\u001b[0m loss \u001b[39m=\u001b[39m criterion(output, target)\n\u001b[0;32m---> <a href='vscode-notebook-cell:/Users/ronnyschneeberger/Documents/FHNW/FS22/cdl1/activity_tracker/cnn_rnsb/cnn.ipynb#ch0000010?line=12'>13</a>\u001b[0m loss\u001b[39m.\u001b[39;49mbackward()\n\u001b[1;32m     <a href='vscode-notebook-cell:/Users/ronnyschneeberger/Documents/FHNW/FS22/cdl1/activity_tracker/cnn_rnsb/cnn.ipynb#ch0000010?line=13'>14</a>\u001b[0m optimizer\u001b[39m.\u001b[39mstep()\n\u001b[1;32m     <a href='vscode-notebook-cell:/Users/ronnyschneeberger/Documents/FHNW/FS22/cdl1/activity_tracker/cnn_rnsb/cnn.ipynb#ch0000010?line=14'>15</a>\u001b[0m loss_hist\u001b[39m.\u001b[39mappend(loss\u001b[39m.\u001b[39mitem())\n",
      "File \u001b[0;32m~/Documents/FHNW/FS22/cdl1/activity_tracker/venv/lib/python3.8/site-packages/torch/_tensor.py:363\u001b[0m, in \u001b[0;36mTensor.backward\u001b[0;34m(self, gradient, retain_graph, create_graph, inputs)\u001b[0m\n\u001b[1;32m    <a href='file:///Users/ronnyschneeberger/Documents/FHNW/FS22/cdl1/activity_tracker/venv/lib/python3.8/site-packages/torch/_tensor.py?line=353'>354</a>\u001b[0m \u001b[39mif\u001b[39;00m has_torch_function_unary(\u001b[39mself\u001b[39m):\n\u001b[1;32m    <a href='file:///Users/ronnyschneeberger/Documents/FHNW/FS22/cdl1/activity_tracker/venv/lib/python3.8/site-packages/torch/_tensor.py?line=354'>355</a>\u001b[0m     \u001b[39mreturn\u001b[39;00m handle_torch_function(\n\u001b[1;32m    <a href='file:///Users/ronnyschneeberger/Documents/FHNW/FS22/cdl1/activity_tracker/venv/lib/python3.8/site-packages/torch/_tensor.py?line=355'>356</a>\u001b[0m         Tensor\u001b[39m.\u001b[39mbackward,\n\u001b[1;32m    <a href='file:///Users/ronnyschneeberger/Documents/FHNW/FS22/cdl1/activity_tracker/venv/lib/python3.8/site-packages/torch/_tensor.py?line=356'>357</a>\u001b[0m         (\u001b[39mself\u001b[39m,),\n\u001b[0;32m   (...)\u001b[0m\n\u001b[1;32m    <a href='file:///Users/ronnyschneeberger/Documents/FHNW/FS22/cdl1/activity_tracker/venv/lib/python3.8/site-packages/torch/_tensor.py?line=360'>361</a>\u001b[0m         create_graph\u001b[39m=\u001b[39mcreate_graph,\n\u001b[1;32m    <a href='file:///Users/ronnyschneeberger/Documents/FHNW/FS22/cdl1/activity_tracker/venv/lib/python3.8/site-packages/torch/_tensor.py?line=361'>362</a>\u001b[0m         inputs\u001b[39m=\u001b[39minputs)\n\u001b[0;32m--> <a href='file:///Users/ronnyschneeberger/Documents/FHNW/FS22/cdl1/activity_tracker/venv/lib/python3.8/site-packages/torch/_tensor.py?line=362'>363</a>\u001b[0m torch\u001b[39m.\u001b[39;49mautograd\u001b[39m.\u001b[39;49mbackward(\u001b[39mself\u001b[39;49m, gradient, retain_graph, create_graph, inputs\u001b[39m=\u001b[39;49minputs)\n",
      "File \u001b[0;32m~/Documents/FHNW/FS22/cdl1/activity_tracker/venv/lib/python3.8/site-packages/torch/autograd/__init__.py:173\u001b[0m, in \u001b[0;36mbackward\u001b[0;34m(tensors, grad_tensors, retain_graph, create_graph, grad_variables, inputs)\u001b[0m\n\u001b[1;32m    <a href='file:///Users/ronnyschneeberger/Documents/FHNW/FS22/cdl1/activity_tracker/venv/lib/python3.8/site-packages/torch/autograd/__init__.py?line=167'>168</a>\u001b[0m     retain_graph \u001b[39m=\u001b[39m create_graph\n\u001b[1;32m    <a href='file:///Users/ronnyschneeberger/Documents/FHNW/FS22/cdl1/activity_tracker/venv/lib/python3.8/site-packages/torch/autograd/__init__.py?line=169'>170</a>\u001b[0m \u001b[39m# The reason we repeat same the comment below is that\u001b[39;00m\n\u001b[1;32m    <a href='file:///Users/ronnyschneeberger/Documents/FHNW/FS22/cdl1/activity_tracker/venv/lib/python3.8/site-packages/torch/autograd/__init__.py?line=170'>171</a>\u001b[0m \u001b[39m# some Python versions print out the first line of a multi-line function\u001b[39;00m\n\u001b[1;32m    <a href='file:///Users/ronnyschneeberger/Documents/FHNW/FS22/cdl1/activity_tracker/venv/lib/python3.8/site-packages/torch/autograd/__init__.py?line=171'>172</a>\u001b[0m \u001b[39m# calls in the traceback and some print out the last line\u001b[39;00m\n\u001b[0;32m--> <a href='file:///Users/ronnyschneeberger/Documents/FHNW/FS22/cdl1/activity_tracker/venv/lib/python3.8/site-packages/torch/autograd/__init__.py?line=172'>173</a>\u001b[0m Variable\u001b[39m.\u001b[39;49m_execution_engine\u001b[39m.\u001b[39;49mrun_backward(  \u001b[39m# Calls into the C++ engine to run the backward pass\u001b[39;49;00m\n\u001b[1;32m    <a href='file:///Users/ronnyschneeberger/Documents/FHNW/FS22/cdl1/activity_tracker/venv/lib/python3.8/site-packages/torch/autograd/__init__.py?line=173'>174</a>\u001b[0m     tensors, grad_tensors_, retain_graph, create_graph, inputs,\n\u001b[1;32m    <a href='file:///Users/ronnyschneeberger/Documents/FHNW/FS22/cdl1/activity_tracker/venv/lib/python3.8/site-packages/torch/autograd/__init__.py?line=174'>175</a>\u001b[0m     allow_unreachable\u001b[39m=\u001b[39;49m\u001b[39mTrue\u001b[39;49;00m, accumulate_grad\u001b[39m=\u001b[39;49m\u001b[39mTrue\u001b[39;49;00m)\n",
      "\u001b[0;31mKeyboardInterrupt\u001b[0m: "
     ]
    }
   ],
   "source": [
    "model = CNN(poolingFunction=torch.nn.MaxPool2d, bnFunction=torch.nn.BatchNorm2d, activationFunction=torch.nn.ReLU)\n",
    "loss_hist, model = train(model=model, epochs=20, loader=loaderTrain, optimizer=torch.optim.Adam(model.parameters(), lr=1e-3), criterion=torch.nn.CrossEntropyLoss())\n",
    "evalTest(model=model, testLoader=loaderTest, criterion=torch.nn.CrossEntropyLoss())\n",
    "torch.save(model.state_dict(), \"model2.pt\")\n",
    "plt.plot(loss_hist)"
   ]
  },
  {
   "cell_type": "markdown",
   "metadata": {},
   "source": [
    "# Model with 3 convolutional layer"
   ]
  },
  {
   "cell_type": "code",
   "execution_count": 151,
   "metadata": {},
   "outputs": [],
   "source": [
    "# define model\n",
    "class CNN(torch.nn.Module):\n",
    "    def __init__(self, poolingFunction, bnFunction, activationFunction, kernel=None, stride=None, padding=None):\n",
    "        super(CNN, self).__init__()\n",
    "\n",
    "        # building network with specified number of layers, poolingFunction and bnFunction\n",
    "        self.network = torch.nn.Sequential(\n",
    "            torch.nn.Conv2d(in_channels=1, out_channels=16, kernel_size=3, stride=1, padding=2),\n",
    "            poolingFunction(kernel_size=2, stride=2, padding=1),\n",
    "            bnFunction(num_features=16),\n",
    "            activationFunction(),\n",
    "        \n",
    "            torch.nn.Conv2d(in_channels=16, out_channels=32, kernel_size=3, stride=1, padding=1),\n",
    "            poolingFunction(kernel_size=2, stride=2, padding=1),\n",
    "            bnFunction(num_features=32),\n",
    "            activationFunction(),\n",
    "\n",
    "            torch.nn.Conv2d(in_channels=32, out_channels=64, kernel_size=3, stride=1, padding=1),\n",
    "            poolingFunction(kernel_size=2, stride=2, padding=1),\n",
    "            bnFunction(num_features=64),\n",
    "            activationFunction(),\n",
    "        )\n",
    "\n",
    "        self.linStack = torch.nn.Sequential(\n",
    "            torch.nn.Linear(in_features=1344, out_features=672),\n",
    "            torch.nn.ReLU(),\n",
    "            torch.nn.BatchNorm1d(num_features=672),\n",
    "            torch.nn.Linear(in_features=672, out_features=7),\n",
    "        )\n",
    "\n",
    "    def forward(self, x):\n",
    "        x = self.network(x)\n",
    "        x = torch.nn.Flatten(1)(x)\n",
    "        x = self.linStack(x)\n",
    "        return x\n"
   ]
  },
  {
   "cell_type": "code",
   "execution_count": 152,
   "metadata": {},
   "outputs": [
    {
     "ename": "KeyboardInterrupt",
     "evalue": "",
     "output_type": "error",
     "traceback": [
      "\u001b[0;31m---------------------------------------------------------------------------\u001b[0m",
      "\u001b[0;31mKeyboardInterrupt\u001b[0m                         Traceback (most recent call last)",
      "\u001b[1;32m/Users/ronnyschneeberger/Documents/FHNW/FS22/cdl1/activity_tracker/cnn_rnsb/cnn.ipynb Cell 19'\u001b[0m in \u001b[0;36m<cell line: 2>\u001b[0;34m()\u001b[0m\n\u001b[1;32m      <a href='vscode-notebook-cell:/Users/ronnyschneeberger/Documents/FHNW/FS22/cdl1/activity_tracker/cnn_rnsb/cnn.ipynb#ch0000067?line=0'>1</a>\u001b[0m model \u001b[39m=\u001b[39m CNN(poolingFunction\u001b[39m=\u001b[39mtorch\u001b[39m.\u001b[39mnn\u001b[39m.\u001b[39mMaxPool2d, bnFunction\u001b[39m=\u001b[39mtorch\u001b[39m.\u001b[39mnn\u001b[39m.\u001b[39mBatchNorm2d, activationFunction\u001b[39m=\u001b[39mtorch\u001b[39m.\u001b[39mnn\u001b[39m.\u001b[39mReLU)\n\u001b[0;32m----> <a href='vscode-notebook-cell:/Users/ronnyschneeberger/Documents/FHNW/FS22/cdl1/activity_tracker/cnn_rnsb/cnn.ipynb#ch0000067?line=1'>2</a>\u001b[0m loss_hist \u001b[39m=\u001b[39m train(model\u001b[39m=\u001b[39;49mmodel, epochs\u001b[39m=\u001b[39;49m\u001b[39m20\u001b[39;49m, loader\u001b[39m=\u001b[39;49mloaderTrain, optimizer\u001b[39m=\u001b[39;49mtorch\u001b[39m.\u001b[39;49moptim\u001b[39m.\u001b[39;49mAdam(model\u001b[39m.\u001b[39;49mparameters(), lr\u001b[39m=\u001b[39;49m\u001b[39m1e-3\u001b[39;49m), criterion\u001b[39m=\u001b[39;49mtorch\u001b[39m.\u001b[39;49mnn\u001b[39m.\u001b[39;49mCrossEntropyLoss())\n",
      "\u001b[1;32m/Users/ronnyschneeberger/Documents/FHNW/FS22/cdl1/activity_tracker/cnn_rnsb/cnn.ipynb Cell 10'\u001b[0m in \u001b[0;36mtrain\u001b[0;34m(model, epochs, loader, optimizer, criterion)\u001b[0m\n\u001b[1;32m      <a href='vscode-notebook-cell:/Users/ronnyschneeberger/Documents/FHNW/FS22/cdl1/activity_tracker/cnn_rnsb/cnn.ipynb#ch0000010?line=8'>9</a>\u001b[0m data, target \u001b[39m=\u001b[39m data\u001b[39m.\u001b[39mto(device), target\u001b[39m.\u001b[39mto(device)\n\u001b[1;32m     <a href='vscode-notebook-cell:/Users/ronnyschneeberger/Documents/FHNW/FS22/cdl1/activity_tracker/cnn_rnsb/cnn.ipynb#ch0000010?line=9'>10</a>\u001b[0m optimizer\u001b[39m.\u001b[39mzero_grad()\n\u001b[0;32m---> <a href='vscode-notebook-cell:/Users/ronnyschneeberger/Documents/FHNW/FS22/cdl1/activity_tracker/cnn_rnsb/cnn.ipynb#ch0000010?line=10'>11</a>\u001b[0m output \u001b[39m=\u001b[39m model(data)\n\u001b[1;32m     <a href='vscode-notebook-cell:/Users/ronnyschneeberger/Documents/FHNW/FS22/cdl1/activity_tracker/cnn_rnsb/cnn.ipynb#ch0000010?line=11'>12</a>\u001b[0m loss \u001b[39m=\u001b[39m criterion(output, target)\n\u001b[1;32m     <a href='vscode-notebook-cell:/Users/ronnyschneeberger/Documents/FHNW/FS22/cdl1/activity_tracker/cnn_rnsb/cnn.ipynb#ch0000010?line=12'>13</a>\u001b[0m loss\u001b[39m.\u001b[39mbackward()\n",
      "File \u001b[0;32m~/Documents/FHNW/FS22/cdl1/activity_tracker/venv/lib/python3.8/site-packages/torch/nn/modules/module.py:1110\u001b[0m, in \u001b[0;36mModule._call_impl\u001b[0;34m(self, *input, **kwargs)\u001b[0m\n\u001b[1;32m   <a href='file:///Users/ronnyschneeberger/Documents/FHNW/FS22/cdl1/activity_tracker/venv/lib/python3.8/site-packages/torch/nn/modules/module.py?line=1105'>1106</a>\u001b[0m \u001b[39m# If we don't have any hooks, we want to skip the rest of the logic in\u001b[39;00m\n\u001b[1;32m   <a href='file:///Users/ronnyschneeberger/Documents/FHNW/FS22/cdl1/activity_tracker/venv/lib/python3.8/site-packages/torch/nn/modules/module.py?line=1106'>1107</a>\u001b[0m \u001b[39m# this function, and just call forward.\u001b[39;00m\n\u001b[1;32m   <a href='file:///Users/ronnyschneeberger/Documents/FHNW/FS22/cdl1/activity_tracker/venv/lib/python3.8/site-packages/torch/nn/modules/module.py?line=1107'>1108</a>\u001b[0m \u001b[39mif\u001b[39;00m \u001b[39mnot\u001b[39;00m (\u001b[39mself\u001b[39m\u001b[39m.\u001b[39m_backward_hooks \u001b[39mor\u001b[39;00m \u001b[39mself\u001b[39m\u001b[39m.\u001b[39m_forward_hooks \u001b[39mor\u001b[39;00m \u001b[39mself\u001b[39m\u001b[39m.\u001b[39m_forward_pre_hooks \u001b[39mor\u001b[39;00m _global_backward_hooks\n\u001b[1;32m   <a href='file:///Users/ronnyschneeberger/Documents/FHNW/FS22/cdl1/activity_tracker/venv/lib/python3.8/site-packages/torch/nn/modules/module.py?line=1108'>1109</a>\u001b[0m         \u001b[39mor\u001b[39;00m _global_forward_hooks \u001b[39mor\u001b[39;00m _global_forward_pre_hooks):\n\u001b[0;32m-> <a href='file:///Users/ronnyschneeberger/Documents/FHNW/FS22/cdl1/activity_tracker/venv/lib/python3.8/site-packages/torch/nn/modules/module.py?line=1109'>1110</a>\u001b[0m     \u001b[39mreturn\u001b[39;00m forward_call(\u001b[39m*\u001b[39;49m\u001b[39minput\u001b[39;49m, \u001b[39m*\u001b[39;49m\u001b[39m*\u001b[39;49mkwargs)\n\u001b[1;32m   <a href='file:///Users/ronnyschneeberger/Documents/FHNW/FS22/cdl1/activity_tracker/venv/lib/python3.8/site-packages/torch/nn/modules/module.py?line=1110'>1111</a>\u001b[0m \u001b[39m# Do not call functions when jit is used\u001b[39;00m\n\u001b[1;32m   <a href='file:///Users/ronnyschneeberger/Documents/FHNW/FS22/cdl1/activity_tracker/venv/lib/python3.8/site-packages/torch/nn/modules/module.py?line=1111'>1112</a>\u001b[0m full_backward_hooks, non_full_backward_hooks \u001b[39m=\u001b[39m [], []\n",
      "\u001b[1;32m/Users/ronnyschneeberger/Documents/FHNW/FS22/cdl1/activity_tracker/cnn_rnsb/cnn.ipynb Cell 18'\u001b[0m in \u001b[0;36mCNN.forward\u001b[0;34m(self, x)\u001b[0m\n\u001b[1;32m     <a href='vscode-notebook-cell:/Users/ronnyschneeberger/Documents/FHNW/FS22/cdl1/activity_tracker/cnn_rnsb/cnn.ipynb#ch0000066?line=31'>32</a>\u001b[0m x \u001b[39m=\u001b[39m \u001b[39mself\u001b[39m\u001b[39m.\u001b[39mnetwork(x)\n\u001b[1;32m     <a href='vscode-notebook-cell:/Users/ronnyschneeberger/Documents/FHNW/FS22/cdl1/activity_tracker/cnn_rnsb/cnn.ipynb#ch0000066?line=32'>33</a>\u001b[0m x \u001b[39m=\u001b[39m torch\u001b[39m.\u001b[39mnn\u001b[39m.\u001b[39mFlatten(\u001b[39m1\u001b[39m)(x)\n\u001b[0;32m---> <a href='vscode-notebook-cell:/Users/ronnyschneeberger/Documents/FHNW/FS22/cdl1/activity_tracker/cnn_rnsb/cnn.ipynb#ch0000066?line=33'>34</a>\u001b[0m x \u001b[39m=\u001b[39m \u001b[39mself\u001b[39;49m\u001b[39m.\u001b[39;49mlinStack(x)\n\u001b[1;32m     <a href='vscode-notebook-cell:/Users/ronnyschneeberger/Documents/FHNW/FS22/cdl1/activity_tracker/cnn_rnsb/cnn.ipynb#ch0000066?line=34'>35</a>\u001b[0m \u001b[39mreturn\u001b[39;00m x\n",
      "File \u001b[0;32m~/Documents/FHNW/FS22/cdl1/activity_tracker/venv/lib/python3.8/site-packages/torch/nn/modules/module.py:1110\u001b[0m, in \u001b[0;36mModule._call_impl\u001b[0;34m(self, *input, **kwargs)\u001b[0m\n\u001b[1;32m   <a href='file:///Users/ronnyschneeberger/Documents/FHNW/FS22/cdl1/activity_tracker/venv/lib/python3.8/site-packages/torch/nn/modules/module.py?line=1105'>1106</a>\u001b[0m \u001b[39m# If we don't have any hooks, we want to skip the rest of the logic in\u001b[39;00m\n\u001b[1;32m   <a href='file:///Users/ronnyschneeberger/Documents/FHNW/FS22/cdl1/activity_tracker/venv/lib/python3.8/site-packages/torch/nn/modules/module.py?line=1106'>1107</a>\u001b[0m \u001b[39m# this function, and just call forward.\u001b[39;00m\n\u001b[1;32m   <a href='file:///Users/ronnyschneeberger/Documents/FHNW/FS22/cdl1/activity_tracker/venv/lib/python3.8/site-packages/torch/nn/modules/module.py?line=1107'>1108</a>\u001b[0m \u001b[39mif\u001b[39;00m \u001b[39mnot\u001b[39;00m (\u001b[39mself\u001b[39m\u001b[39m.\u001b[39m_backward_hooks \u001b[39mor\u001b[39;00m \u001b[39mself\u001b[39m\u001b[39m.\u001b[39m_forward_hooks \u001b[39mor\u001b[39;00m \u001b[39mself\u001b[39m\u001b[39m.\u001b[39m_forward_pre_hooks \u001b[39mor\u001b[39;00m _global_backward_hooks\n\u001b[1;32m   <a href='file:///Users/ronnyschneeberger/Documents/FHNW/FS22/cdl1/activity_tracker/venv/lib/python3.8/site-packages/torch/nn/modules/module.py?line=1108'>1109</a>\u001b[0m         \u001b[39mor\u001b[39;00m _global_forward_hooks \u001b[39mor\u001b[39;00m _global_forward_pre_hooks):\n\u001b[0;32m-> <a href='file:///Users/ronnyschneeberger/Documents/FHNW/FS22/cdl1/activity_tracker/venv/lib/python3.8/site-packages/torch/nn/modules/module.py?line=1109'>1110</a>\u001b[0m     \u001b[39mreturn\u001b[39;00m forward_call(\u001b[39m*\u001b[39;49m\u001b[39minput\u001b[39;49m, \u001b[39m*\u001b[39;49m\u001b[39m*\u001b[39;49mkwargs)\n\u001b[1;32m   <a href='file:///Users/ronnyschneeberger/Documents/FHNW/FS22/cdl1/activity_tracker/venv/lib/python3.8/site-packages/torch/nn/modules/module.py?line=1110'>1111</a>\u001b[0m \u001b[39m# Do not call functions when jit is used\u001b[39;00m\n\u001b[1;32m   <a href='file:///Users/ronnyschneeberger/Documents/FHNW/FS22/cdl1/activity_tracker/venv/lib/python3.8/site-packages/torch/nn/modules/module.py?line=1111'>1112</a>\u001b[0m full_backward_hooks, non_full_backward_hooks \u001b[39m=\u001b[39m [], []\n",
      "File \u001b[0;32m~/Documents/FHNW/FS22/cdl1/activity_tracker/venv/lib/python3.8/site-packages/torch/nn/modules/container.py:141\u001b[0m, in \u001b[0;36mSequential.forward\u001b[0;34m(self, input)\u001b[0m\n\u001b[1;32m    <a href='file:///Users/ronnyschneeberger/Documents/FHNW/FS22/cdl1/activity_tracker/venv/lib/python3.8/site-packages/torch/nn/modules/container.py?line=138'>139</a>\u001b[0m \u001b[39mdef\u001b[39;00m \u001b[39mforward\u001b[39m(\u001b[39mself\u001b[39m, \u001b[39minput\u001b[39m):\n\u001b[1;32m    <a href='file:///Users/ronnyschneeberger/Documents/FHNW/FS22/cdl1/activity_tracker/venv/lib/python3.8/site-packages/torch/nn/modules/container.py?line=139'>140</a>\u001b[0m     \u001b[39mfor\u001b[39;00m module \u001b[39min\u001b[39;00m \u001b[39mself\u001b[39m:\n\u001b[0;32m--> <a href='file:///Users/ronnyschneeberger/Documents/FHNW/FS22/cdl1/activity_tracker/venv/lib/python3.8/site-packages/torch/nn/modules/container.py?line=140'>141</a>\u001b[0m         \u001b[39minput\u001b[39m \u001b[39m=\u001b[39m module(\u001b[39minput\u001b[39;49m)\n\u001b[1;32m    <a href='file:///Users/ronnyschneeberger/Documents/FHNW/FS22/cdl1/activity_tracker/venv/lib/python3.8/site-packages/torch/nn/modules/container.py?line=141'>142</a>\u001b[0m     \u001b[39mreturn\u001b[39;00m \u001b[39minput\u001b[39m\n",
      "File \u001b[0;32m~/Documents/FHNW/FS22/cdl1/activity_tracker/venv/lib/python3.8/site-packages/torch/nn/modules/module.py:1110\u001b[0m, in \u001b[0;36mModule._call_impl\u001b[0;34m(self, *input, **kwargs)\u001b[0m\n\u001b[1;32m   <a href='file:///Users/ronnyschneeberger/Documents/FHNW/FS22/cdl1/activity_tracker/venv/lib/python3.8/site-packages/torch/nn/modules/module.py?line=1105'>1106</a>\u001b[0m \u001b[39m# If we don't have any hooks, we want to skip the rest of the logic in\u001b[39;00m\n\u001b[1;32m   <a href='file:///Users/ronnyschneeberger/Documents/FHNW/FS22/cdl1/activity_tracker/venv/lib/python3.8/site-packages/torch/nn/modules/module.py?line=1106'>1107</a>\u001b[0m \u001b[39m# this function, and just call forward.\u001b[39;00m\n\u001b[1;32m   <a href='file:///Users/ronnyschneeberger/Documents/FHNW/FS22/cdl1/activity_tracker/venv/lib/python3.8/site-packages/torch/nn/modules/module.py?line=1107'>1108</a>\u001b[0m \u001b[39mif\u001b[39;00m \u001b[39mnot\u001b[39;00m (\u001b[39mself\u001b[39m\u001b[39m.\u001b[39m_backward_hooks \u001b[39mor\u001b[39;00m \u001b[39mself\u001b[39m\u001b[39m.\u001b[39m_forward_hooks \u001b[39mor\u001b[39;00m \u001b[39mself\u001b[39m\u001b[39m.\u001b[39m_forward_pre_hooks \u001b[39mor\u001b[39;00m _global_backward_hooks\n\u001b[1;32m   <a href='file:///Users/ronnyschneeberger/Documents/FHNW/FS22/cdl1/activity_tracker/venv/lib/python3.8/site-packages/torch/nn/modules/module.py?line=1108'>1109</a>\u001b[0m         \u001b[39mor\u001b[39;00m _global_forward_hooks \u001b[39mor\u001b[39;00m _global_forward_pre_hooks):\n\u001b[0;32m-> <a href='file:///Users/ronnyschneeberger/Documents/FHNW/FS22/cdl1/activity_tracker/venv/lib/python3.8/site-packages/torch/nn/modules/module.py?line=1109'>1110</a>\u001b[0m     \u001b[39mreturn\u001b[39;00m forward_call(\u001b[39m*\u001b[39;49m\u001b[39minput\u001b[39;49m, \u001b[39m*\u001b[39;49m\u001b[39m*\u001b[39;49mkwargs)\n\u001b[1;32m   <a href='file:///Users/ronnyschneeberger/Documents/FHNW/FS22/cdl1/activity_tracker/venv/lib/python3.8/site-packages/torch/nn/modules/module.py?line=1110'>1111</a>\u001b[0m \u001b[39m# Do not call functions when jit is used\u001b[39;00m\n\u001b[1;32m   <a href='file:///Users/ronnyschneeberger/Documents/FHNW/FS22/cdl1/activity_tracker/venv/lib/python3.8/site-packages/torch/nn/modules/module.py?line=1111'>1112</a>\u001b[0m full_backward_hooks, non_full_backward_hooks \u001b[39m=\u001b[39m [], []\n",
      "File \u001b[0;32m~/Documents/FHNW/FS22/cdl1/activity_tracker/venv/lib/python3.8/site-packages/torch/nn/modules/linear.py:103\u001b[0m, in \u001b[0;36mLinear.forward\u001b[0;34m(self, input)\u001b[0m\n\u001b[1;32m    <a href='file:///Users/ronnyschneeberger/Documents/FHNW/FS22/cdl1/activity_tracker/venv/lib/python3.8/site-packages/torch/nn/modules/linear.py?line=101'>102</a>\u001b[0m \u001b[39mdef\u001b[39;00m \u001b[39mforward\u001b[39m(\u001b[39mself\u001b[39m, \u001b[39minput\u001b[39m: Tensor) \u001b[39m-\u001b[39m\u001b[39m>\u001b[39m Tensor:\n\u001b[0;32m--> <a href='file:///Users/ronnyschneeberger/Documents/FHNW/FS22/cdl1/activity_tracker/venv/lib/python3.8/site-packages/torch/nn/modules/linear.py?line=102'>103</a>\u001b[0m     \u001b[39mreturn\u001b[39;00m F\u001b[39m.\u001b[39;49mlinear(\u001b[39minput\u001b[39;49m, \u001b[39mself\u001b[39;49m\u001b[39m.\u001b[39;49mweight, \u001b[39mself\u001b[39;49m\u001b[39m.\u001b[39;49mbias)\n",
      "\u001b[0;31mKeyboardInterrupt\u001b[0m: "
     ]
    }
   ],
   "source": [
    "model = CNN(poolingFunction=torch.nn.MaxPool2d, bnFunction=torch.nn.BatchNorm2d, activationFunction=torch.nn.ReLU)\n",
    "loss_hist, model = train(model=model, epochs=20, loader=loaderTrain, optimizer=torch.optim.Adam(model.parameters(), lr=1e-3), criterion=torch.nn.CrossEntropyLoss())\n",
    "evalTest(model=model, testLoader=loaderTest, criterion=torch.nn.CrossEntropyLoss())\n",
    "torch.save(model.state_dict(), \"model3.pt\")\n",
    "plt.plot(loss_hist)"
   ]
  }
 ],
 "metadata": {
  "interpreter": {
   "hash": "0c9bc48c21beab2b0f32e8d101c9520d36e79f2e4cdd41fe4d46a0083fb82e6b"
  },
  "kernelspec": {
   "display_name": "Python 3.8.5 ('venv': venv)",
   "language": "python",
   "name": "python3"
  },
  "language_info": {
   "codemirror_mode": {
    "name": "ipython",
    "version": 3
   },
   "file_extension": ".py",
   "mimetype": "text/x-python",
   "name": "python",
   "nbconvert_exporter": "python",
   "pygments_lexer": "ipython3",
   "version": "3.8.5"
  },
  "orig_nbformat": 4
 },
 "nbformat": 4,
 "nbformat_minor": 2
}
